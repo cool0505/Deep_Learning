{
 "cells": [
  {
   "cell_type": "markdown",
   "metadata": {
    "id": "yTEo1FwHU7-N"
   },
   "source": [
    "# NLP(Natural Language Processing) 기초"
   ]
  },
  {
   "cell_type": "markdown",
   "metadata": {
    "id": "JVDbiN8hVC9H"
   },
   "source": [
    "## word embedding"
   ]
  },
  {
   "cell_type": "markdown",
   "metadata": {
    "id": "HNzDw6qzV05z"
   },
   "source": [
    "### sparse representation"
   ]
  },
  {
   "cell_type": "markdown",
   "metadata": {
    "id": "3tXsATOaYl8R"
   },
   "source": [
    "- ['빨강', '빨강', '파랑']\n",
    "  - binary\n",
    "    ```\n",
    "    [0, 0, 1]\n",
    "    ```\n",
    "  - one-hot encoding \n",
    "    ```\n",
    "    [\n",
    "      [1, 0]\n",
    "      [1, 0]\n",
    "      [0. 1]\n",
    "    ]\n",
    "    ```\n",
    " \n",
    "\n"
   ]
  },
  {
   "cell_type": "code",
   "execution_count": 1,
   "metadata": {},
   "outputs": [
    {
     "name": "stdout",
     "output_type": "stream",
     "text": [
      "Requirement already satisfied: sklearn in c:\\users\\joowo\\anaconda3\\envs\\npl_study\\lib\\site-packages (0.0)\n",
      "Requirement already satisfied: scikit-learn in c:\\users\\joowo\\anaconda3\\envs\\npl_study\\lib\\site-packages (from sklearn) (0.24.0)\n",
      "Requirement already satisfied: numpy>=1.13.3 in c:\\users\\joowo\\anaconda3\\envs\\npl_study\\lib\\site-packages (from scikit-learn->sklearn) (1.19.2)\n",
      "Requirement already satisfied: joblib>=0.11 in c:\\users\\joowo\\anaconda3\\envs\\npl_study\\lib\\site-packages (from scikit-learn->sklearn) (1.0.0)\n",
      "Requirement already satisfied: scipy>=0.19.1 in c:\\users\\joowo\\anaconda3\\envs\\npl_study\\lib\\site-packages (from scikit-learn->sklearn) (1.5.2)\n",
      "Requirement already satisfied: threadpoolctl>=2.0.0 in c:\\users\\joowo\\anaconda3\\envs\\npl_study\\lib\\site-packages (from scikit-learn->sklearn) (2.1.0)\n",
      "Note: you may need to restart the kernel to use updated packages.\n"
     ]
    }
   ],
   "source": [
    "pip install sklearn"
   ]
  },
  {
   "cell_type": "code",
   "execution_count": 2,
   "metadata": {
    "colab": {
     "base_uri": "https://localhost:8080/"
    },
    "id": "aakkMBI9Z6fF",
    "outputId": "8fa14658-adea-4b8f-a43b-da3c8e448835"
   },
   "outputs": [
    {
     "name": "stdout",
     "output_type": "stream",
     "text": [
      "['빨강', '파랑', '노랑', '초록', '노랑', '파랑', '초록', '빨강', '초록', '빨강']\n"
     ]
    }
   ],
   "source": [
    "from numpy import array\n",
    "from numpy import argmax\n",
    "from sklearn.preprocessing import LabelEncoder\n",
    "import numpy as np\n",
    "from keras.utils import to_categorical\n",
    "# define example\n",
    "data = ['빨강', '파랑', '노랑', '초록', '노랑', '파랑', '초록', '빨강', '초록', '빨강']\n",
    "print(data)\n",
    "data = np.array(data)\n",
    "\n",
    "\n",
    "\n"
   ]
  },
  {
   "cell_type": "code",
   "execution_count": 3,
   "metadata": {
    "colab": {
     "base_uri": "https://localhost:8080/"
    },
    "id": "YmB8O7BkeXn6",
    "outputId": "65f08c65-8afe-4225-be11-f31fd1e86c88"
   },
   "outputs": [
    {
     "name": "stdout",
     "output_type": "stream",
     "text": [
      "[1 3 0 2 0 3 2 1 2 1]\n"
     ]
    }
   ],
   "source": [
    "# string to index label\n",
    "label_encoder = LabelEncoder()\n",
    "vec = label_encoder.fit_transform(data)\n",
    "print(vec)"
   ]
  },
  {
   "cell_type": "code",
   "execution_count": 4,
   "metadata": {
    "colab": {
     "base_uri": "https://localhost:8080/"
    },
    "id": "R6FWKLChfBq7",
    "outputId": "79c2ebdd-3768-4e3e-d58c-340f3b001fbc"
   },
   "outputs": [
    {
     "name": "stdout",
     "output_type": "stream",
     "text": [
      "['노랑' '빨강' '초록' '파랑']\n"
     ]
    }
   ],
   "source": [
    "# print label classes\n",
    "print(label_encoder.classes_)"
   ]
  },
  {
   "cell_type": "code",
   "execution_count": 5,
   "metadata": {
    "colab": {
     "base_uri": "https://localhost:8080/"
    },
    "id": "vOOU1oJCeSfn",
    "outputId": "186a6982-45e5-41a1-b749-920914acf292"
   },
   "outputs": [
    {
     "name": "stdout",
     "output_type": "stream",
     "text": [
      "[[0. 1. 0. 0.]\n",
      " [0. 0. 0. 1.]\n",
      " [1. 0. 0. 0.]\n",
      " [0. 0. 1. 0.]\n",
      " [1. 0. 0. 0.]\n",
      " [0. 0. 0. 1.]\n",
      " [0. 0. 1. 0.]\n",
      " [0. 1. 0. 0.]\n",
      " [0. 0. 1. 0.]\n",
      " [0. 1. 0. 0.]]\n"
     ]
    }
   ],
   "source": [
    "# one hot encode\n",
    "encoded = to_categorical(vec)\n",
    "print(encoded)"
   ]
  },
  {
   "cell_type": "code",
   "execution_count": 6,
   "metadata": {
    "colab": {
     "base_uri": "https://localhost:8080/"
    },
    "id": "74HS8dMheL90",
    "outputId": "b108c6c4-f65b-4301-c06c-a436742acc90"
   },
   "outputs": [
    {
     "name": "stdout",
     "output_type": "stream",
     "text": [
      "3\n",
      "['파랑']\n"
     ]
    }
   ],
   "source": [
    "# invert encoding\n",
    "inverted = argmax(encoded[1])\n",
    "print(inverted)\n",
    "inverted_string = label_encoder.inverse_transform([inverted])\n",
    "print(inverted_string)"
   ]
  },
  {
   "cell_type": "markdown",
   "metadata": {
    "id": "ocIMvCnWfq3N"
   },
   "source": [
    "#### 단점\n",
    "- class가 많아지면 표현하기위해서 0이 많아져 데이터 양이 많아지고\n",
    "- 실제 의미있는 데이터는 적어진다.(대량의 0, 그중에 하나만 1)\n",
    "- 단어의 종류가 10,000 개라면 10,000 column 의 array\n",
    "- 단어의 종류가 100,000 개라면 100,000 column의 array \n",
    "- -->sparse representation"
   ]
  },
  {
   "cell_type": "markdown",
   "metadata": {
    "id": "uQkjf-91V3Tj"
   },
   "source": [
    "### dense *representation*"
   ]
  },
  {
   "cell_type": "code",
   "execution_count": 19,
   "metadata": {
    "id": "8eS5YEWCU3tk"
   },
   "outputs": [],
   "source": [
    "# define training data\n",
    "sentences = [['this', 'is', 'the', 'first', 'sentence', 'for', 'word2vec'],\n",
    "\t\t\t['this', 'is', 'the', 'second', 'sentence'],\n",
    "\t\t\t['yet', 'another', 'sentence'],\n",
    "\t\t\t['one', 'more', 'sentence'],\n",
    "\t\t\t['and', 'the', 'final', 'sentence']]"
   ]
  },
  {
   "cell_type": "code",
   "execution_count": 8,
   "metadata": {},
   "outputs": [
    {
     "name": "stdout",
     "output_type": "stream",
     "text": [
      "Requirement already satisfied: gensim in c:\\users\\joowo\\anaconda3\\envs\\npl_study\\lib\\site-packages (3.8.3)\n",
      "Requirement already satisfied: scipy>=0.18.1 in c:\\users\\joowo\\anaconda3\\envs\\npl_study\\lib\\site-packages (from gensim) (1.5.2)\n",
      "Requirement already satisfied: Cython==0.29.14 in c:\\users\\joowo\\anaconda3\\envs\\npl_study\\lib\\site-packages (from gensim) (0.29.14)\n",
      "Requirement already satisfied: six>=1.5.0 in c:\\users\\joowo\\anaconda3\\envs\\npl_study\\lib\\site-packages (from gensim) (1.15.0)\n",
      "Requirement already satisfied: smart-open>=1.8.1 in c:\\users\\joowo\\anaconda3\\envs\\npl_study\\lib\\site-packages (from gensim) (4.1.0)\n",
      "Requirement already satisfied: numpy>=1.11.3 in c:\\users\\joowo\\anaconda3\\envs\\npl_study\\lib\\site-packages (from gensim) (1.19.2)\n",
      "Note: you may need to restart the kernel to use updated packages.\n"
     ]
    }
   ],
   "source": [
    "pip install gensim"
   ]
  },
  {
   "cell_type": "code",
   "execution_count": 20,
   "metadata": {
    "id": "d3pYwiNglzMo"
   },
   "outputs": [],
   "source": [
    "from gensim.models import Word2Vec"
   ]
  },
  {
   "cell_type": "code",
   "execution_count": 21,
   "metadata": {
    "id": "hiVW9BuwgpFJ"
   },
   "outputs": [],
   "source": [
    "model = Word2Vec(sentences, min_count=1, size=100)"
   ]
  },
  {
   "cell_type": "code",
   "execution_count": 22,
   "metadata": {
    "colab": {
     "base_uri": "https://localhost:8080/"
    },
    "id": "7ceSd8YqhwBz",
    "outputId": "a8fb125f-3e0d-410e-ac9d-ba80e88b62a6"
   },
   "outputs": [
    {
     "name": "stdout",
     "output_type": "stream",
     "text": [
      "Word2Vec(vocab=14, size=100, alpha=0.025)\n"
     ]
    }
   ],
   "source": [
    "# summarize the loaded model\n",
    "print(model)"
   ]
  },
  {
   "cell_type": "code",
   "execution_count": 23,
   "metadata": {
    "colab": {
     "base_uri": "https://localhost:8080/"
    },
    "id": "8xOqRgdSg-UN",
    "outputId": "d029d366-c875-4b26-fd8f-5f8426a724ad"
   },
   "outputs": [
    {
     "name": "stdout",
     "output_type": "stream",
     "text": [
      "['this', 'is', 'the', 'first', 'sentence', 'for', 'word2vec', 'second', 'yet', 'another', 'one', 'more', 'and', 'final']\n"
     ]
    }
   ],
   "source": [
    "# summarize vocabulary\n",
    "words = list(model.wv.vocab)\n",
    "print(words)"
   ]
  },
  {
   "cell_type": "code",
   "execution_count": 24,
   "metadata": {
    "colab": {
     "base_uri": "https://localhost:8080/"
    },
    "id": "1MNXCYCChErd",
    "outputId": "634e38dd-cb7f-4dba-db0b-a99c08ae3c1f"
   },
   "outputs": [
    {
     "name": "stdout",
     "output_type": "stream",
     "text": [
      "[ 3.7628093e-03 -6.4514729e-04  4.7596293e-03  4.6271710e-03\n",
      " -1.0343630e-04  3.7984138e-03  1.0133960e-03  1.7062180e-03\n",
      " -4.6832752e-03 -1.8577717e-03  2.8367087e-04  4.4343756e-03\n",
      " -1.9386879e-03 -1.6169924e-03 -4.6516531e-03 -1.4753726e-03\n",
      "  4.6808822e-03  2.7973813e-04 -4.2185239e-03  2.0670197e-03\n",
      "  3.4478041e-03  4.3703625e-03 -2.3618925e-03 -1.9209324e-04\n",
      " -7.8561163e-05 -3.2411749e-03  2.7641959e-03  2.6829082e-03\n",
      " -2.9517368e-03 -5.8560807e-04  1.9933137e-03  8.7129237e-04\n",
      "  2.8167316e-03 -2.5714755e-03 -1.7587476e-03 -3.4136508e-04\n",
      "  6.0670188e-04 -4.1815722e-03 -1.7030843e-03  4.1581015e-03\n",
      "  3.0263388e-03 -2.5548271e-03 -1.9951547e-03  2.2485005e-03\n",
      " -1.5132084e-03  2.3849858e-03  1.8649350e-03  1.8657795e-03\n",
      " -4.8132188e-04 -3.7121701e-03 -3.4751631e-03  2.5367942e-03\n",
      " -4.6203090e-03  3.7400427e-03 -8.0364151e-04  3.0514649e-03\n",
      " -4.3437108e-03 -3.0434642e-03 -4.1925609e-03 -4.4325944e-03\n",
      " -9.3489600e-04  3.1448826e-03 -2.4915058e-03  7.2420225e-04\n",
      "  3.8888310e-03 -2.4728854e-03  2.2423971e-03 -3.2919871e-03\n",
      "  6.4110663e-04 -3.3422196e-03 -1.4681197e-03  8.6180092e-04\n",
      "  4.7954284e-03 -4.1371710e-03 -6.6273438e-05 -2.3694229e-03\n",
      " -2.6657458e-03 -3.3004773e-03 -3.7874281e-03 -2.1371304e-03\n",
      "  3.0072990e-03  1.2121929e-03 -4.2546475e-03 -3.9829826e-03\n",
      " -3.6571806e-04  1.2095690e-03  4.4392790e-03 -4.2509888e-03\n",
      " -4.9461205e-03  2.9346026e-03  4.2383280e-03  1.7504595e-03\n",
      "  3.6032391e-03  4.9759005e-03 -1.8078808e-04  4.7641556e-04\n",
      "  2.6225778e-03 -3.5095050e-03  3.7064163e-03 -4.1466965e-03]\n"
     ]
    },
    {
     "name": "stderr",
     "output_type": "stream",
     "text": [
      "C:\\Users\\joowo\\Anaconda3\\envs\\npl_study\\lib\\site-packages\\ipykernel_launcher.py:2: DeprecationWarning: Call to deprecated `__getitem__` (Method will be removed in 4.0.0, use self.wv.__getitem__() instead).\n",
      "  \n"
     ]
    }
   ],
   "source": [
    "# access vector for one word\n",
    "print(model['sentence'])"
   ]
  },
  {
   "cell_type": "code",
   "execution_count": 25,
   "metadata": {
    "colab": {
     "base_uri": "https://localhost:8080/"
    },
    "id": "3aFTPkplh0vs",
    "outputId": "9ea5dcb3-edfe-4023-da46-2aaa81c28f17"
   },
   "outputs": [
    {
     "name": "stdout",
     "output_type": "stream",
     "text": [
      "Word2Vec(vocab=14, size=100, alpha=0.025)\n"
     ]
    }
   ],
   "source": [
    "# save model\n",
    "model.save('model.w2v')\n",
    "# load model\n",
    "new_model = Word2Vec.load('model.w2v')\n",
    "print(new_model)"
   ]
  },
  {
   "cell_type": "code",
   "execution_count": 26,
   "metadata": {
    "colab": {
     "base_uri": "https://localhost:8080/"
    },
    "id": "tZC8kjLjh8QM",
    "outputId": "ad903266-fd90-4494-e143-507e1502f5c0"
   },
   "outputs": [
    {
     "name": "stderr",
     "output_type": "stream",
     "text": [
      "C:\\Users\\joowo\\Anaconda3\\envs\\npl_study\\lib\\site-packages\\ipykernel_launcher.py:1: DeprecationWarning: Call to deprecated `__getitem__` (Method will be removed in 4.0.0, use self.wv.__getitem__() instead).\n",
      "  \"\"\"Entry point for launching an IPython kernel.\n"
     ]
    }
   ],
   "source": [
    "X = model[model.wv.vocab]"
   ]
  },
  {
   "cell_type": "code",
   "execution_count": 27,
   "metadata": {
    "id": "9mnf2s26ibCy"
   },
   "outputs": [],
   "source": [
    "from sklearn.decomposition import PCA\n",
    "pca = PCA(n_components=2)\n",
    "result = pca.fit_transform(X)"
   ]
  },
  {
   "cell_type": "markdown",
   "metadata": {
    "id": "GucJ9mU1wv1w"
   },
   "source": [
    "- 아래 코드를 수행하기 전에 하단의 한글폰트 설치"
   ]
  },
  {
   "cell_type": "code",
   "execution_count": 17,
   "metadata": {
    "colab": {
     "base_uri": "https://localhost:8080/",
     "height": 265
    },
    "id": "z6Fb8QDaieoO",
    "outputId": "d298609a-148d-49a8-bc85-423b94168d27"
   },
   "outputs": [],
   "source": [
    "# from matplotlib import pyplot\n",
    "# pyplot.scatter(result[:, 0], result[:, 1])\n",
    "# words = list(model.wv.vocab)\n",
    "# for i, word in enumerate(words):\n",
    "# \tpyplot.annotate(word, xy=(result[i, 0], result[i, 1]))\n",
    "# pyplot.show()"
   ]
  },
  {
   "cell_type": "code",
   "execution_count": 28,
   "metadata": {
    "colab": {
     "base_uri": "https://localhost:8080/"
    },
    "id": "JCgB8YAwkbR8",
    "outputId": "a22c6458-615b-4b09-8248-6cb721677306"
   },
   "outputs": [
    {
     "data": {
      "text/plain": [
       "['sentence',\n",
       " 'the',\n",
       " 'this',\n",
       " 'is',\n",
       " 'first',\n",
       " 'for',\n",
       " 'word2vec',\n",
       " 'second',\n",
       " 'yet',\n",
       " 'another',\n",
       " 'one',\n",
       " 'more',\n",
       " 'and',\n",
       " 'final']"
      ]
     },
     "execution_count": 28,
     "metadata": {},
     "output_type": "execute_result"
    }
   ],
   "source": [
    "model.wv.index2word"
   ]
  },
  {
   "cell_type": "code",
   "execution_count": 29,
   "metadata": {
    "colab": {
     "base_uri": "https://localhost:8080/"
    },
    "id": "DT6jr_cyisDd",
    "outputId": "fd546d36-436a-4837-c838-6088e4ce7f3b"
   },
   "outputs": [
    {
     "name": "stdout",
     "output_type": "stream",
     "text": [
      "[('first', 0.16264444589614868), ('sentence', 0.11333490908145905), ('yet', 0.09136337041854858), ('more', 0.07665557414293289), ('this', 0.048527803272008896), ('for', 0.03813714534044266), ('the', 0.0018261447548866272), ('is', -0.06647493690252304), ('another', -0.06770683079957962), ('second', -0.06996988505125046)]\n"
     ]
    }
   ],
   "source": [
    "result = model.wv.most_similar('one')\n",
    "print(result)"
   ]
  },
  {
   "cell_type": "code",
   "execution_count": 30,
   "metadata": {
    "colab": {
     "base_uri": "https://localhost:8080/"
    },
    "id": "rSSAPIspjmWS",
    "outputId": "e6c3c37c-0d53-4294-9780-43f96b890908"
   },
   "outputs": [
    {
     "data": {
      "text/plain": [
       "[('first', 0.16264444589614868),\n",
       " ('sentence', 0.11333490908145905),\n",
       " ('yet', 0.09136337041854858),\n",
       " ('more', 0.07665557414293289),\n",
       " ('this', 0.048527803272008896),\n",
       " ('for', 0.03813714534044266),\n",
       " ('the', 0.0018261447548866272),\n",
       " ('is', -0.06647493690252304),\n",
       " ('another', -0.06770683079957962),\n",
       " ('second', -0.06996988505125046)]"
      ]
     },
     "execution_count": 30,
     "metadata": {},
     "output_type": "execute_result"
    }
   ],
   "source": [
    "result"
   ]
  },
  {
   "cell_type": "markdown",
   "metadata": {
    "id": "QOvOQUp3sx1I"
   },
   "source": [
    "## String Tokenizer\n",
    "Tokenizes a string based on delimiters (separators) and supporting quoting and ignored character concepts."
   ]
  },
  {
   "cell_type": "code",
   "execution_count": 31,
   "metadata": {
    "id": "5Vn6ywu-jnYN"
   },
   "outputs": [],
   "source": [
    "sample_string = \"\"\"Can a nostalgia-packed superhero flick convince people to leave their couches and head to the cinemas? “Wonder Woman 1984” seeks to answer that question.\n",
    "\n",
    "Movie theater owners are hopeful that the “Wonder Woman” sequel, which arrives Christmas Day, will lure a key demographic back to cinemas despite continued surges in coronavirus cases.\"\"\""
   ]
  },
  {
   "cell_type": "markdown",
   "metadata": {
    "id": "qlQPg7OFhmYg"
   },
   "source": [
    "### Space Tokenizer\n",
    "[사용법](https://www.nltk.org/api/nltk.tokenize.html#nltk.tokenize.simple.SpaceTokenizer)"
   ]
  },
  {
   "cell_type": "code",
   "execution_count": 32,
   "metadata": {},
   "outputs": [
    {
     "name": "stdout",
     "output_type": "stream",
     "text": [
      "Requirement already satisfied: nltk in c:\\users\\joowo\\anaconda3\\envs\\npl_study\\lib\\site-packages (3.5)\n",
      "Requirement already satisfied: click in c:\\users\\joowo\\anaconda3\\envs\\npl_study\\lib\\site-packages (from nltk) (7.1.2)\n",
      "Requirement already satisfied: joblib in c:\\users\\joowo\\anaconda3\\envs\\npl_study\\lib\\site-packages (from nltk) (1.0.0)\n",
      "Requirement already satisfied: tqdm in c:\\users\\joowo\\anaconda3\\envs\\npl_study\\lib\\site-packages (from nltk) (4.56.0)\n",
      "Requirement already satisfied: regex in c:\\users\\joowo\\anaconda3\\envs\\npl_study\\lib\\site-packages (from nltk) (2020.11.13)\n",
      "Note: you may need to restart the kernel to use updated packages.\n"
     ]
    },
    {
     "name": "stderr",
     "output_type": "stream",
     "text": [
      "WARNING: Error parsing requirements for jpype1: [Errno 2] No such file or directory: 'c:\\\\users\\\\joowo\\\\anaconda3\\\\envs\\\\npl_study\\\\lib\\\\site-packages\\\\JPype1-1.2.1.dist-info\\\\METADATA'\n"
     ]
    }
   ],
   "source": [
    "pip install nltk"
   ]
  },
  {
   "cell_type": "code",
   "execution_count": 33,
   "metadata": {
    "colab": {
     "base_uri": "https://localhost:8080/"
    },
    "id": "-CLoJIPMu5wE",
    "outputId": "64308824-a020-4b11-adc8-f59ce5890c4d"
   },
   "outputs": [
    {
     "data": {
      "text/plain": [
       "['Can',\n",
       " 'a',\n",
       " 'nostalgia-packed',\n",
       " 'superhero',\n",
       " 'flick',\n",
       " 'convince',\n",
       " 'people',\n",
       " 'to',\n",
       " 'leave',\n",
       " 'their',\n",
       " 'couches',\n",
       " 'and',\n",
       " 'head',\n",
       " 'to',\n",
       " 'the',\n",
       " 'cinemas?',\n",
       " '“Wonder',\n",
       " 'Woman',\n",
       " '1984”',\n",
       " 'seeks',\n",
       " 'to',\n",
       " 'answer',\n",
       " 'that',\n",
       " 'question.\\n\\nMovie',\n",
       " 'theater',\n",
       " 'owners',\n",
       " 'are',\n",
       " 'hopeful',\n",
       " 'that',\n",
       " 'the',\n",
       " '“Wonder',\n",
       " 'Woman”',\n",
       " 'sequel,',\n",
       " 'which',\n",
       " 'arrives',\n",
       " 'Christmas',\n",
       " 'Day,',\n",
       " 'will',\n",
       " 'lure',\n",
       " 'a',\n",
       " 'key',\n",
       " 'demographic',\n",
       " 'back',\n",
       " 'to',\n",
       " 'cinemas',\n",
       " 'despite',\n",
       " 'continued',\n",
       " 'surges',\n",
       " 'in',\n",
       " 'coronavirus',\n",
       " 'cases.']"
      ]
     },
     "execution_count": 33,
     "metadata": {},
     "output_type": "execute_result"
    }
   ],
   "source": [
    "from nltk.tokenize import SpaceTokenizer\n",
    "SpaceTokenizer().tokenize(sample_string)\n"
   ]
  },
  {
   "cell_type": "markdown",
   "metadata": {
    "id": "IPTzkQwFhCmU"
   },
   "source": [
    "### word tokenizer\n",
    "[사용법](https://www.nltk.org/api/nltk.tokenize.html#module-nltk.tokenize)"
   ]
  },
  {
   "cell_type": "code",
   "execution_count": 34,
   "metadata": {
    "colab": {
     "base_uri": "https://localhost:8080/"
    },
    "id": "7R6fvz_wvLwu",
    "outputId": "a00832a8-2713-4079-ccb3-63e49ef5ea3c"
   },
   "outputs": [
    {
     "data": {
      "text/plain": [
       "['Can',\n",
       " 'a',\n",
       " 'nostalgia-packed',\n",
       " 'superhero',\n",
       " 'flick',\n",
       " 'convince',\n",
       " 'people',\n",
       " 'to',\n",
       " 'leave',\n",
       " 'their',\n",
       " 'couches',\n",
       " 'and',\n",
       " 'head',\n",
       " 'to',\n",
       " 'the',\n",
       " 'cinemas',\n",
       " '?',\n",
       " '“',\n",
       " 'Wonder',\n",
       " 'Woman',\n",
       " '1984',\n",
       " '”',\n",
       " 'seeks',\n",
       " 'to',\n",
       " 'answer',\n",
       " 'that',\n",
       " 'question',\n",
       " '.',\n",
       " 'Movie',\n",
       " 'theater',\n",
       " 'owners',\n",
       " 'are',\n",
       " 'hopeful',\n",
       " 'that',\n",
       " 'the',\n",
       " '“',\n",
       " 'Wonder',\n",
       " 'Woman',\n",
       " '”',\n",
       " 'sequel',\n",
       " ',',\n",
       " 'which',\n",
       " 'arrives',\n",
       " 'Christmas',\n",
       " 'Day',\n",
       " ',',\n",
       " 'will',\n",
       " 'lure',\n",
       " 'a',\n",
       " 'key',\n",
       " 'demographic',\n",
       " 'back',\n",
       " 'to',\n",
       " 'cinemas',\n",
       " 'despite',\n",
       " 'continued',\n",
       " 'surges',\n",
       " 'in',\n",
       " 'coronavirus',\n",
       " 'cases',\n",
       " '.']"
      ]
     },
     "execution_count": 34,
     "metadata": {},
     "output_type": "execute_result"
    }
   ],
   "source": [
    "from nltk.tokenize import word_tokenize\n",
    "word_tokenize(sample_string)"
   ]
  },
  {
   "cell_type": "code",
   "execution_count": 25,
   "metadata": {
    "colab": {
     "base_uri": "https://localhost:8080/"
    },
    "id": "6vG9sO0ky5_P",
    "outputId": "20af00a3-3eec-4a77-90b6-71b16d79443b"
   },
   "outputs": [
    {
     "name": "stderr",
     "output_type": "stream",
     "text": [
      "[nltk_data] Downloading package punkt to\n",
      "[nltk_data]     C:\\Users\\joowo\\AppData\\Roaming\\nltk_data...\n",
      "[nltk_data]   Package punkt is already up-to-date!\n"
     ]
    },
    {
     "data": {
      "text/plain": [
       "True"
      ]
     },
     "execution_count": 25,
     "metadata": {},
     "output_type": "execute_result"
    }
   ],
   "source": [
    "import nltk\n",
    "nltk.download('punkt')"
   ]
  },
  {
   "cell_type": "code",
   "execution_count": 26,
   "metadata": {
    "colab": {
     "base_uri": "https://localhost:8080/"
    },
    "id": "uz8PwwMzzMQh",
    "outputId": "f483ae70-2303-4d03-94e6-5ca180104080"
   },
   "outputs": [
    {
     "data": {
      "text/plain": [
       "['Can',\n",
       " 'a',\n",
       " 'nostalgia-packed',\n",
       " 'superhero',\n",
       " 'flick',\n",
       " 'convince',\n",
       " 'people',\n",
       " 'to',\n",
       " 'leave',\n",
       " 'their',\n",
       " 'couches',\n",
       " 'and',\n",
       " 'head',\n",
       " 'to',\n",
       " 'the',\n",
       " 'cinemas',\n",
       " '?',\n",
       " '“',\n",
       " 'Wonder',\n",
       " 'Woman',\n",
       " '1984',\n",
       " '”',\n",
       " 'seeks',\n",
       " 'to',\n",
       " 'answer',\n",
       " 'that',\n",
       " 'question',\n",
       " '.',\n",
       " 'Movie',\n",
       " 'theater',\n",
       " 'owners',\n",
       " 'are',\n",
       " 'hopeful',\n",
       " 'that',\n",
       " 'the',\n",
       " '“',\n",
       " 'Wonder',\n",
       " 'Woman',\n",
       " '”',\n",
       " 'sequel',\n",
       " ',',\n",
       " 'which',\n",
       " 'arrives',\n",
       " 'Christmas',\n",
       " 'Day',\n",
       " ',',\n",
       " 'will',\n",
       " 'lure',\n",
       " 'a',\n",
       " 'key',\n",
       " 'demographic',\n",
       " 'back',\n",
       " 'to',\n",
       " 'cinemas',\n",
       " 'despite',\n",
       " 'continued',\n",
       " 'surges',\n",
       " 'in',\n",
       " 'coronavirus',\n",
       " 'cases',\n",
       " '.']"
      ]
     },
     "execution_count": 26,
     "metadata": {},
     "output_type": "execute_result"
    }
   ],
   "source": [
    "from nltk.tokenize import word_tokenize\n",
    "word_tokenize(sample_string)"
   ]
  },
  {
   "cell_type": "markdown",
   "metadata": {
    "id": "QbJgfURYzjX-"
   },
   "source": [
    "### 한글"
   ]
  },
  {
   "cell_type": "code",
   "execution_count": 27,
   "metadata": {
    "id": "XU244bCYz76D"
   },
   "outputs": [],
   "source": [
    "korean_string = \"일본의 소행성 탐사선 하야부사 2호가 소행성 ‘류구’에서 채취한 표본(흙)의 새로운 사진이 공개됐다. 최근 일본 우주항공연구개발기구(JAXA)는 최대 1cm에 달하는 검은 표본을 포함 지금까지 1mm이상의 검은 입자가 다수 발견됐다고 밝혔다. 하야부사 2호가 류구에서 가져온 표본은 총 5.4g 정도로 이는 목표치의 50배가 넘는다.\""
   ]
  },
  {
   "cell_type": "code",
   "execution_count": 28,
   "metadata": {
    "colab": {
     "base_uri": "https://localhost:8080/"
    },
    "id": "0WJujwk-z98H",
    "outputId": "e99e8c85-14b2-4f0c-823e-eccb0d329dd1"
   },
   "outputs": [
    {
     "data": {
      "text/plain": [
       "['일본의',\n",
       " '소행성',\n",
       " '탐사선',\n",
       " '하야부사',\n",
       " '2호가',\n",
       " '소행성',\n",
       " '‘류구’에서',\n",
       " '채취한',\n",
       " '표본(흙)의',\n",
       " '새로운',\n",
       " '사진이',\n",
       " '공개됐다.',\n",
       " '최근',\n",
       " '일본',\n",
       " '우주항공연구개발기구(JAXA)는',\n",
       " '최대',\n",
       " '1cm에',\n",
       " '달하는',\n",
       " '검은',\n",
       " '표본을',\n",
       " '포함',\n",
       " '지금까지',\n",
       " '1mm이상의',\n",
       " '검은',\n",
       " '입자가',\n",
       " '다수',\n",
       " '발견됐다고',\n",
       " '밝혔다.',\n",
       " '하야부사',\n",
       " '2호가',\n",
       " '류구에서',\n",
       " '가져온',\n",
       " '표본은',\n",
       " '총',\n",
       " '5.4g',\n",
       " '정도로',\n",
       " '이는',\n",
       " '목표치의',\n",
       " '50배가',\n",
       " '넘는다.']"
      ]
     },
     "execution_count": 28,
     "metadata": {},
     "output_type": "execute_result"
    }
   ],
   "source": [
    "from nltk.tokenize import SpaceTokenizer\n",
    "SpaceTokenizer().tokenize(korean_string)"
   ]
  },
  {
   "cell_type": "code",
   "execution_count": 29,
   "metadata": {
    "colab": {
     "base_uri": "https://localhost:8080/"
    },
    "id": "z6FvLMfW0CSa",
    "outputId": "c70c6c75-9158-46cc-a269-1bdb35b6b309"
   },
   "outputs": [
    {
     "data": {
      "text/plain": [
       "['일본의',\n",
       " '소행성',\n",
       " '탐사선',\n",
       " '하야부사',\n",
       " '2호가',\n",
       " '소행성',\n",
       " '‘',\n",
       " '류구',\n",
       " '’',\n",
       " '에서',\n",
       " '채취한',\n",
       " '표본',\n",
       " '(',\n",
       " '흙',\n",
       " ')',\n",
       " '의',\n",
       " '새로운',\n",
       " '사진이',\n",
       " '공개됐다',\n",
       " '.',\n",
       " '최근',\n",
       " '일본',\n",
       " '우주항공연구개발기구',\n",
       " '(',\n",
       " 'JAXA',\n",
       " ')',\n",
       " '는',\n",
       " '최대',\n",
       " '1cm에',\n",
       " '달하는',\n",
       " '검은',\n",
       " '표본을',\n",
       " '포함',\n",
       " '지금까지',\n",
       " '1mm이상의',\n",
       " '검은',\n",
       " '입자가',\n",
       " '다수',\n",
       " '발견됐다고',\n",
       " '밝혔다',\n",
       " '.',\n",
       " '하야부사',\n",
       " '2호가',\n",
       " '류구에서',\n",
       " '가져온',\n",
       " '표본은',\n",
       " '총',\n",
       " '5.4g',\n",
       " '정도로',\n",
       " '이는',\n",
       " '목표치의',\n",
       " '50배가',\n",
       " '넘는다',\n",
       " '.']"
      ]
     },
     "execution_count": 29,
     "metadata": {},
     "output_type": "execute_result"
    }
   ],
   "source": [
    "from nltk.tokenize import word_tokenize\n",
    "word_tokenize(korean_string)"
   ]
  },
  {
   "cell_type": "markdown",
   "metadata": {
    "id": "IN9grqls0Vpw"
   },
   "source": [
    "<p><img alt=\"Colaboratory logo\" height=\"45px\" src=\"https://konlpy.org/en/latest/_static/konlpy.png\" align=\"left\" hspace=\"10px\" vspace=\"0px\"></p>\n",
    "\n",
    "## KoNLPy 한국어 형태소 분석기\n",
    "- Hannanum\n",
    "- Kkma\n",
    "- Komoran\n",
    "- Mecab\n",
    "- Okt(Twitter)\n",
    "\n",
    "[성능비교](https://passerby14.tistory.com/3)"
   ]
  },
  {
   "cell_type": "code",
   "execution_count": 3,
   "metadata": {
    "id": "5Oq2UKjg0Gm8"
   },
   "outputs": [],
   "source": [
    "korean_string = \"일본의 소행성 탐사선 하야부사 2호가 소행성 ‘류구’에서 채취한 표본(흙)의 새로운 사진이 공개됐다. 최근 일본 우주항공연구개발기구(JAXA)는 최대 1cm에 달하는 검은 표본을 포함 지금까지 1mm이상의 검은 입자가 다수 발견됐다고 밝혔다. 하야부사 2호가 류구에서 가져온 표본은 총 5.4g 정도로 이는 목표치의 50배가 넘는다.\""
   ]
  },
  {
   "cell_type": "markdown",
   "metadata": {
    "id": "76cBCqfXgY--"
   },
   "source": [
    "### KoNLPy install\n",
    "[KoNLPy 설치](https://konlpy-ko.readthedocs.io/ko/v0.4.4/install/)"
   ]
  },
  {
   "cell_type": "markdown",
   "metadata": {
    "id": "LFP21yr7ghmt"
   },
   "source": [
    "### Okt(Twitter)\n",
    "[사용법](https://konlpy-ko.readthedocs.io/ko/v0.4.4/api/konlpy.tag/#module-konlpy.tag._twitter)"
   ]
  },
  {
   "cell_type": "code",
   "execution_count": 4,
   "metadata": {
    "id": "HBi6vU662CW4"
   },
   "outputs": [],
   "source": [
    "from konlpy.tag import Okt\n",
    "okt = Okt()"
   ]
  },
  {
   "cell_type": "code",
   "execution_count": 5,
   "metadata": {
    "colab": {
     "base_uri": "https://localhost:8080/"
    },
    "id": "scRwN0Zy28FE",
    "outputId": "b4af65a2-7f60-4ed1-fb49-6cb417ddb998"
   },
   "outputs": [
    {
     "data": {
      "text/plain": [
       "['일본',\n",
       " '일본의 소행성',\n",
       " '일본의 소행성 탐사선',\n",
       " '일본의 소행성 탐사선 하야부사',\n",
       " '일본의 소행성 탐사선 하야부사 2호가',\n",
       " '일본의 소행성 탐사선 하야부사 2호가 소행성',\n",
       " '류구',\n",
       " '채취',\n",
       " '표본',\n",
       " '의 새로운 사진',\n",
       " '공개',\n",
       " '최근',\n",
       " '최근 일본',\n",
       " '최근 일본 우주항공연구개발기구',\n",
       " 'JAXA',\n",
       " '최대',\n",
       " '최대 1cm',\n",
       " '달하는 검은 표본',\n",
       " '포함',\n",
       " '포함 지금',\n",
       " '1mm이상',\n",
       " '1mm이상의 검은 입자',\n",
       " '다수',\n",
       " '다수 발견',\n",
       " '하야부사',\n",
       " '하야부사 2호가',\n",
       " '하야부사 2호가 류구',\n",
       " '총 5.4g',\n",
       " '총 5.4g 정도',\n",
       " '목표치의',\n",
       " '목표치의 50배',\n",
       " '소행성',\n",
       " '탐사선',\n",
       " '호가',\n",
       " '사진',\n",
       " '우주',\n",
       " '항공',\n",
       " '연구개발',\n",
       " '기구',\n",
       " '1cm',\n",
       " '지금',\n",
       " '1mm',\n",
       " '이상',\n",
       " '입자',\n",
       " '발견',\n",
       " '5.4g',\n",
       " '정도',\n",
       " '목표',\n",
       " '치의',\n",
       " '50']"
      ]
     },
     "execution_count": 5,
     "metadata": {},
     "output_type": "execute_result"
    }
   ],
   "source": [
    "# 어절\n",
    "okt.phrases(korean_string)"
   ]
  },
  {
   "cell_type": "code",
   "execution_count": 6,
   "metadata": {
    "colab": {
     "base_uri": "https://localhost:8080/"
    },
    "id": "3o7-Fo4v3D-1",
    "outputId": "daca2a17-4e6e-48fb-e4e7-cf683b7dd799"
   },
   "outputs": [
    {
     "data": {
      "text/plain": [
       "['일본',\n",
       " '의',\n",
       " '소행성',\n",
       " '탐사선',\n",
       " '하야부사',\n",
       " '2',\n",
       " '호가',\n",
       " '소행성',\n",
       " '‘',\n",
       " '류구',\n",
       " '’',\n",
       " '에서',\n",
       " '채취',\n",
       " '한',\n",
       " '표본',\n",
       " '(',\n",
       " '흙',\n",
       " ')',\n",
       " '의',\n",
       " '새로운',\n",
       " '사진',\n",
       " '이',\n",
       " '공개',\n",
       " '됐다',\n",
       " '.',\n",
       " '최근',\n",
       " '일본',\n",
       " '우주',\n",
       " '항공',\n",
       " '연구개발',\n",
       " '기구',\n",
       " '(',\n",
       " 'JAXA',\n",
       " ')',\n",
       " '는',\n",
       " '최대',\n",
       " '1',\n",
       " 'cm',\n",
       " '에',\n",
       " '달',\n",
       " '하는',\n",
       " '검은',\n",
       " '표본',\n",
       " '을',\n",
       " '포함',\n",
       " '지금',\n",
       " '까지',\n",
       " '1',\n",
       " 'mm',\n",
       " '이상',\n",
       " '의',\n",
       " '검은',\n",
       " '입자',\n",
       " '가',\n",
       " '다수',\n",
       " '발견',\n",
       " '됐다고',\n",
       " '밝혔다',\n",
       " '.',\n",
       " '하야부사',\n",
       " '2',\n",
       " '호가',\n",
       " '류구',\n",
       " '에서',\n",
       " '가져온',\n",
       " '표본',\n",
       " '은',\n",
       " '총',\n",
       " '5.4',\n",
       " 'g',\n",
       " '정도',\n",
       " '로',\n",
       " '이는',\n",
       " '목표',\n",
       " '치의',\n",
       " '50',\n",
       " '배',\n",
       " '가',\n",
       " '넘는다',\n",
       " '.']"
      ]
     },
     "execution_count": 6,
     "metadata": {},
     "output_type": "execute_result"
    }
   ],
   "source": [
    "# 형태소\n",
    "okt.morphs(korean_string)"
   ]
  },
  {
   "cell_type": "code",
   "execution_count": 7,
   "metadata": {
    "colab": {
     "base_uri": "https://localhost:8080/"
    },
    "id": "nel7P92y3gtO",
    "outputId": "7f5b50d2-9eca-4b03-a650-3d37b327aacb"
   },
   "outputs": [
    {
     "data": {
      "text/plain": [
       "['일본',\n",
       " '소행성',\n",
       " '탐사선',\n",
       " '하야부사',\n",
       " '호가',\n",
       " '소행성',\n",
       " '류구',\n",
       " '채취',\n",
       " '표본',\n",
       " '흙',\n",
       " '의',\n",
       " '사진',\n",
       " '공개',\n",
       " '최근',\n",
       " '일본',\n",
       " '우주',\n",
       " '항공',\n",
       " '연구개발',\n",
       " '기구',\n",
       " '최대',\n",
       " '달',\n",
       " '표본',\n",
       " '포함',\n",
       " '지금',\n",
       " '이상',\n",
       " '입자',\n",
       " '다수',\n",
       " '발견',\n",
       " '하야부사',\n",
       " '호가',\n",
       " '류구',\n",
       " '표본',\n",
       " '총',\n",
       " '정도',\n",
       " '목표',\n",
       " '치의',\n",
       " '배']"
      ]
     },
     "execution_count": 7,
     "metadata": {},
     "output_type": "execute_result"
    }
   ],
   "source": [
    "# 명사\n",
    "okt.nouns(korean_string)"
   ]
  },
  {
   "cell_type": "markdown",
   "metadata": {
    "id": "B1-j6Kxwj8xF"
   },
   "source": [
    "## 형태소분석기를 통한 word2vec"
   ]
  },
  {
   "cell_type": "code",
   "execution_count": 8,
   "metadata": {
    "id": "MrSdWf2LgL1a"
   },
   "outputs": [],
   "source": [
    "# 원문 : https://news.naver.com/main/read.nhn?mode=LSD&mid=shm&sid1=105&oid=081&aid=0003150845\n",
    "news_string = \"\"\"일본의 소행성 탐사선 하야부사 2호가 소행성 ‘류구’에서 채취한 표본(흙)의 새로운 사진이 공개됐다. 최근 일본 우주항공연구개발기구(JAXA)는 최대 1cm에 달하는 검은 표본을 포함 지금까지 1mm이상의 검은 입자가 다수 발견됐다고 밝혔다. 하야부사 2호가 류구에서 가져온 표본은 총 5.4g 정도로 이는 목표치의 50배가 넘는다.\n",
    "\n",
    "지난 24일 JAXA가 공개한 류구의 표본을 보면 마치 숯덩이로 가득 차 있는듯 보이는데 이는 광학현미경으로 촬영됐기 때문이다.\n",
    "\n",
    "우리말로 ‘송골매’라는 뜻을 가진 하야부사 2호는 세계 처음으로 소행성 ‘이토카와’의 미립자를 가져온 하야부사의 문제점을 보완, 개발해 지난 2014년 12월 발사됐다. 이후 하야부사 2호는 지난해 7월 지구에서 약 3억4000만㎞ 떨어진 소행성 류구에 접근해 금속탄환으로 웅덩이를 만든 뒤 내부 물질을 채취하는 데 성공했다.\n",
    "\n",
    "일본 우주항공연구개발기구(JAXA) 요원이 6일 호주 사우스 오스트레일리아주 우메라 사막지대에 떨어진 소행성 류구의 내부물질을 담은 캡슐을 회수해 옮기고 있다.JAXA 제공 AP 연합뉴스\n",
    "같은 해 11월 류구를 출발해 다시 지구로 향한 하야부사 2호는 지난 5일 채취한 표본이 담긴 캡슐을 분리해 호주 서부 사막에 떨어뜨리고 새 탐사지인 지구와 화성 사이를 도는 소행성 '1998KY26'으로 향했다.\n",
    "\n",
    "하야부사 2호가 6년 동안 비행한 거리는 52억㎞로 이는 지구와 달 사이 평균거리에 1만3500배에 달한다.\n",
    "\n",
    "하야부사 2호가 탐사한 류구는 수많은 바위와 돌로 가득한 소행성으로 지름은 870m, 공전주기는 475일, 자전주기는 7.5시간이다. 특히 태양계 형성 당시의 물질이 고스란히 남아있을 것으로 추정돼 연구가치가 매우 높다. 곧 이번에 탐사선이 가져온 표본에는 태양계와 지구 탄생의 비밀을 풀어줄 단서가 담겨있을 수 있다.\n",
    "\"\"\""
   ]
  },
  {
   "cell_type": "code",
   "execution_count": 9,
   "metadata": {
    "colab": {
     "base_uri": "https://localhost:8080/"
    },
    "id": "Y37YV_6Hjhgj",
    "outputId": "9e653f7a-934e-4418-f888-70c791534e0b"
   },
   "outputs": [
    {
     "data": {
      "text/plain": [
       "['일본의 소행성 탐사선 하야부사 2호가 소행성 ‘류구’에서 채취한 표본(흙)의 새로운 사진이 공개됐다. 최근 일본 우주항공연구개발기구(JAXA)는 최대 1cm에 달하는 검은 표본을 포함 지금까지 1mm이상의 검은 입자가 다수 발견됐다고 밝혔다. 하야부사 2호가 류구에서 가져온 표본은 총 5.4g 정도로 이는 목표치의 50배가 넘는다.',\n",
       " '',\n",
       " '지난 24일 JAXA가 공개한 류구의 표본을 보면 마치 숯덩이로 가득 차 있는듯 보이는데 이는 광학현미경으로 촬영됐기 때문이다.',\n",
       " '',\n",
       " '우리말로 ‘송골매’라는 뜻을 가진 하야부사 2호는 세계 처음으로 소행성 ‘이토카와’의 미립자를 가져온 하야부사의 문제점을 보완, 개발해 지난 2014년 12월 발사됐다. 이후 하야부사 2호는 지난해 7월 지구에서 약 3억4000만㎞ 떨어진 소행성 류구에 접근해 금속탄환으로 웅덩이를 만든 뒤 내부 물질을 채취하는 데 성공했다.',\n",
       " '',\n",
       " '일본 우주항공연구개발기구(JAXA) 요원이 6일 호주 사우스 오스트레일리아주 우메라 사막지대에 떨어진 소행성 류구의 내부물질을 담은 캡슐을 회수해 옮기고 있다.JAXA 제공 AP 연합뉴스',\n",
       " \"같은 해 11월 류구를 출발해 다시 지구로 향한 하야부사 2호는 지난 5일 채취한 표본이 담긴 캡슐을 분리해 호주 서부 사막에 떨어뜨리고 새 탐사지인 지구와 화성 사이를 도는 소행성 '1998KY26'으로 향했다.\",\n",
       " '',\n",
       " '하야부사 2호가 6년 동안 비행한 거리는 52억㎞로 이는 지구와 달 사이 평균거리에 1만3500배에 달한다.',\n",
       " '',\n",
       " '하야부사 2호가 탐사한 류구는 수많은 바위와 돌로 가득한 소행성으로 지름은 870m, 공전주기는 475일, 자전주기는 7.5시간이다. 특히 태양계 형성 당시의 물질이 고스란히 남아있을 것으로 추정돼 연구가치가 매우 높다. 곧 이번에 탐사선이 가져온 표본에는 태양계와 지구 탄생의 비밀을 풀어줄 단서가 담겨있을 수 있다.']"
      ]
     },
     "execution_count": 9,
     "metadata": {},
     "output_type": "execute_result"
    }
   ],
   "source": [
    "news_list = news_string.splitlines()\n",
    "news_list"
   ]
  },
  {
   "cell_type": "code",
   "execution_count": 10,
   "metadata": {
    "id": "jiJ_PuLYjieJ"
   },
   "outputs": [],
   "source": [
    "import os\n",
    "news_list = news_string.replace(os.linesep + os.linesep , os.linesep).splitlines()\n",
    "# news_list = news_string.replace(\"\\n\\n\" , \"\\n\").splitlines()"
   ]
  },
  {
   "cell_type": "code",
   "execution_count": 11,
   "metadata": {
    "colab": {
     "base_uri": "https://localhost:8080/"
    },
    "id": "pDoPibwQkcF7",
    "outputId": "b9ee560d-6e4d-4fdc-cff6-41d206f46900"
   },
   "outputs": [
    {
     "data": {
      "text/plain": [
       "['일본의 소행성 탐사선 하야부사 2호가 소행성 ‘류구’에서 채취한 표본(흙)의 새로운 사진이 공개됐다. 최근 일본 우주항공연구개발기구(JAXA)는 최대 1cm에 달하는 검은 표본을 포함 지금까지 1mm이상의 검은 입자가 다수 발견됐다고 밝혔다. 하야부사 2호가 류구에서 가져온 표본은 총 5.4g 정도로 이는 목표치의 50배가 넘는다.',\n",
       " '',\n",
       " '지난 24일 JAXA가 공개한 류구의 표본을 보면 마치 숯덩이로 가득 차 있는듯 보이는데 이는 광학현미경으로 촬영됐기 때문이다.',\n",
       " '',\n",
       " '우리말로 ‘송골매’라는 뜻을 가진 하야부사 2호는 세계 처음으로 소행성 ‘이토카와’의 미립자를 가져온 하야부사의 문제점을 보완, 개발해 지난 2014년 12월 발사됐다. 이후 하야부사 2호는 지난해 7월 지구에서 약 3억4000만㎞ 떨어진 소행성 류구에 접근해 금속탄환으로 웅덩이를 만든 뒤 내부 물질을 채취하는 데 성공했다.',\n",
       " '',\n",
       " '일본 우주항공연구개발기구(JAXA) 요원이 6일 호주 사우스 오스트레일리아주 우메라 사막지대에 떨어진 소행성 류구의 내부물질을 담은 캡슐을 회수해 옮기고 있다.JAXA 제공 AP 연합뉴스',\n",
       " \"같은 해 11월 류구를 출발해 다시 지구로 향한 하야부사 2호는 지난 5일 채취한 표본이 담긴 캡슐을 분리해 호주 서부 사막에 떨어뜨리고 새 탐사지인 지구와 화성 사이를 도는 소행성 '1998KY26'으로 향했다.\",\n",
       " '',\n",
       " '하야부사 2호가 6년 동안 비행한 거리는 52억㎞로 이는 지구와 달 사이 평균거리에 1만3500배에 달한다.',\n",
       " '',\n",
       " '하야부사 2호가 탐사한 류구는 수많은 바위와 돌로 가득한 소행성으로 지름은 870m, 공전주기는 475일, 자전주기는 7.5시간이다. 특히 태양계 형성 당시의 물질이 고스란히 남아있을 것으로 추정돼 연구가치가 매우 높다. 곧 이번에 탐사선이 가져온 표본에는 태양계와 지구 탄생의 비밀을 풀어줄 단서가 담겨있을 수 있다.']"
      ]
     },
     "execution_count": 11,
     "metadata": {},
     "output_type": "execute_result"
    }
   ],
   "source": [
    "news_list"
   ]
  },
  {
   "cell_type": "code",
   "execution_count": 12,
   "metadata": {
    "id": "Lif1pycMktHq"
   },
   "outputs": [],
   "source": [
    "news_token = []"
   ]
  },
  {
   "cell_type": "markdown",
   "metadata": {
    "id": "T-K1wPFOlXvv"
   },
   "source": [
    "### 명사 추출 분석"
   ]
  },
  {
   "cell_type": "code",
   "execution_count": 13,
   "metadata": {
    "id": "pbNlaF9Pk3tE"
   },
   "outputs": [],
   "source": [
    "for news in news_list:\n",
    "    news_token.append( okt.nouns(news))"
   ]
  },
  {
   "cell_type": "code",
   "execution_count": 14,
   "metadata": {
    "colab": {
     "base_uri": "https://localhost:8080/"
    },
    "id": "CmbxBLGJlQUJ",
    "outputId": "5a128591-025a-4e2f-bed6-b144a1bb0e1d"
   },
   "outputs": [
    {
     "data": {
      "text/plain": [
       "[['일본',\n",
       "  '소행성',\n",
       "  '탐사선',\n",
       "  '하야부사',\n",
       "  '호가',\n",
       "  '소행성',\n",
       "  '류구',\n",
       "  '채취',\n",
       "  '표본',\n",
       "  '흙',\n",
       "  '의',\n",
       "  '사진',\n",
       "  '공개',\n",
       "  '최근',\n",
       "  '일본',\n",
       "  '우주',\n",
       "  '항공',\n",
       "  '연구개발',\n",
       "  '기구',\n",
       "  '최대',\n",
       "  '달',\n",
       "  '표본',\n",
       "  '포함',\n",
       "  '지금',\n",
       "  '이상',\n",
       "  '입자',\n",
       "  '다수',\n",
       "  '발견',\n",
       "  '하야부사',\n",
       "  '호가',\n",
       "  '류구',\n",
       "  '표본',\n",
       "  '총',\n",
       "  '정도',\n",
       "  '목표',\n",
       "  '치의',\n",
       "  '배'],\n",
       " [],\n",
       " ['지난', '공개', '류구', '표본', '마치', '숯', '덩이', '가득', '차', '광학현미경', '촬영', '때문'],\n",
       " [],\n",
       " ['우리말',\n",
       "  '송골매',\n",
       "  '뜻',\n",
       "  '하야부사',\n",
       "  '호',\n",
       "  '세계',\n",
       "  '처음',\n",
       "  '소행성',\n",
       "  '토카',\n",
       "  '의',\n",
       "  '미립',\n",
       "  '하야부사',\n",
       "  '문제점',\n",
       "  '보완',\n",
       "  '개발',\n",
       "  '지난',\n",
       "  '발사',\n",
       "  '이후',\n",
       "  '하야부사',\n",
       "  '호',\n",
       "  '지난해',\n",
       "  '지구',\n",
       "  '약',\n",
       "  '소행성',\n",
       "  '류구',\n",
       "  '접근',\n",
       "  '금속',\n",
       "  '탄환',\n",
       "  '웅덩이',\n",
       "  '뒤',\n",
       "  '내부',\n",
       "  '물질',\n",
       "  '채취',\n",
       "  '데'],\n",
       " [],\n",
       " ['일본',\n",
       "  '우주',\n",
       "  '항공',\n",
       "  '연구개발',\n",
       "  '기구',\n",
       "  '요원',\n",
       "  '호주',\n",
       "  '사우스',\n",
       "  '오스트레일리아',\n",
       "  '주',\n",
       "  '우메',\n",
       "  '사막',\n",
       "  '지대',\n",
       "  '소행성',\n",
       "  '류구',\n",
       "  '내부',\n",
       "  '물질',\n",
       "  '캡슐',\n",
       "  '회수',\n",
       "  '제공',\n",
       "  '연합뉴스'],\n",
       " ['해',\n",
       "  '류구',\n",
       "  '출발',\n",
       "  '다시',\n",
       "  '지구',\n",
       "  '향',\n",
       "  '하야부사',\n",
       "  '호',\n",
       "  '지난',\n",
       "  '채취',\n",
       "  '표본',\n",
       "  '캡슐',\n",
       "  '분리',\n",
       "  '호주',\n",
       "  '서부',\n",
       "  '사막',\n",
       "  '새',\n",
       "  '탐사',\n",
       "  '지인',\n",
       "  '지구',\n",
       "  '화성',\n",
       "  '사이',\n",
       "  '도',\n",
       "  '소행성',\n",
       "  '향'],\n",
       " [],\n",
       " ['하야부사', '호가', '동안', '비행', '거리', '로', '지구', '달', '사이', '평균', '거리', '배', '달'],\n",
       " [],\n",
       " ['하야부사',\n",
       "  '호가',\n",
       "  '탐사',\n",
       "  '류구',\n",
       "  '바위',\n",
       "  '돌',\n",
       "  '소행성',\n",
       "  '지름',\n",
       "  '공전주기',\n",
       "  '자전주기',\n",
       "  '태양계',\n",
       "  '형성',\n",
       "  '당시',\n",
       "  '물질',\n",
       "  '고스',\n",
       "  '란',\n",
       "  '것',\n",
       "  '추정',\n",
       "  '가치',\n",
       "  '매우',\n",
       "  '곧',\n",
       "  '이번',\n",
       "  '탐사선',\n",
       "  '표본',\n",
       "  '태양계',\n",
       "  '지구',\n",
       "  '탄생',\n",
       "  '비밀',\n",
       "  '단서',\n",
       "  '수']]"
      ]
     },
     "execution_count": 14,
     "metadata": {},
     "output_type": "execute_result"
    }
   ],
   "source": [
    "news_token"
   ]
  },
  {
   "cell_type": "code",
   "execution_count": 35,
   "metadata": {
    "id": "vKHV66KIlRnx"
   },
   "outputs": [],
   "source": [
    "model = Word2Vec(sentences = news_token, size = 128, window = 5, min_count = 2)"
   ]
  },
  {
   "cell_type": "code",
   "execution_count": 36,
   "metadata": {
    "colab": {
     "base_uri": "https://localhost:8080/"
    },
    "id": "ytF-kRq-ltuC",
    "outputId": "96dbb706-9011-4cec-b975-ef4775571d15"
   },
   "outputs": [
    {
     "name": "stdout",
     "output_type": "stream",
     "text": [
      "Word2Vec(vocab=29, size=128, alpha=0.025)\n"
     ]
    }
   ],
   "source": [
    "print(model)"
   ]
  },
  {
   "cell_type": "code",
   "execution_count": 37,
   "metadata": {
    "colab": {
     "base_uri": "https://localhost:8080/"
    },
    "id": "2k2E1O5Fl5Be",
    "outputId": "3f09ada4-4ae4-4e48-9188-8857628ab79f"
   },
   "outputs": [
    {
     "data": {
      "text/plain": [
       "['하야부사',\n",
       " '소행성',\n",
       " '류구',\n",
       " '표본',\n",
       " '지구',\n",
       " '호가',\n",
       " '일본',\n",
       " '채취',\n",
       " '달',\n",
       " '지난',\n",
       " '호',\n",
       " '물질',\n",
       " '탐사선',\n",
       " '의',\n",
       " '공개',\n",
       " '우주',\n",
       " '항공',\n",
       " '연구개발',\n",
       " '기구',\n",
       " '배',\n",
       " '내부',\n",
       " '호주',\n",
       " '사막',\n",
       " '캡슐',\n",
       " '향',\n",
       " '탐사',\n",
       " '사이',\n",
       " '거리',\n",
       " '태양계']"
      ]
     },
     "execution_count": 37,
     "metadata": {},
     "output_type": "execute_result"
    }
   ],
   "source": [
    "model.wv.index2word"
   ]
  },
  {
   "cell_type": "code",
   "execution_count": 38,
   "metadata": {
    "colab": {
     "base_uri": "https://localhost:8080/"
    },
    "id": "CCi3hSqWmAEG",
    "outputId": "7dc9ab66-b5e9-457b-ac37-ed3459eef33e"
   },
   "outputs": [
    {
     "name": "stderr",
     "output_type": "stream",
     "text": [
      "C:\\Users\\joowo\\Anaconda3\\envs\\npl_study\\lib\\site-packages\\ipykernel_launcher.py:3: DeprecationWarning: Call to deprecated `__getitem__` (Method will be removed in 4.0.0, use self.wv.__getitem__() instead).\n",
      "  This is separate from the ipykernel package so we can avoid doing imports until\n"
     ]
    }
   ],
   "source": [
    "from sklearn.decomposition import PCA\n",
    "pca = PCA(n_components=2)\n",
    "X = model[model.wv.vocab]\n",
    "result = pca.fit_transform(X)"
   ]
  },
  {
   "cell_type": "code",
   "execution_count": 39,
   "metadata": {
    "id": "UWVuEebAmtTH"
   },
   "outputs": [],
   "source": [
    "# import matplotlib.pyplot as plt\n",
    "\n",
    "# plt.figure(figsize=(20,15))\n",
    "# plt.scatter(result[:, 0], result[:, 1])\n",
    "# words = list(model.wv.vocab)\n",
    "# for i, word in enumerate(words):\n",
    "# \tplt.annotate(word, xy=(result[i, 0], result[i, 1]))\n",
    "# plt.show()"
   ]
  },
  {
   "cell_type": "markdown",
   "metadata": {
    "id": "MBib5DxLndeW"
   },
   "source": [
    "# 한글폰트 설치"
   ]
  },
  {
   "cell_type": "markdown",
   "metadata": {
    "id": "rnqMOXVGw-bz"
   },
   "source": [
    "## 경고!\n",
    "```\n",
    "colab에서는\n",
    "한글폰트가 설치되기 이전에 matplotlib를 출력하게되면\n",
    "한글폰트가 없는 상태에서 폰트가 cache되기때분에 문제가 발생!\n",
    "```"
   ]
  },
  {
   "cell_type": "code",
   "execution_count": 41,
   "metadata": {},
   "outputs": [
    {
     "name": "stdout",
     "output_type": "stream",
     "text": [
      "Collecting matplotlib\n",
      "  Downloading matplotlib-3.3.3-cp37-cp37m-win_amd64.whl (8.5 MB)\n",
      "Requirement already satisfied: pyparsing!=2.0.4,!=2.1.2,!=2.1.6,>=2.0.3 in c:\\users\\joowo\\anaconda3\\envs\\npl_study\\lib\\site-packages (from matplotlib) (2.4.7)\n",
      "Requirement already satisfied: numpy>=1.15 in c:\\users\\joowo\\anaconda3\\envs\\npl_study\\lib\\site-packages (from matplotlib) (1.19.2)\n",
      "Requirement already satisfied: python-dateutil>=2.1 in c:\\users\\joowo\\anaconda3\\envs\\npl_study\\lib\\site-packages (from matplotlib) (2.8.1)\n",
      "Collecting cycler>=0.10\n",
      "  Downloading cycler-0.10.0-py2.py3-none-any.whl (6.5 kB)\n",
      "Requirement already satisfied: six in c:\\users\\joowo\\anaconda3\\envs\\npl_study\\lib\\site-packages (from cycler>=0.10->matplotlib) (1.15.0)\n",
      "Collecting kiwisolver>=1.0.1\n",
      "  Downloading kiwisolver-1.3.1-cp37-cp37m-win_amd64.whl (51 kB)\n",
      "Collecting pillow>=6.2.0\n",
      "  Downloading Pillow-8.1.0-cp37-cp37m-win_amd64.whl (2.2 MB)\n",
      "Installing collected packages: pillow, kiwisolver, cycler, matplotlib\n",
      "Successfully installed cycler-0.10.0 kiwisolver-1.3.1 matplotlib-3.3.3 pillow-8.1.0\n",
      "Note: you may need to restart the kernel to use updated packages.\n"
     ]
    },
    {
     "name": "stderr",
     "output_type": "stream",
     "text": [
      "WARNING: Error parsing requirements for jpype1: [Errno 2] No such file or directory: 'c:\\\\users\\\\joowo\\\\anaconda3\\\\envs\\\\npl_study\\\\lib\\\\site-packages\\\\JPype1-1.2.1.dist-info\\\\METADATA'\n"
     ]
    }
   ],
   "source": [
    "pip install matplotlib"
   ]
  },
  {
   "cell_type": "code",
   "execution_count": 42,
   "metadata": {
    "id": "zCjrnb3foven"
   },
   "outputs": [],
   "source": [
    "%matplotlib inline  \n",
    "\n",
    "import matplotlib as mpl  # 기본 설정 만지는 용도\n",
    "import matplotlib.pyplot as plt  # 그래프 그리는 용도\n",
    "import matplotlib.font_manager as fm  # 폰트 관련 용도"
   ]
  },
  {
   "cell_type": "code",
   "execution_count": 64,
   "metadata": {
    "colab": {
     "base_uri": "https://localhost:8080/"
    },
    "id": "H-NKDSKGpU91",
    "outputId": "99c895c3-078a-4370-9960-2ff73001a1f2"
   },
   "outputs": [
    {
     "name": "stdout",
     "output_type": "stream",
     "text": [
      "sys_font number: 291\n",
      "['C:\\\\WINDOWS\\\\Fonts\\\\cambria.ttc', 'C:\\\\WINDOWS\\\\Fonts\\\\segoesc.ttf', 'C:\\\\Windows\\\\Fonts\\\\framd.ttf', 'C:\\\\WINDOWS\\\\Fonts\\\\mvboli.ttf', 'C:\\\\Windows\\\\Fonts\\\\comici.ttf', 'C:\\\\Windows\\\\Fonts\\\\calibrii.ttf', 'C:\\\\WINDOWS\\\\Fonts\\\\SitkaZ.ttc', 'C:\\\\WINDOWS\\\\Fonts\\\\times.ttf', 'C:\\\\WINDOWS\\\\Fonts\\\\seguili.ttf', 'C:\\\\WINDOWS\\\\Fonts\\\\YuGothB.ttc', 'C:\\\\Windows\\\\Fonts\\\\SitkaI.ttc', 'C:\\\\Windows\\\\Fonts\\\\trebucbi.ttf', 'C:\\\\WINDOWS\\\\Fonts\\\\ebrimabd.ttf', 'C:\\\\Windows\\\\Fonts\\\\holomdl2.ttf', 'C:\\\\WINDOWS\\\\Fonts\\\\comici.ttf', 'C:\\\\Windows\\\\Fonts\\\\Candarai.ttf', 'C:\\\\Windows\\\\Fonts\\\\gadugib.ttf', 'C:\\\\Windows\\\\Fonts\\\\phagspab.ttf', 'C:\\\\WINDOWS\\\\Fonts\\\\segoepr.ttf', 'C:\\\\WINDOWS\\\\Fonts\\\\corbelz.ttf', 'C:\\\\WINDOWS\\\\Fonts\\\\georgiab.ttf', 'C:\\\\WINDOWS\\\\Fonts\\\\georgia.ttf', 'C:\\\\WINDOWS\\\\Fonts\\\\symbol.ttf', 'C:\\\\Windows\\\\Fonts\\\\corbelz.ttf', 'C:\\\\WINDOWS\\\\Fonts\\\\georgiai.ttf', 'C:\\\\WINDOWS\\\\Fonts\\\\timesbi.ttf', 'C:\\\\Windows\\\\Fonts\\\\bahnschrift.ttf', 'C:\\\\Windows\\\\Fonts\\\\corbelb.ttf', 'C:\\\\WINDOWS\\\\Fonts\\\\mmrtextb.ttf', 'C:\\\\Windows\\\\Fonts\\\\batang.ttc', 'C:\\\\WINDOWS\\\\Fonts\\\\corbel.ttf', 'C:\\\\WINDOWS\\\\Fonts\\\\arial.ttf', 'C:\\\\Windows\\\\Fonts\\\\ariblk.ttf', 'C:\\\\Windows\\\\Fonts\\\\YuGothL.ttc', 'C:\\\\WINDOWS\\\\Fonts\\\\Candaral.ttf', 'C:\\\\WINDOWS\\\\Fonts\\\\constanb.ttf', 'C:\\\\WINDOWS\\\\Fonts\\\\Sitka.ttc', 'C:\\\\WINDOWS\\\\Fonts\\\\verdanab.ttf', 'C:\\\\WINDOWS\\\\Fonts\\\\seguibl.ttf', 'C:\\\\WINDOWS\\\\Fonts\\\\segoeui.ttf', 'C:\\\\Windows\\\\Fonts\\\\seguisb.ttf', 'C:\\\\Windows\\\\Fonts\\\\msjh.ttc', 'C:\\\\WINDOWS\\\\Fonts\\\\Inkfree.ttf', 'C:\\\\Windows\\\\Fonts\\\\seguibl.ttf', 'C:\\\\WINDOWS\\\\Fonts\\\\ntailub.ttf', 'C:\\\\Windows\\\\Fonts\\\\msyi.ttf', 'C:\\\\WINDOWS\\\\Fonts\\\\SitkaI.ttc', 'C:\\\\WINDOWS\\\\Fonts\\\\tahomabd.ttf', 'C:\\\\WINDOWS\\\\Fonts\\\\verdanaz.ttf', 'C:\\\\Windows\\\\Fonts\\\\arial.ttf', 'C:\\\\Windows\\\\Fonts\\\\sylfaen.ttf', 'C:\\\\Windows\\\\Fonts\\\\YuGothB.ttc', 'C:\\\\Windows\\\\Fonts\\\\timesbi.ttf', 'C:\\\\Windows\\\\Fonts\\\\cambriaz.ttf', 'C:\\\\Windows\\\\Fonts\\\\trebuc.ttf', 'C:\\\\Windows\\\\Fonts\\\\cambriai.ttf', 'C:\\\\WINDOWS\\\\Fonts\\\\simsunb.ttf', 'C:\\\\WINDOWS\\\\Fonts\\\\impact.ttf', 'C:\\\\WINDOWS\\\\Fonts\\\\malgunbd.ttf', 'C:\\\\Windows\\\\Fonts\\\\constan.ttf', 'C:\\\\Windows\\\\Fonts\\\\cour.ttf', 'C:\\\\WINDOWS\\\\Fonts\\\\javatext.ttf', 'C:\\\\Windows\\\\Fonts\\\\seguihis.ttf', 'C:\\\\Windows\\\\Fonts\\\\malgunbd.ttf', 'C:\\\\Windows\\\\Fonts\\\\malgunsl.ttf', 'C:\\\\WINDOWS\\\\Fonts\\\\Candarai.ttf', 'C:\\\\WINDOWS\\\\Fonts\\\\verdanai.ttf', 'C:\\\\WINDOWS\\\\Fonts\\\\consolai.ttf', 'C:\\\\WINDOWS\\\\Fonts\\\\seguisb.ttf', 'C:\\\\WINDOWS\\\\Fonts\\\\timesi.ttf', 'C:\\\\WINDOWS\\\\Fonts\\\\LeelaUIb.ttf', 'C:\\\\WINDOWS\\\\Fonts\\\\verdana.ttf', 'C:\\\\Windows\\\\Fonts\\\\georgiaz.ttf', 'C:\\\\WINDOWS\\\\Fonts\\\\cambriai.ttf', 'C:\\\\Windows\\\\Fonts\\\\symbol.ttf', 'C:\\\\Windows\\\\Fonts\\\\Candarab.ttf', 'C:\\\\WINDOWS\\\\Fonts\\\\framd.ttf', 'C:\\\\Windows\\\\Fonts\\\\Candaraz.ttf', 'C:\\\\Windows\\\\Fonts\\\\calibrili.ttf', 'C:\\\\WINDOWS\\\\Fonts\\\\marlett.ttf', 'C:\\\\WINDOWS\\\\Fonts\\\\msyi.ttf', 'C:\\\\WINDOWS\\\\Fonts\\\\segoeuii.ttf', 'C:\\\\WINDOWS\\\\Fonts\\\\YuGothR.ttc', 'C:\\\\WINDOWS\\\\Fonts\\\\trebucbd.ttf', 'C:\\\\Windows\\\\Fonts\\\\calibril.ttf', 'C:\\\\Windows\\\\Fonts\\\\Candara.ttf', 'C:\\\\WINDOWS\\\\Fonts\\\\LeelawUI.ttf', 'C:\\\\WINDOWS\\\\Fonts\\\\SitkaB.ttc', 'C:\\\\WINDOWS\\\\Fonts\\\\msjhbd.ttc', 'C:\\\\Windows\\\\Fonts\\\\verdana.ttf', 'C:\\\\WINDOWS\\\\Fonts\\\\corbeli.ttf', 'C:\\\\WINDOWS\\\\Fonts\\\\LeelUIsl.ttf', 'C:\\\\Windows\\\\Fonts\\\\segoescb.ttf', 'C:\\\\WINDOWS\\\\Fonts\\\\calibriz.ttf', 'C:\\\\Windows\\\\Fonts\\\\ntailub.ttf', 'C:\\\\Windows\\\\Fonts\\\\ntailu.ttf', 'C:\\\\Windows\\\\Fonts\\\\calibri.ttf', 'C:\\\\Windows\\\\Fonts\\\\calibriz.ttf', 'C:\\\\Windows\\\\Fonts\\\\l_10646.ttf', 'C:\\\\Windows\\\\Fonts\\\\georgiai.ttf', 'C:\\\\Windows\\\\Fonts\\\\corbeli.ttf', 'C:\\\\Windows\\\\Fonts\\\\segoeuil.ttf', 'C:\\\\WINDOWS\\\\Fonts\\\\consolab.ttf', 'C:\\\\WINDOWS\\\\Fonts\\\\mmrtext.ttf', 'C:\\\\WINDOWS\\\\Fonts\\\\segoescb.ttf', 'C:\\\\Windows\\\\Fonts\\\\palai.ttf', 'C:\\\\WINDOWS\\\\Fonts\\\\bahnschrift.ttf', 'C:\\\\WINDOWS\\\\Fonts\\\\palabi.ttf', 'C:\\\\WINDOWS\\\\Fonts\\\\palai.ttf', 'C:\\\\WINDOWS\\\\Fonts\\\\tahoma.ttf', 'C:\\\\Windows\\\\Fonts\\\\mingliub.ttc', 'C:\\\\Windows\\\\Fonts\\\\seguisli.ttf', 'C:\\\\Windows\\\\Fonts\\\\mvboli.ttf', 'C:\\\\Windows\\\\Fonts\\\\msyhbd.ttc', 'C:\\\\Windows\\\\Fonts\\\\mmrtextb.ttf', 'C:\\\\Windows\\\\Fonts\\\\verdanab.ttf', 'C:\\\\WINDOWS\\\\Fonts\\\\malgun.ttf', 'C:\\\\WINDOWS\\\\Fonts\\\\msyh.ttc', 'C:\\\\Windows\\\\Fonts\\\\NirmalaB.ttf', 'C:\\\\Windows\\\\Fonts\\\\YuGothR.ttc', 'C:\\\\WINDOWS\\\\Fonts\\\\gadugib.ttf', 'C:\\\\Windows\\\\Fonts\\\\verdanaz.ttf', 'C:\\\\WINDOWS\\\\Fonts\\\\calibrib.ttf', 'C:\\\\Windows\\\\Fonts\\\\phagspa.ttf', 'C:\\\\WINDOWS\\\\Fonts\\\\timesbd.ttf', 'C:\\\\WINDOWS\\\\Fonts\\\\phagspa.ttf', 'C:\\\\Windows\\\\Fonts\\\\SitkaB.ttc', 'C:\\\\WINDOWS\\\\Fonts\\\\segoeprb.ttf', 'C:\\\\WINDOWS\\\\Fonts\\\\ntailu.ttf', 'C:\\\\Windows\\\\Fonts\\\\arialbd.ttf', 'C:\\\\WINDOWS\\\\Fonts\\\\msjhl.ttc', 'C:\\\\Windows\\\\Fonts\\\\timesi.ttf', 'C:\\\\Windows\\\\Fonts\\\\wingding.ttf', 'C:\\\\Windows\\\\Fonts\\\\taileb.ttf', 'C:\\\\WINDOWS\\\\Fonts\\\\cour.ttf', 'C:\\\\Windows\\\\Fonts\\\\corbelli.ttf', 'C:\\\\WINDOWS\\\\Fonts\\\\arialbi.ttf', 'C:\\\\WINDOWS\\\\Fonts\\\\trebuc.ttf', 'C:\\\\WINDOWS\\\\Fonts\\\\corbell.ttf', 'C:\\\\Windows\\\\Fonts\\\\corbell.ttf', 'C:\\\\Windows\\\\Fonts\\\\lucon.ttf', 'C:\\\\WINDOWS\\\\Fonts\\\\gadugi.ttf', 'C:\\\\Windows\\\\Fonts\\\\corbel.ttf', 'C:\\\\Windows\\\\Fonts\\\\ebrimabd.ttf', 'C:\\\\WINDOWS\\\\Fonts\\\\Candarab.ttf', 'C:\\\\WINDOWS\\\\Fonts\\\\NirmalaB.ttf', 'C:\\\\Windows\\\\Fonts\\\\gulim.ttc', 'C:\\\\Windows\\\\Fonts\\\\msjhl.ttc', 'C:\\\\Windows\\\\Fonts\\\\NirmalaS.ttf', 'C:\\\\Windows\\\\Fonts\\\\courbi.ttf', 'C:\\\\Windows\\\\Fonts\\\\segoepr.ttf', 'C:\\\\WINDOWS\\\\Fonts\\\\ebrima.ttf', 'C:\\\\WINDOWS\\\\Fonts\\\\Gabriola.ttf', 'C:\\\\Windows\\\\Fonts\\\\ariali.ttf', 'C:\\\\WINDOWS\\\\Fonts\\\\segoeuil.ttf', 'C:\\\\WINDOWS\\\\Fonts\\\\YuGothM.ttc', 'C:\\\\WINDOWS\\\\Fonts\\\\micross.ttf', 'C:\\\\Windows\\\\Fonts\\\\segoeuiz.ttf', 'C:\\\\Windows\\\\Fonts\\\\Candarali.ttf', 'C:\\\\Windows\\\\Fonts\\\\msyhl.ttc', 'C:\\\\Windows\\\\Fonts\\\\LeelawUI.ttf', 'C:\\\\WINDOWS\\\\Fonts\\\\sylfaen.ttf', 'C:\\\\WINDOWS\\\\Fonts\\\\himalaya.ttf', 'C:\\\\Windows\\\\Fonts\\\\Gabriola.ttf', 'C:\\\\Windows\\\\Fonts\\\\arialbi.ttf', 'C:\\\\WINDOWS\\\\Fonts\\\\taileb.ttf', 'C:\\\\WINDOWS\\\\Fonts\\\\YuGothL.ttc', 'C:\\\\WINDOWS\\\\Fonts\\\\webdings.ttf', 'C:\\\\WINDOWS\\\\Fonts\\\\constan.ttf', 'C:\\\\Windows\\\\Fonts\\\\Candaral.ttf', 'C:\\\\Windows\\\\Fonts\\\\consola.ttf', 'C:\\\\Windows\\\\Fonts\\\\georgia.ttf', 'C:\\\\Windows\\\\Fonts\\\\javatext.ttf', 'C:\\\\WINDOWS\\\\Fonts\\\\constani.ttf', 'C:\\\\Windows\\\\Fonts\\\\consolaz.ttf', 'C:\\\\WINDOWS\\\\Fonts\\\\Nirmala.ttf', 'C:\\\\WINDOWS\\\\Fonts\\\\wingding.ttf', 'C:\\\\Windows\\\\Fonts\\\\couri.ttf', 'C:\\\\Windows\\\\Fonts\\\\consolai.ttf', 'C:\\\\WINDOWS\\\\Fonts\\\\calibri.ttf', 'C:\\\\WINDOWS\\\\Fonts\\\\framdit.ttf', 'C:\\\\WINDOWS\\\\Fonts\\\\monbaiti.ttf', 'C:\\\\WINDOWS\\\\Fonts\\\\Candara.ttf', 'C:\\\\WINDOWS\\\\Fonts\\\\seguiemj.ttf', 'C:\\\\Windows\\\\Fonts\\\\georgiab.ttf', 'C:\\\\WINDOWS\\\\Fonts\\\\Candarali.ttf', 'C:\\\\Windows\\\\Fonts\\\\comicz.ttf', 'C:\\\\Windows\\\\Fonts\\\\simsunb.ttf', 'C:\\\\WINDOWS\\\\Fonts\\\\seguisli.ttf', 'C:\\\\Windows\\\\Fonts\\\\comic.ttf', 'C:\\\\Windows\\\\Fonts\\\\monbaiti.ttf', 'C:\\\\Windows\\\\Fonts\\\\Sitka.ttc', 'C:\\\\Windows\\\\Fonts\\\\webdings.ttf', 'C:\\\\WINDOWS\\\\Fonts\\\\msjh.ttc', 'C:\\\\WINDOWS\\\\Fonts\\\\comic.ttf', 'C:\\\\WINDOWS\\\\Fonts\\\\segmdl2.ttf', 'C:\\\\WINDOWS\\\\Fonts\\\\seguihis.ttf', 'C:\\\\WINDOWS\\\\Fonts\\\\lucon.ttf', 'C:\\\\WINDOWS\\\\Fonts\\\\trebucit.ttf', 'C:\\\\Windows\\\\Fonts\\\\gadugi.ttf', 'C:\\\\Windows\\\\Fonts\\\\msjhbd.ttc', 'C:\\\\WINDOWS\\\\Fonts\\\\arialbd.ttf', 'C:\\\\Windows\\\\Fonts\\\\segoeuisl.ttf', 'C:\\\\WINDOWS\\\\Fonts\\\\couri.ttf', 'C:\\\\Windows\\\\Fonts\\\\LeelaUIb.ttf', 'C:\\\\Windows\\\\Fonts\\\\cambria.ttc', 'C:\\\\WINDOWS\\\\Fonts\\\\batang.ttc', 'C:\\\\Windows\\\\Fonts\\\\constani.ttf', 'C:\\\\WINDOWS\\\\Fonts\\\\ariali.ttf', 'C:\\\\WINDOWS\\\\Fonts\\\\simsun.ttc', 'C:\\\\Windows\\\\Fonts\\\\seguiemj.ttf', 'C:\\\\Windows\\\\Fonts\\\\trebucbd.ttf', 'C:\\\\Windows\\\\Fonts\\\\consolab.ttf', 'C:\\\\Windows\\\\Fonts\\\\LeelUIsl.ttf', 'C:\\\\WINDOWS\\\\Fonts\\\\taile.ttf', 'C:\\\\Windows\\\\Fonts\\\\seguili.ttf', 'C:\\\\WINDOWS\\\\Fonts\\\\msyhbd.ttc', 'C:\\\\WINDOWS\\\\Fonts\\\\consolaz.ttf', 'C:\\\\Windows\\\\Fonts\\\\timesbd.ttf', 'C:\\\\Windows\\\\Fonts\\\\calibrib.ttf', 'C:\\\\Windows\\\\Fonts\\\\seguisbi.ttf', 'C:\\\\Windows\\\\Fonts\\\\tahoma.ttf', 'C:\\\\Windows\\\\Fonts\\\\msyh.ttc', 'C:\\\\Windows\\\\Fonts\\\\palab.ttf', 'C:\\\\WINDOWS\\\\Fonts\\\\seguisym.ttf', 'C:\\\\WINDOWS\\\\Fonts\\\\phagspab.ttf', 'C:\\\\WINDOWS\\\\Fonts\\\\georgiaz.ttf', 'C:\\\\WINDOWS\\\\Fonts\\\\comicz.ttf', 'C:\\\\WINDOWS\\\\Fonts\\\\segoeuib.ttf', 'C:\\\\Windows\\\\Fonts\\\\verdanai.ttf', 'C:\\\\Windows\\\\Fonts\\\\cambriab.ttf', 'C:\\\\Windows\\\\Fonts\\\\SitkaZ.ttc', 'C:\\\\WINDOWS\\\\Fonts\\\\seguisbi.ttf', 'C:\\\\Windows\\\\Fonts\\\\segoeprb.ttf', 'C:\\\\WINDOWS\\\\Fonts\\\\msyhl.ttc', 'C:\\\\Windows\\\\Fonts\\\\tahomabd.ttf', 'C:\\\\Windows\\\\Fonts\\\\palabi.ttf', 'C:\\\\Windows\\\\Fonts\\\\simsun.ttc', 'C:\\\\WINDOWS\\\\Fonts\\\\calibrii.ttf', 'C:\\\\Windows\\\\Fonts\\\\segoeuii.ttf', 'C:\\\\Windows\\\\Fonts\\\\seguibli.ttf', 'C:\\\\WINDOWS\\\\Fonts\\\\mingliub.ttc', 'C:\\\\Windows\\\\Fonts\\\\segoeui.ttf', 'C:\\\\Windows\\\\Fonts\\\\framdit.ttf', 'C:\\\\WINDOWS\\\\Fonts\\\\calibril.ttf', 'C:\\\\WINDOWS\\\\Fonts\\\\cambriaz.ttf', 'C:\\\\WINDOWS\\\\Fonts\\\\l_10646.ttf', 'C:\\\\WINDOWS\\\\Fonts\\\\segoeuiz.ttf', 'C:\\\\WINDOWS\\\\Fonts\\\\seguibli.ttf', 'C:\\\\WINDOWS\\\\Fonts\\\\trebucbi.ttf', 'C:\\\\WINDOWS\\\\Fonts\\\\corbelb.ttf', 'C:\\\\WINDOWS\\\\Fonts\\\\holomdl2.ttf', 'C:\\\\Windows\\\\Fonts\\\\impact.ttf', 'C:\\\\Windows\\\\Fonts\\\\YuGothM.ttc', 'C:\\\\Windows\\\\Fonts\\\\segoesc.ttf', 'C:\\\\Windows\\\\Fonts\\\\constanz.ttf', 'C:\\\\WINDOWS\\\\Fonts\\\\corbelli.ttf', 'C:\\\\WINDOWS\\\\Fonts\\\\msgothic.ttc', 'C:\\\\Windows\\\\Fonts\\\\himalaya.ttf', 'C:\\\\Windows\\\\Fonts\\\\ebrima.ttf', 'C:\\\\WINDOWS\\\\Fonts\\\\comicbd.ttf', 'C:\\\\WINDOWS\\\\Fonts\\\\constanz.ttf', 'C:\\\\WINDOWS\\\\Fonts\\\\ariblk.ttf', 'C:\\\\WINDOWS\\\\Fonts\\\\courbd.ttf', 'C:\\\\WINDOWS\\\\Fonts\\\\courbi.ttf', 'C:\\\\WINDOWS\\\\Fonts\\\\NirmalaS.ttf', 'C:\\\\WINDOWS\\\\Fonts\\\\calibrili.ttf', 'C:\\\\Windows\\\\Fonts\\\\msgothic.ttc', 'C:\\\\WINDOWS\\\\Fonts\\\\segoeuisl.ttf', 'C:\\\\WINDOWS\\\\Fonts\\\\palab.ttf', 'C:\\\\Windows\\\\Fonts\\\\segoeuib.ttf', 'C:\\\\Windows\\\\Fonts\\\\Inkfree.ttf', 'C:\\\\Windows\\\\Fonts\\\\trebucit.ttf', 'C:\\\\Windows\\\\Fonts\\\\malgun.ttf', 'C:\\\\WINDOWS\\\\Fonts\\\\gulim.ttc', 'C:\\\\Windows\\\\Fonts\\\\segmdl2.ttf', 'C:\\\\Windows\\\\Fonts\\\\mmrtext.ttf', 'C:\\\\Windows\\\\Fonts\\\\micross.ttf', 'C:\\\\Windows\\\\Fonts\\\\pala.ttf', 'C:\\\\Windows\\\\Fonts\\\\times.ttf', 'C:\\\\WINDOWS\\\\Fonts\\\\consola.ttf', 'C:\\\\WINDOWS\\\\Fonts\\\\Candaraz.ttf', 'C:\\\\Windows\\\\Fonts\\\\courbd.ttf', 'C:\\\\WINDOWS\\\\Fonts\\\\malgunsl.ttf', 'C:\\\\Windows\\\\Fonts\\\\constanb.ttf', 'C:\\\\WINDOWS\\\\Fonts\\\\pala.ttf', 'C:\\\\Windows\\\\Fonts\\\\Nirmala.ttf', 'C:\\\\WINDOWS\\\\Fonts\\\\cambriab.ttf', 'C:\\\\Windows\\\\Fonts\\\\comicbd.ttf', 'C:\\\\Windows\\\\Fonts\\\\seguisym.ttf', 'C:\\\\Windows\\\\Fonts\\\\taile.ttf']\n",
      "Malgunm_font number: 2\n"
     ]
    }
   ],
   "source": [
    "sys_font=fm.findSystemFonts()\n",
    "print(f\"sys_font number: {len(sys_font)}\")\n",
    "print(sys_font)\n",
    "\n",
    "nanum_font = [f for f in sys_font if 'gulim' in f]\n",
    "print(f\"Malgunm_font number: {len(nanum_font)}\")"
   ]
  },
  {
   "cell_type": "code",
   "execution_count": 51,
   "metadata": {
    "id": "AigSGEdpnDTJ"
   },
   "outputs": [
    {
     "name": "stderr",
     "output_type": "stream",
     "text": [
      "The system cannot find the path specified.\n",
      "The system cannot find the path specified.\n"
     ]
    }
   ],
   "source": [
    "!apt-get update -qq > /dev/null\n",
    "!apt-get install fonts-nanum* -qq > /dev/null"
   ]
  },
  {
   "cell_type": "code",
   "execution_count": 65,
   "metadata": {
    "colab": {
     "base_uri": "https://localhost:8080/"
    },
    "id": "GE_USoI2nmfS",
    "outputId": "574d73c7-9cc5-4fbb-8693-730329a9288e"
   },
   "outputs": [
    {
     "name": "stdout",
     "output_type": "stream",
     "text": [
      "MGothic_font number: 2\n"
     ]
    }
   ],
   "source": [
    "nanum_font = [f for f in sys_font if 'gulim' in f]\n",
    "print(f\"MGothic_font number: {len(nanum_font)}\")"
   ]
  },
  {
   "cell_type": "code",
   "execution_count": 66,
   "metadata": {
    "colab": {
     "base_uri": "https://localhost:8080/"
    },
    "id": "Zzsq--jYpbjz",
    "outputId": "962fb4da-d3b2-4ba2-a233-b6946e525fd1"
   },
   "outputs": [
    {
     "data": {
      "text/plain": [
       "['C:\\\\Windows\\\\Fonts\\\\gulim.ttc', 'C:\\\\WINDOWS\\\\Fonts\\\\gulim.ttc']"
      ]
     },
     "execution_count": 66,
     "metadata": {},
     "output_type": "execute_result"
    }
   ],
   "source": [
    "nanum_font"
   ]
  },
  {
   "cell_type": "code",
   "execution_count": 67,
   "metadata": {
    "colab": {
     "base_uri": "https://localhost:8080/"
    },
    "id": "_t1BleCtp4B-",
    "outputId": "686037e4-4d21-4c9a-c32d-ab91160d9afb"
   },
   "outputs": [
    {
     "data": {
      "text/plain": [
       "[]"
      ]
     },
     "execution_count": 67,
     "metadata": {},
     "output_type": "execute_result"
    }
   ],
   "source": [
    "[(f.name, f.fname) for f in fm.fontManager.ttflist if 'gulim' in f.name]\n"
   ]
  },
  {
   "cell_type": "code",
   "execution_count": 68,
   "metadata": {
    "id": "pgPQi3RuqHM7"
   },
   "outputs": [],
   "source": [
    "fm._rebuild()"
   ]
  },
  {
   "cell_type": "code",
   "execution_count": 70,
   "metadata": {
    "colab": {
     "base_uri": "https://localhost:8080/"
    },
    "id": "liL-jxbepgzz",
    "outputId": "12605911-f89b-40f6-9846-91e6ca417f4b"
   },
   "outputs": [
    {
     "name": "stdout",
     "output_type": "stream",
     "text": [
      "Gulim\n"
     ]
    }
   ],
   "source": [
    "path = 'C:\\Windows\\Fonts\\\\gulim.ttc'  # 설치된 나눔글꼴중 원하는 녀석의 전체 경로를 가져오자\n",
    "font_name = fm.FontProperties(fname=path, size=10).get_name()\n",
    "print(font_name)\n",
    "plt.rc('font', family=font_name)"
   ]
  },
  {
   "cell_type": "markdown",
   "metadata": {
    "id": "vNnmJz5PyAoT"
   },
   "source": [
    "# 2차원 분석"
   ]
  },
  {
   "cell_type": "code",
   "execution_count": 71,
   "metadata": {
    "colab": {
     "base_uri": "https://localhost:8080/",
     "height": 873
    },
    "id": "vTELUUJ4qRZD",
    "outputId": "19ac4fd0-b710-48ed-f371-157e824bda22"
   },
   "outputs": [
    {
     "data": {
      "image/png": "[encoded data removed]",
      "text/plain": [
       "<Figure size 1440x1080 with 1 Axes>"
      ]
     },
     "metadata": {
      "needs_background": "light"
     },
     "output_type": "display_data"
    }
   ],
   "source": [
    "# plt.rc('font', family='NanumBarunGothic')\n",
    "\n",
    "plt.rcParams[\"font.size\"] = 20\n",
    "plt.rcParams[\"figure.figsize\"] = (20,15)\n",
    "plt.scatter(result[:, 0], result[:, 1])\n",
    "words = list(model.wv.vocab)\n",
    "for i, word in enumerate(words):\n",
    "\tplt.annotate(word, xy=(result[i, 0], result[i, 1]))\n",
    "\n",
    "# 그래프에서 마이너스 폰트 깨지는 문제에 대한 대처\n",
    "mpl.rcParams['axes.unicode_minus'] = False\n",
    "\n",
    "plt.show()"
   ]
  },
  {
   "cell_type": "markdown",
   "metadata": {
    "id": "P3phlR_81tOB"
   },
   "source": [
    "# 실습\n",
    "- 주어+동사를 이용한 형태소 분석을 실행해보고 결과를 확인해봅니다"
   ]
  },
  {
   "cell_type": "markdown",
   "metadata": {
    "id": "1SWIxaa4waes"
   },
   "source": [
    "### 형태소 분석(주어+동사)"
   ]
  },
  {
   "cell_type": "code",
   "execution_count": 72,
   "metadata": {
    "id": "LL7Tri-fv8qw"
   },
   "outputs": [],
   "source": [
    "news_token_pos = []"
   ]
  },
  {
   "cell_type": "code",
   "execution_count": 73,
   "metadata": {
    "id": "Kv93FBpVwK_2"
   },
   "outputs": [],
   "source": [
    "for news in news_list:\n",
    "    news_token_pos.append(okt.pos (news))"
   ]
  },
  {
   "cell_type": "code",
   "execution_count": 74,
   "metadata": {
    "colab": {
     "base_uri": "https://localhost:8080/"
    },
    "id": "efWEr8PYwVuJ",
    "outputId": "dfdbcba8-0079-4896-d7ae-55433d3a1079"
   },
   "outputs": [
    {
     "data": {
      "text/plain": [
       "[[('일본', 'Noun'),\n",
       "  ('의', 'Josa'),\n",
       "  ('소행성', 'Noun'),\n",
       "  ('탐사선', 'Noun'),\n",
       "  ('하야부사', 'Noun'),\n",
       "  ('2', 'Number'),\n",
       "  ('호가', 'Noun'),\n",
       "  ('소행성', 'Noun'),\n",
       "  ('‘', 'Foreign'),\n",
       "  ('류구', 'Noun'),\n",
       "  ('’', 'Punctuation'),\n",
       "  ('에서', 'Josa'),\n",
       "  ('채취', 'Noun'),\n",
       "  ('한', 'Josa'),\n",
       "  ('표본', 'Noun'),\n",
       "  ('(', 'Punctuation'),\n",
       "  ('흙', 'Noun'),\n",
       "  (')', 'Punctuation'),\n",
       "  ('의', 'Noun'),\n",
       "  ('새로운', 'Adjective'),\n",
       "  ('사진', 'Noun'),\n",
       "  ('이', 'Josa'),\n",
       "  ('공개', 'Noun'),\n",
       "  ('됐다', 'Verb'),\n",
       "  ('.', 'Punctuation'),\n",
       "  ('최근', 'Noun'),\n",
       "  ('일본', 'Noun'),\n",
       "  ('우주', 'Noun'),\n",
       "  ('항공', 'Noun'),\n",
       "  ('연구개발', 'Noun'),\n",
       "  ('기구', 'Noun'),\n",
       "  ('(', 'Punctuation'),\n",
       "  ('JAXA', 'Alpha'),\n",
       "  (')', 'Punctuation'),\n",
       "  ('는', 'Verb'),\n",
       "  ('최대', 'Noun'),\n",
       "  ('1', 'Number'),\n",
       "  ('cm', 'Alpha'),\n",
       "  ('에', 'Josa'),\n",
       "  ('달', 'Noun'),\n",
       "  ('하는', 'Verb'),\n",
       "  ('검은', 'Adjective'),\n",
       "  ('표본', 'Noun'),\n",
       "  ('을', 'Josa'),\n",
       "  ('포함', 'Noun'),\n",
       "  ('지금', 'Noun'),\n",
       "  ('까지', 'Josa'),\n",
       "  ('1', 'Number'),\n",
       "  ('mm', 'Alpha'),\n",
       "  ('이상', 'Noun'),\n",
       "  ('의', 'Josa'),\n",
       "  ('검은', 'Adjective'),\n",
       "  ('입자', 'Noun'),\n",
       "  ('가', 'Josa'),\n",
       "  ('다수', 'Noun'),\n",
       "  ('발견', 'Noun'),\n",
       "  ('됐다고', 'Verb'),\n",
       "  ('밝혔다', 'Verb'),\n",
       "  ('.', 'Punctuation'),\n",
       "  ('하야부사', 'Noun'),\n",
       "  ('2', 'Number'),\n",
       "  ('호가', 'Noun'),\n",
       "  ('류구', 'Noun'),\n",
       "  ('에서', 'Josa'),\n",
       "  ('가져온', 'Verb'),\n",
       "  ('표본', 'Noun'),\n",
       "  ('은', 'Josa'),\n",
       "  ('총', 'Noun'),\n",
       "  ('5.4', 'Number'),\n",
       "  ('g', 'Alpha'),\n",
       "  ('정도', 'Noun'),\n",
       "  ('로', 'Josa'),\n",
       "  ('이는', 'Verb'),\n",
       "  ('목표', 'Noun'),\n",
       "  ('치의', 'Noun'),\n",
       "  ('50', 'Number'),\n",
       "  ('배', 'Noun'),\n",
       "  ('가', 'Josa'),\n",
       "  ('넘는다', 'Verb'),\n",
       "  ('.', 'Punctuation')],\n",
       " [],\n",
       " [('지난', 'Noun'),\n",
       "  ('24일', 'Number'),\n",
       "  ('JAXA', 'Alpha'),\n",
       "  ('가', 'Verb'),\n",
       "  ('공개', 'Noun'),\n",
       "  ('한', 'Josa'),\n",
       "  ('류구', 'Noun'),\n",
       "  ('의', 'Josa'),\n",
       "  ('표본', 'Noun'),\n",
       "  ('을', 'Josa'),\n",
       "  ('보면', 'Verb'),\n",
       "  ('마치', 'Noun'),\n",
       "  ('숯', 'Noun'),\n",
       "  ('덩이', 'Noun'),\n",
       "  ('로', 'Josa'),\n",
       "  ('가득', 'Noun'),\n",
       "  ('차', 'Noun'),\n",
       "  ('있는듯', 'Adjective'),\n",
       "  ('보이는데', 'Verb'),\n",
       "  ('이는', 'Verb'),\n",
       "  ('광학현미경', 'Noun'),\n",
       "  ('으로', 'Josa'),\n",
       "  ('촬영', 'Noun'),\n",
       "  ('됐기', 'Verb'),\n",
       "  ('때문', 'Noun'),\n",
       "  ('이다', 'Josa'),\n",
       "  ('.', 'Punctuation')],\n",
       " [],\n",
       " [('우리말', 'Noun'),\n",
       "  ('로', 'Josa'),\n",
       "  ('‘', 'Foreign'),\n",
       "  ('송골매', 'Noun'),\n",
       "  ('’', 'Punctuation'),\n",
       "  ('라는', 'Josa'),\n",
       "  ('뜻', 'Noun'),\n",
       "  ('을', 'Josa'),\n",
       "  ('가진', 'Verb'),\n",
       "  ('하야부사', 'Noun'),\n",
       "  ('2', 'Number'),\n",
       "  ('호', 'Noun'),\n",
       "  ('는', 'Josa'),\n",
       "  ('세계', 'Noun'),\n",
       "  ('처음', 'Noun'),\n",
       "  ('으로', 'Josa'),\n",
       "  ('소행성', 'Noun'),\n",
       "  ('‘', 'Foreign'),\n",
       "  ('이', 'Determiner'),\n",
       "  ('토카', 'Noun'),\n",
       "  ('와', 'Josa'),\n",
       "  ('’', 'Punctuation'),\n",
       "  ('의', 'Noun'),\n",
       "  ('미립', 'Noun'),\n",
       "  ('자', 'Suffix'),\n",
       "  ('를', 'Josa'),\n",
       "  ('가져온', 'Verb'),\n",
       "  ('하야부사', 'Noun'),\n",
       "  ('의', 'Josa'),\n",
       "  ('문제점', 'Noun'),\n",
       "  ('을', 'Josa'),\n",
       "  ('보완', 'Noun'),\n",
       "  (',', 'Punctuation'),\n",
       "  ('개발', 'Noun'),\n",
       "  ('해', 'Verb'),\n",
       "  ('지난', 'Noun'),\n",
       "  ('2014년', 'Number'),\n",
       "  ('12월', 'Number'),\n",
       "  ('발사', 'Noun'),\n",
       "  ('됐다', 'Verb'),\n",
       "  ('.', 'Punctuation'),\n",
       "  ('이후', 'Noun'),\n",
       "  ('하야부사', 'Noun'),\n",
       "  ('2', 'Number'),\n",
       "  ('호', 'Noun'),\n",
       "  ('는', 'Josa'),\n",
       "  ('지난해', 'Noun'),\n",
       "  ('7월', 'Number'),\n",
       "  ('지구', 'Noun'),\n",
       "  ('에서', 'Josa'),\n",
       "  ('약', 'Noun'),\n",
       "  ('3억', 'Number'),\n",
       "  ('4000만', 'Number'),\n",
       "  ('㎞', 'Foreign'),\n",
       "  ('떨어진', 'Verb'),\n",
       "  ('소행성', 'Noun'),\n",
       "  ('류구', 'Noun'),\n",
       "  ('에', 'Josa'),\n",
       "  ('접근', 'Noun'),\n",
       "  ('해', 'Verb'),\n",
       "  ('금속', 'Noun'),\n",
       "  ('탄환', 'Noun'),\n",
       "  ('으로', 'Josa'),\n",
       "  ('웅덩이', 'Noun'),\n",
       "  ('를', 'Josa'),\n",
       "  ('만든', 'Verb'),\n",
       "  ('뒤', 'Noun'),\n",
       "  ('내부', 'Noun'),\n",
       "  ('물질', 'Noun'),\n",
       "  ('을', 'Josa'),\n",
       "  ('채취', 'Noun'),\n",
       "  ('하는', 'Verb'),\n",
       "  ('데', 'Noun'),\n",
       "  ('성공했다', 'Adjective'),\n",
       "  ('.', 'Punctuation')],\n",
       " [],\n",
       " [('일본', 'Noun'),\n",
       "  ('우주', 'Noun'),\n",
       "  ('항공', 'Noun'),\n",
       "  ('연구개발', 'Noun'),\n",
       "  ('기구', 'Noun'),\n",
       "  ('(', 'Punctuation'),\n",
       "  ('JAXA', 'Alpha'),\n",
       "  (')', 'Punctuation'),\n",
       "  ('요원', 'Noun'),\n",
       "  ('이', 'Josa'),\n",
       "  ('6일', 'Number'),\n",
       "  ('호주', 'Noun'),\n",
       "  ('사우스', 'Noun'),\n",
       "  ('오스트레일리아', 'Noun'),\n",
       "  ('주', 'Noun'),\n",
       "  ('우메', 'Noun'),\n",
       "  ('라', 'Josa'),\n",
       "  ('사막', 'Noun'),\n",
       "  ('지대', 'Noun'),\n",
       "  ('에', 'Josa'),\n",
       "  ('떨어진', 'Verb'),\n",
       "  ('소행성', 'Noun'),\n",
       "  ('류구', 'Noun'),\n",
       "  ('의', 'Josa'),\n",
       "  ('내부', 'Noun'),\n",
       "  ('물질', 'Noun'),\n",
       "  ('을', 'Josa'),\n",
       "  ('담은', 'Verb'),\n",
       "  ('캡슐', 'Noun'),\n",
       "  ('을', 'Josa'),\n",
       "  ('회수', 'Noun'),\n",
       "  ('해', 'Verb'),\n",
       "  ('옮기고', 'Verb'),\n",
       "  ('있다', 'Adjective'),\n",
       "  ('.', 'Punctuation'),\n",
       "  ('JAXA', 'Alpha'),\n",
       "  ('제공', 'Noun'),\n",
       "  ('AP', 'Alpha'),\n",
       "  ('연합뉴스', 'Noun')],\n",
       " [('같은', 'Adjective'),\n",
       "  ('해', 'Noun'),\n",
       "  ('11월', 'Number'),\n",
       "  ('류구', 'Noun'),\n",
       "  ('를', 'Josa'),\n",
       "  ('출발', 'Noun'),\n",
       "  ('해', 'Verb'),\n",
       "  ('다시', 'Noun'),\n",
       "  ('지구', 'Noun'),\n",
       "  ('로', 'Josa'),\n",
       "  ('향', 'Noun'),\n",
       "  ('한', 'Josa'),\n",
       "  ('하야부사', 'Noun'),\n",
       "  ('2', 'Number'),\n",
       "  ('호', 'Noun'),\n",
       "  ('는', 'Josa'),\n",
       "  ('지난', 'Noun'),\n",
       "  ('5일', 'Number'),\n",
       "  ('채취', 'Noun'),\n",
       "  ('한', 'Josa'),\n",
       "  ('표본', 'Noun'),\n",
       "  ('이', 'Josa'),\n",
       "  ('담긴', 'Verb'),\n",
       "  ('캡슐', 'Noun'),\n",
       "  ('을', 'Josa'),\n",
       "  ('분리', 'Noun'),\n",
       "  ('해', 'Verb'),\n",
       "  ('호주', 'Noun'),\n",
       "  ('서부', 'Noun'),\n",
       "  ('사막', 'Noun'),\n",
       "  ('에', 'Josa'),\n",
       "  ('떨어뜨리고', 'Verb'),\n",
       "  ('새', 'Noun'),\n",
       "  ('탐사', 'Noun'),\n",
       "  ('지인', 'Noun'),\n",
       "  ('지구', 'Noun'),\n",
       "  ('와', 'Josa'),\n",
       "  ('화성', 'Noun'),\n",
       "  ('사이', 'Noun'),\n",
       "  ('를', 'Josa'),\n",
       "  ('도', 'Noun'),\n",
       "  ('는', 'Josa'),\n",
       "  ('소행성', 'Noun'),\n",
       "  (\"'\", 'Punctuation'),\n",
       "  ('1998', 'Number'),\n",
       "  ('KY', 'Alpha'),\n",
       "  ('26', 'Number'),\n",
       "  (\"'\", 'Punctuation'),\n",
       "  ('으로', 'Josa'),\n",
       "  ('향', 'Noun'),\n",
       "  ('했다', 'Verb'),\n",
       "  ('.', 'Punctuation')],\n",
       " [],\n",
       " [('하야부사', 'Noun'),\n",
       "  ('2', 'Number'),\n",
       "  ('호가', 'Noun'),\n",
       "  ('6년', 'Number'),\n",
       "  ('동안', 'Noun'),\n",
       "  ('비행', 'Noun'),\n",
       "  ('한', 'Josa'),\n",
       "  ('거리', 'Noun'),\n",
       "  ('는', 'Josa'),\n",
       "  ('52억', 'Number'),\n",
       "  ('㎞', 'Foreign'),\n",
       "  ('로', 'Noun'),\n",
       "  ('이는', 'Verb'),\n",
       "  ('지구', 'Noun'),\n",
       "  ('와', 'Josa'),\n",
       "  ('달', 'Noun'),\n",
       "  ('사이', 'Noun'),\n",
       "  ('평균', 'Noun'),\n",
       "  ('거리', 'Noun'),\n",
       "  ('에', 'Josa'),\n",
       "  ('1만', 'Number'),\n",
       "  ('3500', 'Number'),\n",
       "  ('배', 'Noun'),\n",
       "  ('에', 'Josa'),\n",
       "  ('달', 'Noun'),\n",
       "  ('한', 'Josa'),\n",
       "  ('다', 'Adverb'),\n",
       "  ('.', 'Punctuation')],\n",
       " [],\n",
       " [('하야부사', 'Noun'),\n",
       "  ('2', 'Number'),\n",
       "  ('호가', 'Noun'),\n",
       "  ('탐사', 'Noun'),\n",
       "  ('한', 'Josa'),\n",
       "  ('류구', 'Noun'),\n",
       "  ('는', 'Josa'),\n",
       "  ('수많은', 'Adjective'),\n",
       "  ('바위', 'Noun'),\n",
       "  ('와', 'Josa'),\n",
       "  ('돌', 'Noun'),\n",
       "  ('로', 'Josa'),\n",
       "  ('가득한', 'Adjective'),\n",
       "  ('소행성', 'Noun'),\n",
       "  ('으로', 'Josa'),\n",
       "  ('지름', 'Noun'),\n",
       "  ('은', 'Josa'),\n",
       "  ('870', 'Number'),\n",
       "  ('m', 'Alpha'),\n",
       "  (',', 'Punctuation'),\n",
       "  ('공전주기', 'Noun'),\n",
       "  ('는', 'Josa'),\n",
       "  ('475일', 'Number'),\n",
       "  (',', 'Punctuation'),\n",
       "  ('자전주기', 'Noun'),\n",
       "  ('는', 'Josa'),\n",
       "  ('7.5시간', 'Number'),\n",
       "  ('이다', 'Foreign'),\n",
       "  ('.', 'Punctuation'),\n",
       "  ('특히', 'Adverb'),\n",
       "  ('태양계', 'Noun'),\n",
       "  ('형성', 'Noun'),\n",
       "  ('당시', 'Noun'),\n",
       "  ('의', 'Josa'),\n",
       "  ('물질', 'Noun'),\n",
       "  ('이', 'Josa'),\n",
       "  ('고스', 'Noun'),\n",
       "  ('란', 'Noun'),\n",
       "  ('히', 'Adverb'),\n",
       "  ('남아있을', 'Verb'),\n",
       "  ('것', 'Noun'),\n",
       "  ('으로', 'Josa'),\n",
       "  ('추정', 'Noun'),\n",
       "  ('돼', 'Verb'),\n",
       "  ('연', 'Modifier'),\n",
       "  ('구', 'Modifier'),\n",
       "  ('가치', 'Noun'),\n",
       "  ('가', 'Josa'),\n",
       "  ('매우', 'Noun'),\n",
       "  ('높다', 'Adjective'),\n",
       "  ('.', 'Punctuation'),\n",
       "  ('곧', 'Noun'),\n",
       "  ('이번', 'Noun'),\n",
       "  ('에', 'Josa'),\n",
       "  ('탐사선', 'Noun'),\n",
       "  ('이', 'Josa'),\n",
       "  ('가져온', 'Verb'),\n",
       "  ('표본', 'Noun'),\n",
       "  ('에는', 'Josa'),\n",
       "  ('태양계', 'Noun'),\n",
       "  ('와', 'Josa'),\n",
       "  ('지구', 'Noun'),\n",
       "  ('탄생', 'Noun'),\n",
       "  ('의', 'Josa'),\n",
       "  ('비밀', 'Noun'),\n",
       "  ('을', 'Josa'),\n",
       "  ('풀어줄', 'Verb'),\n",
       "  ('단서', 'Noun'),\n",
       "  ('가', 'Josa'),\n",
       "  ('담겨있을', 'Verb'),\n",
       "  ('수', 'Noun'),\n",
       "  ('있다', 'Adjective'),\n",
       "  ('.', 'Punctuation')]]"
      ]
     },
     "execution_count": 74,
     "metadata": {},
     "output_type": "execute_result"
    }
   ],
   "source": [
    "news_token_pos"
   ]
  },
  {
   "cell_type": "code",
   "execution_count": 75,
   "metadata": {
    "id": "IF_lWsdgwWAh"
   },
   "outputs": [],
   "source": [
    "news_token_pos = []"
   ]
  },
  {
   "cell_type": "code",
   "execution_count": 76,
   "metadata": {
    "id": "v3RQ9c0fyx9Y"
   },
   "outputs": [],
   "source": [
    "def get_noun_and_verb(pos_token_list):\n",
    "    result = []\n",
    "    for (word, pos) in pos_token_list:\n",
    "        if pos == 'Noun' or pos == 'Verb':\n",
    "            result.append(word)\n",
    "            print('word :{}, pos:{}'.format(word, pos))\n",
    "    return result\n"
   ]
  },
  {
   "cell_type": "code",
   "execution_count": 77,
   "metadata": {
    "colab": {
     "base_uri": "https://localhost:8080/"
    },
    "id": "z_FJyfOvyr_h",
    "outputId": "82770f83-4acf-4d63-8cec-b87392ea1ea7"
   },
   "outputs": [
    {
     "name": "stdout",
     "output_type": "stream",
     "text": [
      "word :일본, pos:Noun\n",
      "word :소행성, pos:Noun\n",
      "word :탐사선, pos:Noun\n",
      "word :하야부사, pos:Noun\n",
      "word :호가, pos:Noun\n",
      "word :소행성, pos:Noun\n",
      "word :류구, pos:Noun\n",
      "word :채취, pos:Noun\n",
      "word :표본, pos:Noun\n",
      "word :흙, pos:Noun\n",
      "word :의, pos:Noun\n",
      "word :사진, pos:Noun\n",
      "word :공개, pos:Noun\n",
      "word :됐다, pos:Verb\n",
      "word :최근, pos:Noun\n",
      "word :일본, pos:Noun\n",
      "word :우주, pos:Noun\n",
      "word :항공, pos:Noun\n",
      "word :연구개발, pos:Noun\n",
      "word :기구, pos:Noun\n",
      "word :는, pos:Verb\n",
      "word :최대, pos:Noun\n",
      "word :달, pos:Noun\n",
      "word :하는, pos:Verb\n",
      "word :표본, pos:Noun\n",
      "word :포함, pos:Noun\n",
      "word :지금, pos:Noun\n",
      "word :이상, pos:Noun\n",
      "word :입자, pos:Noun\n",
      "word :다수, pos:Noun\n",
      "word :발견, pos:Noun\n",
      "word :됐다고, pos:Verb\n",
      "word :밝혔다, pos:Verb\n",
      "word :하야부사, pos:Noun\n",
      "word :호가, pos:Noun\n",
      "word :류구, pos:Noun\n",
      "word :가져온, pos:Verb\n",
      "word :표본, pos:Noun\n",
      "word :총, pos:Noun\n",
      "word :정도, pos:Noun\n",
      "word :이는, pos:Verb\n",
      "word :목표, pos:Noun\n",
      "word :치의, pos:Noun\n",
      "word :배, pos:Noun\n",
      "word :넘는다, pos:Verb\n",
      "word :지난, pos:Noun\n",
      "word :가, pos:Verb\n",
      "word :공개, pos:Noun\n",
      "word :류구, pos:Noun\n",
      "word :표본, pos:Noun\n",
      "word :보면, pos:Verb\n",
      "word :마치, pos:Noun\n",
      "word :숯, pos:Noun\n",
      "word :덩이, pos:Noun\n",
      "word :가득, pos:Noun\n",
      "word :차, pos:Noun\n",
      "word :보이는데, pos:Verb\n",
      "word :이는, pos:Verb\n",
      "word :광학현미경, pos:Noun\n",
      "word :촬영, pos:Noun\n",
      "word :됐기, pos:Verb\n",
      "word :때문, pos:Noun\n",
      "word :우리말, pos:Noun\n",
      "word :송골매, pos:Noun\n",
      "word :뜻, pos:Noun\n",
      "word :가진, pos:Verb\n",
      "word :하야부사, pos:Noun\n",
      "word :호, pos:Noun\n",
      "word :세계, pos:Noun\n",
      "word :처음, pos:Noun\n",
      "word :소행성, pos:Noun\n",
      "word :토카, pos:Noun\n",
      "word :의, pos:Noun\n",
      "word :미립, pos:Noun\n",
      "word :가져온, pos:Verb\n",
      "word :하야부사, pos:Noun\n",
      "word :문제점, pos:Noun\n",
      "word :보완, pos:Noun\n",
      "word :개발, pos:Noun\n",
      "word :해, pos:Verb\n",
      "word :지난, pos:Noun\n",
      "word :발사, pos:Noun\n",
      "word :됐다, pos:Verb\n",
      "word :이후, pos:Noun\n",
      "word :하야부사, pos:Noun\n",
      "word :호, pos:Noun\n",
      "word :지난해, pos:Noun\n",
      "word :지구, pos:Noun\n",
      "word :약, pos:Noun\n",
      "word :떨어진, pos:Verb\n",
      "word :소행성, pos:Noun\n",
      "word :류구, pos:Noun\n",
      "word :접근, pos:Noun\n",
      "word :해, pos:Verb\n",
      "word :금속, pos:Noun\n",
      "word :탄환, pos:Noun\n",
      "word :웅덩이, pos:Noun\n",
      "word :만든, pos:Verb\n",
      "word :뒤, pos:Noun\n",
      "word :내부, pos:Noun\n",
      "word :물질, pos:Noun\n",
      "word :채취, pos:Noun\n",
      "word :하는, pos:Verb\n",
      "word :데, pos:Noun\n",
      "word :일본, pos:Noun\n",
      "word :우주, pos:Noun\n",
      "word :항공, pos:Noun\n",
      "word :연구개발, pos:Noun\n",
      "word :기구, pos:Noun\n",
      "word :요원, pos:Noun\n",
      "word :호주, pos:Noun\n",
      "word :사우스, pos:Noun\n",
      "word :오스트레일리아, pos:Noun\n",
      "word :주, pos:Noun\n",
      "word :우메, pos:Noun\n",
      "word :사막, pos:Noun\n",
      "word :지대, pos:Noun\n",
      "word :떨어진, pos:Verb\n",
      "word :소행성, pos:Noun\n",
      "word :류구, pos:Noun\n",
      "word :내부, pos:Noun\n",
      "word :물질, pos:Noun\n",
      "word :담은, pos:Verb\n",
      "word :캡슐, pos:Noun\n",
      "word :회수, pos:Noun\n",
      "word :해, pos:Verb\n",
      "word :옮기고, pos:Verb\n",
      "word :제공, pos:Noun\n",
      "word :연합뉴스, pos:Noun\n",
      "word :해, pos:Noun\n",
      "word :류구, pos:Noun\n",
      "word :출발, pos:Noun\n",
      "word :해, pos:Verb\n",
      "word :다시, pos:Noun\n",
      "word :지구, pos:Noun\n",
      "word :향, pos:Noun\n",
      "word :하야부사, pos:Noun\n",
      "word :호, pos:Noun\n",
      "word :지난, pos:Noun\n",
      "word :채취, pos:Noun\n",
      "word :표본, pos:Noun\n",
      "word :담긴, pos:Verb\n",
      "word :캡슐, pos:Noun\n",
      "word :분리, pos:Noun\n",
      "word :해, pos:Verb\n",
      "word :호주, pos:Noun\n",
      "word :서부, pos:Noun\n",
      "word :사막, pos:Noun\n",
      "word :떨어뜨리고, pos:Verb\n",
      "word :새, pos:Noun\n",
      "word :탐사, pos:Noun\n",
      "word :지인, pos:Noun\n",
      "word :지구, pos:Noun\n",
      "word :화성, pos:Noun\n",
      "word :사이, pos:Noun\n",
      "word :도, pos:Noun\n",
      "word :소행성, pos:Noun\n",
      "word :향, pos:Noun\n",
      "word :했다, pos:Verb\n",
      "word :하야부사, pos:Noun\n",
      "word :호가, pos:Noun\n",
      "word :동안, pos:Noun\n",
      "word :비행, pos:Noun\n",
      "word :거리, pos:Noun\n",
      "word :로, pos:Noun\n",
      "word :이는, pos:Verb\n",
      "word :지구, pos:Noun\n",
      "word :달, pos:Noun\n",
      "word :사이, pos:Noun\n",
      "word :평균, pos:Noun\n",
      "word :거리, pos:Noun\n",
      "word :배, pos:Noun\n",
      "word :달, pos:Noun\n",
      "word :하야부사, pos:Noun\n",
      "word :호가, pos:Noun\n",
      "word :탐사, pos:Noun\n",
      "word :류구, pos:Noun\n",
      "word :바위, pos:Noun\n",
      "word :돌, pos:Noun\n",
      "word :소행성, pos:Noun\n",
      "word :지름, pos:Noun\n",
      "word :공전주기, pos:Noun\n",
      "word :자전주기, pos:Noun\n",
      "word :태양계, pos:Noun\n",
      "word :형성, pos:Noun\n",
      "word :당시, pos:Noun\n",
      "word :물질, pos:Noun\n",
      "word :고스, pos:Noun\n",
      "word :란, pos:Noun\n",
      "word :남아있을, pos:Verb\n",
      "word :것, pos:Noun\n",
      "word :추정, pos:Noun\n",
      "word :돼, pos:Verb\n",
      "word :가치, pos:Noun\n",
      "word :매우, pos:Noun\n",
      "word :곧, pos:Noun\n",
      "word :이번, pos:Noun\n",
      "word :탐사선, pos:Noun\n",
      "word :가져온, pos:Verb\n",
      "word :표본, pos:Noun\n",
      "word :태양계, pos:Noun\n",
      "word :지구, pos:Noun\n",
      "word :탄생, pos:Noun\n",
      "word :비밀, pos:Noun\n",
      "word :풀어줄, pos:Verb\n",
      "word :단서, pos:Noun\n",
      "word :담겨있을, pos:Verb\n",
      "word :수, pos:Noun\n"
     ]
    }
   ],
   "source": [
    "for news in news_list:\n",
    "    news_token_pos.append(get_noun_and_verb(okt.pos(news)))"
   ]
  },
  {
   "cell_type": "code",
   "execution_count": 78,
   "metadata": {
    "colab": {
     "base_uri": "https://localhost:8080/"
    },
    "id": "4QN7vvdczjsy",
    "outputId": "48e214cf-abb5-4cb0-fef1-b533e0b53189"
   },
   "outputs": [
    {
     "data": {
      "text/plain": [
       "[['일본',\n",
       "  '소행성',\n",
       "  '탐사선',\n",
       "  '하야부사',\n",
       "  '호가',\n",
       "  '소행성',\n",
       "  '류구',\n",
       "  '채취',\n",
       "  '표본',\n",
       "  '흙',\n",
       "  '의',\n",
       "  '사진',\n",
       "  '공개',\n",
       "  '됐다',\n",
       "  '최근',\n",
       "  '일본',\n",
       "  '우주',\n",
       "  '항공',\n",
       "  '연구개발',\n",
       "  '기구',\n",
       "  '는',\n",
       "  '최대',\n",
       "  '달',\n",
       "  '하는',\n",
       "  '표본',\n",
       "  '포함',\n",
       "  '지금',\n",
       "  '이상',\n",
       "  '입자',\n",
       "  '다수',\n",
       "  '발견',\n",
       "  '됐다고',\n",
       "  '밝혔다',\n",
       "  '하야부사',\n",
       "  '호가',\n",
       "  '류구',\n",
       "  '가져온',\n",
       "  '표본',\n",
       "  '총',\n",
       "  '정도',\n",
       "  '이는',\n",
       "  '목표',\n",
       "  '치의',\n",
       "  '배',\n",
       "  '넘는다'],\n",
       " [],\n",
       " ['지난',\n",
       "  '가',\n",
       "  '공개',\n",
       "  '류구',\n",
       "  '표본',\n",
       "  '보면',\n",
       "  '마치',\n",
       "  '숯',\n",
       "  '덩이',\n",
       "  '가득',\n",
       "  '차',\n",
       "  '보이는데',\n",
       "  '이는',\n",
       "  '광학현미경',\n",
       "  '촬영',\n",
       "  '됐기',\n",
       "  '때문'],\n",
       " [],\n",
       " ['우리말',\n",
       "  '송골매',\n",
       "  '뜻',\n",
       "  '가진',\n",
       "  '하야부사',\n",
       "  '호',\n",
       "  '세계',\n",
       "  '처음',\n",
       "  '소행성',\n",
       "  '토카',\n",
       "  '의',\n",
       "  '미립',\n",
       "  '가져온',\n",
       "  '하야부사',\n",
       "  '문제점',\n",
       "  '보완',\n",
       "  '개발',\n",
       "  '해',\n",
       "  '지난',\n",
       "  '발사',\n",
       "  '됐다',\n",
       "  '이후',\n",
       "  '하야부사',\n",
       "  '호',\n",
       "  '지난해',\n",
       "  '지구',\n",
       "  '약',\n",
       "  '떨어진',\n",
       "  '소행성',\n",
       "  '류구',\n",
       "  '접근',\n",
       "  '해',\n",
       "  '금속',\n",
       "  '탄환',\n",
       "  '웅덩이',\n",
       "  '만든',\n",
       "  '뒤',\n",
       "  '내부',\n",
       "  '물질',\n",
       "  '채취',\n",
       "  '하는',\n",
       "  '데'],\n",
       " [],\n",
       " ['일본',\n",
       "  '우주',\n",
       "  '항공',\n",
       "  '연구개발',\n",
       "  '기구',\n",
       "  '요원',\n",
       "  '호주',\n",
       "  '사우스',\n",
       "  '오스트레일리아',\n",
       "  '주',\n",
       "  '우메',\n",
       "  '사막',\n",
       "  '지대',\n",
       "  '떨어진',\n",
       "  '소행성',\n",
       "  '류구',\n",
       "  '내부',\n",
       "  '물질',\n",
       "  '담은',\n",
       "  '캡슐',\n",
       "  '회수',\n",
       "  '해',\n",
       "  '옮기고',\n",
       "  '제공',\n",
       "  '연합뉴스'],\n",
       " ['해',\n",
       "  '류구',\n",
       "  '출발',\n",
       "  '해',\n",
       "  '다시',\n",
       "  '지구',\n",
       "  '향',\n",
       "  '하야부사',\n",
       "  '호',\n",
       "  '지난',\n",
       "  '채취',\n",
       "  '표본',\n",
       "  '담긴',\n",
       "  '캡슐',\n",
       "  '분리',\n",
       "  '해',\n",
       "  '호주',\n",
       "  '서부',\n",
       "  '사막',\n",
       "  '떨어뜨리고',\n",
       "  '새',\n",
       "  '탐사',\n",
       "  '지인',\n",
       "  '지구',\n",
       "  '화성',\n",
       "  '사이',\n",
       "  '도',\n",
       "  '소행성',\n",
       "  '향',\n",
       "  '했다'],\n",
       " [],\n",
       " ['하야부사',\n",
       "  '호가',\n",
       "  '동안',\n",
       "  '비행',\n",
       "  '거리',\n",
       "  '로',\n",
       "  '이는',\n",
       "  '지구',\n",
       "  '달',\n",
       "  '사이',\n",
       "  '평균',\n",
       "  '거리',\n",
       "  '배',\n",
       "  '달'],\n",
       " [],\n",
       " ['하야부사',\n",
       "  '호가',\n",
       "  '탐사',\n",
       "  '류구',\n",
       "  '바위',\n",
       "  '돌',\n",
       "  '소행성',\n",
       "  '지름',\n",
       "  '공전주기',\n",
       "  '자전주기',\n",
       "  '태양계',\n",
       "  '형성',\n",
       "  '당시',\n",
       "  '물질',\n",
       "  '고스',\n",
       "  '란',\n",
       "  '남아있을',\n",
       "  '것',\n",
       "  '추정',\n",
       "  '돼',\n",
       "  '가치',\n",
       "  '매우',\n",
       "  '곧',\n",
       "  '이번',\n",
       "  '탐사선',\n",
       "  '가져온',\n",
       "  '표본',\n",
       "  '태양계',\n",
       "  '지구',\n",
       "  '탄생',\n",
       "  '비밀',\n",
       "  '풀어줄',\n",
       "  '단서',\n",
       "  '담겨있을',\n",
       "  '수']]"
      ]
     },
     "execution_count": 78,
     "metadata": {},
     "output_type": "execute_result"
    }
   ],
   "source": [
    "news_token_pos"
   ]
  },
  {
   "cell_type": "code",
   "execution_count": 79,
   "metadata": {
    "id": "uPDSwhJ7zpd0"
   },
   "outputs": [],
   "source": [
    "model_pos = Word2Vec(sentences = news_token_pos, size = 128, window = 5, min_count = 2)"
   ]
  },
  {
   "cell_type": "code",
   "execution_count": 80,
   "metadata": {
    "colab": {
     "base_uri": "https://localhost:8080/"
    },
    "id": "3G76sv7Xz4QL",
    "outputId": "a21aae17-06b3-4f12-f333-d3462347a753"
   },
   "outputs": [
    {
     "name": "stdout",
     "output_type": "stream",
     "text": [
      "Word2Vec(vocab=35, size=128, alpha=0.025)\n"
     ]
    }
   ],
   "source": [
    "print(model_pos)"
   ]
  },
  {
   "cell_type": "code",
   "execution_count": 81,
   "metadata": {
    "colab": {
     "base_uri": "https://localhost:8080/"
    },
    "id": "vfjQk6kgz49P",
    "outputId": "bac4d33e-1458-4837-cade-fa250a3bc3e1"
   },
   "outputs": [
    {
     "data": {
      "text/plain": [
       "['하야부사',\n",
       " '소행성',\n",
       " '류구',\n",
       " '표본',\n",
       " '해',\n",
       " '지구',\n",
       " '호가',\n",
       " '일본',\n",
       " '채취',\n",
       " '달',\n",
       " '가져온',\n",
       " '이는',\n",
       " '지난',\n",
       " '호',\n",
       " '물질',\n",
       " '탐사선',\n",
       " '의',\n",
       " '공개',\n",
       " '됐다',\n",
       " '우주',\n",
       " '항공',\n",
       " '연구개발',\n",
       " '기구',\n",
       " '하는',\n",
       " '배',\n",
       " '떨어진',\n",
       " '내부',\n",
       " '호주',\n",
       " '사막',\n",
       " '캡슐',\n",
       " '향',\n",
       " '탐사',\n",
       " '사이',\n",
       " '거리',\n",
       " '태양계']"
      ]
     },
     "execution_count": 81,
     "metadata": {},
     "output_type": "execute_result"
    }
   ],
   "source": [
    "model_pos.wv.index2word"
   ]
  },
  {
   "cell_type": "code",
   "execution_count": 82,
   "metadata": {
    "colab": {
     "base_uri": "https://localhost:8080/"
    },
    "id": "HPKGlF4y0Bv_",
    "outputId": "0b19d83c-238e-4d63-ef4d-f5673f936073"
   },
   "outputs": [
    {
     "name": "stderr",
     "output_type": "stream",
     "text": [
      "C:\\Users\\joowo\\Anaconda3\\envs\\npl_study\\lib\\site-packages\\ipykernel_launcher.py:3: DeprecationWarning: Call to deprecated `__getitem__` (Method will be removed in 4.0.0, use self.wv.__getitem__() instead).\n",
      "  This is separate from the ipykernel package so we can avoid doing imports until\n"
     ]
    }
   ],
   "source": [
    "from sklearn.decomposition import PCA\n",
    "pca = PCA(n_components=2)\n",
    "X = model_pos[model_pos.wv.vocab]\n",
    "result_pos = pca.fit_transform(X)"
   ]
  },
  {
   "cell_type": "code",
   "execution_count": 83,
   "metadata": {
    "colab": {
     "base_uri": "https://localhost:8080/",
     "height": 873
    },
    "id": "RTLyrrK80Qz6",
    "outputId": "9d5f2a49-9ab3-4b95-d6f3-316d0d71eae3"
   },
   "outputs": [
    {
     "data": {
      "image/png": "[encoded data removed]",
      "text/plain": [
       "<Figure size 1440x1080 with 1 Axes>"
      ]
     },
     "metadata": {
      "needs_background": "light"
     },
     "output_type": "display_data"
    }
   ],
   "source": [
    "plt.rcParams[\"font.size\"] = 20\n",
    "plt.rcParams[\"figure.figsize\"] = (20,15)\n",
    "plt.scatter(result_pos[:, 0], result_pos[:, 1])\n",
    "words = list(model_pos.wv.vocab)\n",
    "for i, word in enumerate(words):\n",
    "\tplt.annotate(word, xy=(result_pos[i, 0], result_pos[i, 1]))\n",
    "\n",
    "# 그래프에서 마이너스 폰트 깨지는 문제에 대한 대처\n",
    "mpl.rcParams['axes.unicode_minus'] = False\n",
    "\n",
    "plt.show()"
   ]
  },
  {
   "cell_type": "code",
   "execution_count": null,
   "metadata": {
    "id": "GZfzBp6P0ras"
   },
   "outputs": [],
   "source": []
  }
 ],
 "metadata": {
  "colab": {
   "collapsed_sections": [],
   "name": "lab2_nlp_base.ipynb",
   "provenance": [],
   "toc_visible": true
  },
  "kernelspec": {
   "display_name": "Python 3",
   "language": "python",
   "name": "python3"
  },
  "language_info": {
   "codemirror_mode": {
    "name": "ipython",
    "version": 3
   },
   "file_extension": ".py",
   "mimetype": "text/x-python",
   "name": "python",
   "nbconvert_exporter": "python",
   "pygments_lexer": "ipython3",
   "version": "3.7.9"
  }
 },
 "nbformat": 4,
 "nbformat_minor": 1
}
