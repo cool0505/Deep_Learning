{
  "nbformat": 4,
  "nbformat_minor": 0,
  "metadata": {
    "colab": {
      "name": "lab2_nlp_base.ipynb",
      "provenance": [],
      "collapsed_sections": [],
      "toc_visible": true
    },
    "kernelspec": {
      "name": "python3",
      "display_name": "Python 3"
    }
  },
  "cells": [
    {
      "cell_type": "markdown",
      "metadata": {
        "id": "yTEo1FwHU7-N"
      },
      "source": [
        "# NLP(Natural Language Processing) 기초"
      ]
    },
    {
      "cell_type": "markdown",
      "metadata": {
        "id": "JVDbiN8hVC9H"
      },
      "source": [
        "## word embedding"
      ]
    },
    {
      "cell_type": "markdown",
      "metadata": {
        "id": "HNzDw6qzV05z"
      },
      "source": [
        "### sparse representation"
      ]
    },
    {
      "cell_type": "markdown",
      "metadata": {
        "id": "3tXsATOaYl8R"
      },
      "source": [
        "- ['빨강', '빨강', '파랑']\r\n",
        "  - binary\r\n",
        "    ```\r\n",
        "    [0, 0, 1]\r\n",
        "    ```\r\n",
        "  - one-hot encoding \r\n",
        "    ```\r\n",
        "    [\r\n",
        "      [1, 0]\r\n",
        "      [1, 0]\r\n",
        "      [0. 1]\r\n",
        "    ]\r\n",
        "    ```\r\n",
        " \r\n",
        "\r\n"
      ]
    },
    {
      "cell_type": "code",
      "metadata": {
        "id": "aakkMBI9Z6fF",
        "colab": {
          "base_uri": "https://localhost:8080/"
        },
        "outputId": "8fa14658-adea-4b8f-a43b-da3c8e448835"
      },
      "source": [
        "from numpy import array\r\n",
        "from numpy import argmax\r\n",
        "from sklearn.preprocessing import LabelEncoder\r\n",
        "import numpy as np\r\n",
        "from keras.utils import to_categorical\r\n",
        "# define example\r\n",
        "data = ['빨강', '파랑', '노랑', '초록', '노랑', '파랑', '초록', '빨강', '초록', '빨강']\r\n",
        "print(data)\r\n",
        "data = np.array(data)\r\n",
        "\r\n",
        "\r\n",
        "\r\n"
      ],
      "execution_count": 3,
      "outputs": [
        {
          "output_type": "stream",
          "text": [
            "['빨강', '파랑', '노랑', '초록', '노랑', '파랑', '초록', '빨강', '초록', '빨강']\n"
          ],
          "name": "stdout"
        }
      ]
    },
    {
      "cell_type": "code",
      "metadata": {
        "id": "YmB8O7BkeXn6",
        "colab": {
          "base_uri": "https://localhost:8080/"
        },
        "outputId": "65f08c65-8afe-4225-be11-f31fd1e86c88"
      },
      "source": [
        "# string to index label\r\n",
        "label_encoder = LabelEncoder()\r\n",
        "vec = label_encoder.fit_transform(data)\r\n",
        "print(vec)"
      ],
      "execution_count": 4,
      "outputs": [
        {
          "output_type": "stream",
          "text": [
            "[1 3 0 2 0 3 2 1 2 1]\n"
          ],
          "name": "stdout"
        }
      ]
    },
    {
      "cell_type": "code",
      "metadata": {
        "id": "R6FWKLChfBq7",
        "colab": {
          "base_uri": "https://localhost:8080/"
        },
        "outputId": "79c2ebdd-3768-4e3e-d58c-340f3b001fbc"
      },
      "source": [
        "# print label classes\r\n",
        "print(label_encoder.classes_)"
      ],
      "execution_count": 5,
      "outputs": [
        {
          "output_type": "stream",
          "text": [
            "['노랑' '빨강' '초록' '파랑']\n"
          ],
          "name": "stdout"
        }
      ]
    },
    {
      "cell_type": "code",
      "metadata": {
        "id": "vOOU1oJCeSfn",
        "colab": {
          "base_uri": "https://localhost:8080/"
        },
        "outputId": "186a6982-45e5-41a1-b749-920914acf292"
      },
      "source": [
        "# one hot encode\r\n",
        "encoded = to_categorical(vec)\r\n",
        "print(encoded)"
      ],
      "execution_count": 6,
      "outputs": [
        {
          "output_type": "stream",
          "text": [
            "[[0. 1. 0. 0.]\n",
            " [0. 0. 0. 1.]\n",
            " [1. 0. 0. 0.]\n",
            " [0. 0. 1. 0.]\n",
            " [1. 0. 0. 0.]\n",
            " [0. 0. 0. 1.]\n",
            " [0. 0. 1. 0.]\n",
            " [0. 1. 0. 0.]\n",
            " [0. 0. 1. 0.]\n",
            " [0. 1. 0. 0.]]\n"
          ],
          "name": "stdout"
        }
      ]
    },
    {
      "cell_type": "code",
      "metadata": {
        "id": "74HS8dMheL90",
        "colab": {
          "base_uri": "https://localhost:8080/"
        },
        "outputId": "b108c6c4-f65b-4301-c06c-a436742acc90"
      },
      "source": [
        "# invert encoding\r\n",
        "inverted = argmax(encoded[1])\r\n",
        "print(inverted)\r\n",
        "inverted_string = label_encoder.inverse_transform([inverted])\r\n",
        "print(inverted_string)"
      ],
      "execution_count": 7,
      "outputs": [
        {
          "output_type": "stream",
          "text": [
            "3\n",
            "['파랑']\n"
          ],
          "name": "stdout"
        }
      ]
    },
    {
      "cell_type": "markdown",
      "metadata": {
        "id": "ocIMvCnWfq3N"
      },
      "source": [
        "#### 단점\r\n",
        "- class가 많아지면 표현하기위해서 0이 많아져 데이터 양이 많아지고\r\n",
        "- 실제 의미있는 데이터는 적어진다.(대량의 0, 그중에 하나만 1)\r\n",
        "- 단어의 종류가 10,000 개라면 10,000 column 의 array\r\n",
        "- 단어의 종류가 100,000 개라면 100,000 column의 array \r\n",
        "- -->sparse representation"
      ]
    },
    {
      "cell_type": "markdown",
      "metadata": {
        "id": "uQkjf-91V3Tj"
      },
      "source": [
        "### dense *representation*"
      ]
    },
    {
      "cell_type": "code",
      "metadata": {
        "id": "8eS5YEWCU3tk"
      },
      "source": [
        "# define training data\r\n",
        "sentences = [['this', 'is', 'the', 'first', 'sentence', 'for', 'word2vec'],\r\n",
        "\t\t\t['this', 'is', 'the', 'second', 'sentence'],\r\n",
        "\t\t\t['yet', 'another', 'sentence'],\r\n",
        "\t\t\t['one', 'more', 'sentence'],\r\n",
        "\t\t\t['and', 'the', 'final', 'sentence']]"
      ],
      "execution_count": 8,
      "outputs": []
    },
    {
      "cell_type": "code",
      "metadata": {
        "id": "d3pYwiNglzMo"
      },
      "source": [
        "from gensim.models import Word2Vec"
      ],
      "execution_count": 9,
      "outputs": []
    },
    {
      "cell_type": "code",
      "metadata": {
        "id": "hiVW9BuwgpFJ"
      },
      "source": [
        "model = Word2Vec(sentences, min_count=1, size=100)"
      ],
      "execution_count": 10,
      "outputs": []
    },
    {
      "cell_type": "code",
      "metadata": {
        "id": "7ceSd8YqhwBz",
        "colab": {
          "base_uri": "https://localhost:8080/"
        },
        "outputId": "a8fb125f-3e0d-410e-ac9d-ba80e88b62a6"
      },
      "source": [
        "# summarize the loaded model\r\n",
        "print(model)"
      ],
      "execution_count": 11,
      "outputs": [
        {
          "output_type": "stream",
          "text": [
            "Word2Vec(vocab=14, size=100, alpha=0.025)\n"
          ],
          "name": "stdout"
        }
      ]
    },
    {
      "cell_type": "code",
      "metadata": {
        "id": "8xOqRgdSg-UN",
        "colab": {
          "base_uri": "https://localhost:8080/"
        },
        "outputId": "d029d366-c875-4b26-fd8f-5f8426a724ad"
      },
      "source": [
        "# summarize vocabulary\r\n",
        "words = list(model.wv.vocab)\r\n",
        "print(words)"
      ],
      "execution_count": 12,
      "outputs": [
        {
          "output_type": "stream",
          "text": [
            "['this', 'is', 'the', 'first', 'sentence', 'for', 'word2vec', 'second', 'yet', 'another', 'one', 'more', 'and', 'final']\n"
          ],
          "name": "stdout"
        }
      ]
    },
    {
      "cell_type": "code",
      "metadata": {
        "id": "1MNXCYCChErd",
        "colab": {
          "base_uri": "https://localhost:8080/"
        },
        "outputId": "634e38dd-cb7f-4dba-db0b-a99c08ae3c1f"
      },
      "source": [
        "# access vector for one word\r\n",
        "print(model['sentence'])"
      ],
      "execution_count": 13,
      "outputs": [
        {
          "output_type": "stream",
          "text": [
            "[-0.00102209  0.00243139  0.00124232 -0.00274774 -0.00166544  0.0038229\n",
            "  0.00029158  0.0014049   0.00180354 -0.00109376 -0.00026478 -0.00150096\n",
            "  0.0018014   0.00121722  0.00206888  0.00093106  0.00425873  0.00035812\n",
            "  0.00202653  0.003601   -0.00017504  0.00429636  0.00123741 -0.00132535\n",
            " -0.00460716 -0.00486733 -0.00021198 -0.00277192 -0.00458426 -0.00497429\n",
            "  0.00289642  0.00459423  0.00091316  0.00342993  0.00478708 -0.00297987\n",
            "  0.00050666 -0.00168367 -0.00407531 -0.00290256 -0.00416168  0.00349076\n",
            " -0.00300821  0.00116608 -0.00365949  0.0047956   0.00083902  0.00499243\n",
            "  0.00287604  0.00304976 -0.0019576   0.00494306 -0.00344737 -0.00385135\n",
            "  0.00048365  0.00350167 -0.00212181 -0.00437959  0.00163952 -0.00266695\n",
            " -0.00173862 -0.00077655 -0.00305643 -0.00074476  0.00037097  0.00359283\n",
            " -0.00434299 -0.00170429 -0.00307119  0.0042486   0.00491586  0.0018472\n",
            "  0.00202978  0.00465346 -0.00192056  0.00315159 -0.00291136  0.00019896\n",
            "  0.00314304  0.00222228  0.00247943 -0.00073374  0.00115478 -0.00059916\n",
            " -0.00039925 -0.00050381  0.00496908  0.00025452 -0.00365114  0.0017658\n",
            " -0.0045342   0.00476645 -0.00209941  0.00192104 -0.0018219   0.0032525\n",
            " -0.00086596 -0.00465186 -0.00439934  0.00407581]\n"
          ],
          "name": "stdout"
        },
        {
          "output_type": "stream",
          "text": [
            "/usr/local/lib/python3.6/dist-packages/ipykernel_launcher.py:2: DeprecationWarning: Call to deprecated `__getitem__` (Method will be removed in 4.0.0, use self.wv.__getitem__() instead).\n",
            "  \n"
          ],
          "name": "stderr"
        }
      ]
    },
    {
      "cell_type": "code",
      "metadata": {
        "id": "3aFTPkplh0vs",
        "colab": {
          "base_uri": "https://localhost:8080/"
        },
        "outputId": "9ea5dcb3-edfe-4023-da46-2aaa81c28f17"
      },
      "source": [
        "# save model\r\n",
        "model.save('model.w2v')\r\n",
        "# load model\r\n",
        "new_model = Word2Vec.load('model.w2v')\r\n",
        "print(new_model)"
      ],
      "execution_count": 14,
      "outputs": [
        {
          "output_type": "stream",
          "text": [
            "Word2Vec(vocab=14, size=100, alpha=0.025)\n"
          ],
          "name": "stdout"
        }
      ]
    },
    {
      "cell_type": "code",
      "metadata": {
        "id": "tZC8kjLjh8QM",
        "colab": {
          "base_uri": "https://localhost:8080/"
        },
        "outputId": "ad903266-fd90-4494-e143-507e1502f5c0"
      },
      "source": [
        "X = model[model.wv.vocab]"
      ],
      "execution_count": 15,
      "outputs": [
        {
          "output_type": "stream",
          "text": [
            "/usr/local/lib/python3.6/dist-packages/ipykernel_launcher.py:1: DeprecationWarning: Call to deprecated `__getitem__` (Method will be removed in 4.0.0, use self.wv.__getitem__() instead).\n",
            "  \"\"\"Entry point for launching an IPython kernel.\n"
          ],
          "name": "stderr"
        }
      ]
    },
    {
      "cell_type": "code",
      "metadata": {
        "id": "9mnf2s26ibCy"
      },
      "source": [
        "from sklearn.decomposition import PCA\r\n",
        "pca = PCA(n_components=2)\r\n",
        "result = pca.fit_transform(X)"
      ],
      "execution_count": 16,
      "outputs": []
    },
    {
      "cell_type": "markdown",
      "metadata": {
        "id": "GucJ9mU1wv1w"
      },
      "source": [
        "- 아래 코드를 수행하기 전에 하단의 한글폰트 설치"
      ]
    },
    {
      "cell_type": "code",
      "metadata": {
        "id": "z6Fb8QDaieoO",
        "colab": {
          "base_uri": "https://localhost:8080/",
          "height": 265
        },
        "outputId": "d298609a-148d-49a8-bc85-423b94168d27"
      },
      "source": [
        "# from matplotlib import pyplot\r\n",
        "# pyplot.scatter(result[:, 0], result[:, 1])\r\n",
        "# words = list(model.wv.vocab)\r\n",
        "# for i, word in enumerate(words):\r\n",
        "# \tpyplot.annotate(word, xy=(result[i, 0], result[i, 1]))\r\n",
        "# pyplot.show()"
      ],
      "execution_count": 15,
      "outputs": [
        {
          "output_type": "display_data",
          "data": {
            "image/png": "[encoded data removed]",
            "text/plain": [
              "<Figure size 432x288 with 1 Axes>"
            ]
          },
          "metadata": {
            "tags": [],
            "needs_background": "light"
          }
        }
      ]
    },
    {
      "cell_type": "code",
      "metadata": {
        "id": "JCgB8YAwkbR8",
        "colab": {
          "base_uri": "https://localhost:8080/"
        },
        "outputId": "a22c6458-615b-4b09-8248-6cb721677306"
      },
      "source": [
        "model.wv.index2word"
      ],
      "execution_count": 25,
      "outputs": [
        {
          "output_type": "execute_result",
          "data": {
            "text/plain": [
              "['sentence',\n",
              " 'the',\n",
              " 'this',\n",
              " 'is',\n",
              " 'first',\n",
              " 'for',\n",
              " 'word2vec',\n",
              " 'second',\n",
              " 'yet',\n",
              " 'another',\n",
              " 'one',\n",
              " 'more',\n",
              " 'and',\n",
              " 'final']"
            ]
          },
          "metadata": {
            "tags": []
          },
          "execution_count": 25
        }
      ]
    },
    {
      "cell_type": "code",
      "metadata": {
        "id": "DT6jr_cyisDd",
        "colab": {
          "base_uri": "https://localhost:8080/"
        },
        "outputId": "fd546d36-436a-4837-c838-6088e4ce7f3b"
      },
      "source": [
        "result = model.wv.most_similar('one')\r\n",
        "print(result)"
      ],
      "execution_count": 26,
      "outputs": [
        {
          "output_type": "stream",
          "text": [
            "[('and', 0.13262413442134857), ('yet', 0.12723001837730408), ('first', 0.06731677055358887), ('more', 0.04680045694112778), ('sentence', 0.03379090875387192), ('word2vec', 0.030181653797626495), ('is', 0.013307962566614151), ('final', -0.001488272100687027), ('for', -0.003222215920686722), ('this', -0.003323175013065338)]\n"
          ],
          "name": "stdout"
        }
      ]
    },
    {
      "cell_type": "code",
      "metadata": {
        "id": "rSSAPIspjmWS",
        "colab": {
          "base_uri": "https://localhost:8080/"
        },
        "outputId": "e6c3c37c-0d53-4294-9780-43f96b890908"
      },
      "source": [
        "result"
      ],
      "execution_count": 27,
      "outputs": [
        {
          "output_type": "execute_result",
          "data": {
            "text/plain": [
              "[('and', 0.13262413442134857),\n",
              " ('yet', 0.12723001837730408),\n",
              " ('first', 0.06731677055358887),\n",
              " ('more', 0.04680045694112778),\n",
              " ('sentence', 0.03379090875387192),\n",
              " ('word2vec', 0.030181653797626495),\n",
              " ('is', 0.013307962566614151),\n",
              " ('final', -0.001488272100687027),\n",
              " ('for', -0.003222215920686722),\n",
              " ('this', -0.003323175013065338)]"
            ]
          },
          "metadata": {
            "tags": []
          },
          "execution_count": 27
        }
      ]
    },
    {
      "cell_type": "markdown",
      "metadata": {
        "id": "QOvOQUp3sx1I"
      },
      "source": [
        "## String Tokenizer\r\n",
        "Tokenizes a string based on delimiters (separators) and supporting quoting and ignored character concepts."
      ]
    },
    {
      "cell_type": "code",
      "metadata": {
        "id": "5Vn6ywu-jnYN"
      },
      "source": [
        "sample_string = \"\"\"Can a nostalgia-packed superhero flick convince people to leave their couches and head to the cinemas? “Wonder Woman 1984” seeks to answer that question.\r\n",
        "\r\n",
        "Movie theater owners are hopeful that the “Wonder Woman” sequel, which arrives Christmas Day, will lure a key demographic back to cinemas despite continued surges in coronavirus cases.\"\"\""
      ],
      "execution_count": 28,
      "outputs": []
    },
    {
      "cell_type": "markdown",
      "metadata": {
        "id": "qlQPg7OFhmYg"
      },
      "source": [
        "### Space Tokenizer\r\n",
        "[사용법](https://www.nltk.org/api/nltk.tokenize.html#nltk.tokenize.simple.SpaceTokenizer)"
      ]
    },
    {
      "cell_type": "code",
      "metadata": {
        "id": "-CLoJIPMu5wE",
        "colab": {
          "base_uri": "https://localhost:8080/"
        },
        "outputId": "64308824-a020-4b11-adc8-f59ce5890c4d"
      },
      "source": [
        "from nltk.tokenize import SpaceTokenizer\r\n",
        "SpaceTokenizer().tokenize(sample_string)\r\n"
      ],
      "execution_count": 29,
      "outputs": [
        {
          "output_type": "execute_result",
          "data": {
            "text/plain": [
              "['Can',\n",
              " 'a',\n",
              " 'nostalgia-packed',\n",
              " 'superhero',\n",
              " 'flick',\n",
              " 'convince',\n",
              " 'people',\n",
              " 'to',\n",
              " 'leave',\n",
              " 'their',\n",
              " 'couches',\n",
              " 'and',\n",
              " 'head',\n",
              " 'to',\n",
              " 'the',\n",
              " 'cinemas?',\n",
              " '“Wonder',\n",
              " 'Woman',\n",
              " '1984”',\n",
              " 'seeks',\n",
              " 'to',\n",
              " 'answer',\n",
              " 'that',\n",
              " 'question.\\n\\nMovie',\n",
              " 'theater',\n",
              " 'owners',\n",
              " 'are',\n",
              " 'hopeful',\n",
              " 'that',\n",
              " 'the',\n",
              " '“Wonder',\n",
              " 'Woman”',\n",
              " 'sequel,',\n",
              " 'which',\n",
              " 'arrives',\n",
              " 'Christmas',\n",
              " 'Day,',\n",
              " 'will',\n",
              " 'lure',\n",
              " 'a',\n",
              " 'key',\n",
              " 'demographic',\n",
              " 'back',\n",
              " 'to',\n",
              " 'cinemas',\n",
              " 'despite',\n",
              " 'continued',\n",
              " 'surges',\n",
              " 'in',\n",
              " 'coronavirus',\n",
              " 'cases.']"
            ]
          },
          "metadata": {
            "tags": []
          },
          "execution_count": 29
        }
      ]
    },
    {
      "cell_type": "markdown",
      "metadata": {
        "id": "IPTzkQwFhCmU"
      },
      "source": [
        "### word tokenizer\r\n",
        "[사용법](https://www.nltk.org/api/nltk.tokenize.html#module-nltk.tokenize)"
      ]
    },
    {
      "cell_type": "code",
      "metadata": {
        "id": "7R6fvz_wvLwu",
        "colab": {
          "base_uri": "https://localhost:8080/"
        },
        "outputId": "a00832a8-2713-4079-ccb3-63e49ef5ea3c"
      },
      "source": [
        "from nltk.tokenize import word_tokenize\r\n",
        "word_tokenize(sample_string)"
      ],
      "execution_count": 30,
      "outputs": [
        {
          "output_type": "execute_result",
          "data": {
            "text/plain": [
              "['Can',\n",
              " 'a',\n",
              " 'nostalgia-packed',\n",
              " 'superhero',\n",
              " 'flick',\n",
              " 'convince',\n",
              " 'people',\n",
              " 'to',\n",
              " 'leave',\n",
              " 'their',\n",
              " 'couches',\n",
              " 'and',\n",
              " 'head',\n",
              " 'to',\n",
              " 'the',\n",
              " 'cinemas',\n",
              " '?',\n",
              " '“',\n",
              " 'Wonder',\n",
              " 'Woman',\n",
              " '1984',\n",
              " '”',\n",
              " 'seeks',\n",
              " 'to',\n",
              " 'answer',\n",
              " 'that',\n",
              " 'question',\n",
              " '.',\n",
              " 'Movie',\n",
              " 'theater',\n",
              " 'owners',\n",
              " 'are',\n",
              " 'hopeful',\n",
              " 'that',\n",
              " 'the',\n",
              " '“',\n",
              " 'Wonder',\n",
              " 'Woman',\n",
              " '”',\n",
              " 'sequel',\n",
              " ',',\n",
              " 'which',\n",
              " 'arrives',\n",
              " 'Christmas',\n",
              " 'Day',\n",
              " ',',\n",
              " 'will',\n",
              " 'lure',\n",
              " 'a',\n",
              " 'key',\n",
              " 'demographic',\n",
              " 'back',\n",
              " 'to',\n",
              " 'cinemas',\n",
              " 'despite',\n",
              " 'continued',\n",
              " 'surges',\n",
              " 'in',\n",
              " 'coronavirus',\n",
              " 'cases',\n",
              " '.']"
            ]
          },
          "metadata": {
            "tags": []
          },
          "execution_count": 30
        }
      ]
    },
    {
      "cell_type": "code",
      "metadata": {
        "id": "6vG9sO0ky5_P",
        "colab": {
          "base_uri": "https://localhost:8080/"
        },
        "outputId": "20af00a3-3eec-4a77-90b6-71b16d79443b"
      },
      "source": [
        "import nltk\r\n",
        "nltk.download('punkt')"
      ],
      "execution_count": 31,
      "outputs": [
        {
          "output_type": "stream",
          "text": [
            "[nltk_data] Downloading package punkt to /root/nltk_data...\n",
            "[nltk_data]   Package punkt is already up-to-date!\n"
          ],
          "name": "stdout"
        },
        {
          "output_type": "execute_result",
          "data": {
            "text/plain": [
              "True"
            ]
          },
          "metadata": {
            "tags": []
          },
          "execution_count": 31
        }
      ]
    },
    {
      "cell_type": "code",
      "metadata": {
        "id": "uz8PwwMzzMQh",
        "colab": {
          "base_uri": "https://localhost:8080/"
        },
        "outputId": "f483ae70-2303-4d03-94e6-5ca180104080"
      },
      "source": [
        "from nltk.tokenize import word_tokenize\r\n",
        "word_tokenize(sample_string)"
      ],
      "execution_count": 32,
      "outputs": [
        {
          "output_type": "execute_result",
          "data": {
            "text/plain": [
              "['Can',\n",
              " 'a',\n",
              " 'nostalgia-packed',\n",
              " 'superhero',\n",
              " 'flick',\n",
              " 'convince',\n",
              " 'people',\n",
              " 'to',\n",
              " 'leave',\n",
              " 'their',\n",
              " 'couches',\n",
              " 'and',\n",
              " 'head',\n",
              " 'to',\n",
              " 'the',\n",
              " 'cinemas',\n",
              " '?',\n",
              " '“',\n",
              " 'Wonder',\n",
              " 'Woman',\n",
              " '1984',\n",
              " '”',\n",
              " 'seeks',\n",
              " 'to',\n",
              " 'answer',\n",
              " 'that',\n",
              " 'question',\n",
              " '.',\n",
              " 'Movie',\n",
              " 'theater',\n",
              " 'owners',\n",
              " 'are',\n",
              " 'hopeful',\n",
              " 'that',\n",
              " 'the',\n",
              " '“',\n",
              " 'Wonder',\n",
              " 'Woman',\n",
              " '”',\n",
              " 'sequel',\n",
              " ',',\n",
              " 'which',\n",
              " 'arrives',\n",
              " 'Christmas',\n",
              " 'Day',\n",
              " ',',\n",
              " 'will',\n",
              " 'lure',\n",
              " 'a',\n",
              " 'key',\n",
              " 'demographic',\n",
              " 'back',\n",
              " 'to',\n",
              " 'cinemas',\n",
              " 'despite',\n",
              " 'continued',\n",
              " 'surges',\n",
              " 'in',\n",
              " 'coronavirus',\n",
              " 'cases',\n",
              " '.']"
            ]
          },
          "metadata": {
            "tags": []
          },
          "execution_count": 32
        }
      ]
    },
    {
      "cell_type": "markdown",
      "metadata": {
        "id": "QbJgfURYzjX-"
      },
      "source": [
        "### 한글"
      ]
    },
    {
      "cell_type": "code",
      "metadata": {
        "id": "XU244bCYz76D"
      },
      "source": [
        "korean_string = \"일본의 소행성 탐사선 하야부사 2호가 소행성 ‘류구’에서 채취한 표본(흙)의 새로운 사진이 공개됐다. 최근 일본 우주항공연구개발기구(JAXA)는 최대 1cm에 달하는 검은 표본을 포함 지금까지 1mm이상의 검은 입자가 다수 발견됐다고 밝혔다. 하야부사 2호가 류구에서 가져온 표본은 총 5.4g 정도로 이는 목표치의 50배가 넘는다.\""
      ],
      "execution_count": 33,
      "outputs": []
    },
    {
      "cell_type": "code",
      "metadata": {
        "id": "0WJujwk-z98H",
        "colab": {
          "base_uri": "https://localhost:8080/"
        },
        "outputId": "e99e8c85-14b2-4f0c-823e-eccb0d329dd1"
      },
      "source": [
        "from nltk.tokenize import SpaceTokenizer\r\n",
        "SpaceTokenizer().tokenize(korean_string)"
      ],
      "execution_count": 34,
      "outputs": [
        {
          "output_type": "execute_result",
          "data": {
            "text/plain": [
              "['일본의',\n",
              " '소행성',\n",
              " '탐사선',\n",
              " '하야부사',\n",
              " '2호가',\n",
              " '소행성',\n",
              " '‘류구’에서',\n",
              " '채취한',\n",
              " '표본(흙)의',\n",
              " '새로운',\n",
              " '사진이',\n",
              " '공개됐다.',\n",
              " '최근',\n",
              " '일본',\n",
              " '우주항공연구개발기구(JAXA)는',\n",
              " '최대',\n",
              " '1cm에',\n",
              " '달하는',\n",
              " '검은',\n",
              " '표본을',\n",
              " '포함',\n",
              " '지금까지',\n",
              " '1mm이상의',\n",
              " '검은',\n",
              " '입자가',\n",
              " '다수',\n",
              " '발견됐다고',\n",
              " '밝혔다.',\n",
              " '하야부사',\n",
              " '2호가',\n",
              " '류구에서',\n",
              " '가져온',\n",
              " '표본은',\n",
              " '총',\n",
              " '5.4g',\n",
              " '정도로',\n",
              " '이는',\n",
              " '목표치의',\n",
              " '50배가',\n",
              " '넘는다.']"
            ]
          },
          "metadata": {
            "tags": []
          },
          "execution_count": 34
        }
      ]
    },
    {
      "cell_type": "code",
      "metadata": {
        "id": "z6FvLMfW0CSa",
        "colab": {
          "base_uri": "https://localhost:8080/"
        },
        "outputId": "c70c6c75-9158-46cc-a269-1bdb35b6b309"
      },
      "source": [
        "from nltk.tokenize import word_tokenize\r\n",
        "word_tokenize(korean_string)"
      ],
      "execution_count": 35,
      "outputs": [
        {
          "output_type": "execute_result",
          "data": {
            "text/plain": [
              "['일본의',\n",
              " '소행성',\n",
              " '탐사선',\n",
              " '하야부사',\n",
              " '2호가',\n",
              " '소행성',\n",
              " '‘',\n",
              " '류구',\n",
              " '’',\n",
              " '에서',\n",
              " '채취한',\n",
              " '표본',\n",
              " '(',\n",
              " '흙',\n",
              " ')',\n",
              " '의',\n",
              " '새로운',\n",
              " '사진이',\n",
              " '공개됐다',\n",
              " '.',\n",
              " '최근',\n",
              " '일본',\n",
              " '우주항공연구개발기구',\n",
              " '(',\n",
              " 'JAXA',\n",
              " ')',\n",
              " '는',\n",
              " '최대',\n",
              " '1cm에',\n",
              " '달하는',\n",
              " '검은',\n",
              " '표본을',\n",
              " '포함',\n",
              " '지금까지',\n",
              " '1mm이상의',\n",
              " '검은',\n",
              " '입자가',\n",
              " '다수',\n",
              " '발견됐다고',\n",
              " '밝혔다',\n",
              " '.',\n",
              " '하야부사',\n",
              " '2호가',\n",
              " '류구에서',\n",
              " '가져온',\n",
              " '표본은',\n",
              " '총',\n",
              " '5.4g',\n",
              " '정도로',\n",
              " '이는',\n",
              " '목표치의',\n",
              " '50배가',\n",
              " '넘는다',\n",
              " '.']"
            ]
          },
          "metadata": {
            "tags": []
          },
          "execution_count": 35
        }
      ]
    },
    {
      "cell_type": "markdown",
      "metadata": {
        "id": "IN9grqls0Vpw"
      },
      "source": [
        "<p><img alt=\"Colaboratory logo\" height=\"45px\" src=\"https://konlpy.org/en/latest/_static/konlpy.png\" align=\"left\" hspace=\"10px\" vspace=\"0px\"></p>\r\n",
        "\r\n",
        "## KoNLPy 한국어 형태소 분석기\r\n",
        "- Hannanum\r\n",
        "- Kkma\r\n",
        "- Komoran\r\n",
        "- Mecab\r\n",
        "- Okt(Twitter)\r\n",
        "\r\n",
        "[성능비교](https://passerby14.tistory.com/3)"
      ]
    },
    {
      "cell_type": "code",
      "metadata": {
        "id": "5Oq2UKjg0Gm8"
      },
      "source": [
        "korean_string = \"일본의 소행성 탐사선 하야부사 2호가 소행성 ‘류구’에서 채취한 표본(흙)의 새로운 사진이 공개됐다. 최근 일본 우주항공연구개발기구(JAXA)는 최대 1cm에 달하는 검은 표본을 포함 지금까지 1mm이상의 검은 입자가 다수 발견됐다고 밝혔다. 하야부사 2호가 류구에서 가져온 표본은 총 5.4g 정도로 이는 목표치의 50배가 넘는다.\""
      ],
      "execution_count": 36,
      "outputs": []
    },
    {
      "cell_type": "markdown",
      "metadata": {
        "id": "76cBCqfXgY--"
      },
      "source": [
        "### KoNLPy install\r\n",
        "[KoNLPy 설치](https://konlpy-ko.readthedocs.io/ko/v0.4.4/install/)"
      ]
    },
    {
      "cell_type": "code",
      "metadata": {
        "id": "X942F-7R1v1o",
        "colab": {
          "base_uri": "https://localhost:8080/"
        },
        "outputId": "7e0f844c-f4d5-4ddd-d06d-2553e2443d83"
      },
      "source": [
        "!pip3 install JPype1-py3"
      ],
      "execution_count": 37,
      "outputs": [
        {
          "output_type": "stream",
          "text": [
            "Requirement already satisfied: JPype1-py3 in /usr/local/lib/python3.6/dist-packages (0.5.5.4)\n"
          ],
          "name": "stdout"
        }
      ]
    },
    {
      "cell_type": "code",
      "metadata": {
        "id": "jftd2C8F1yzA",
        "colab": {
          "base_uri": "https://localhost:8080/"
        },
        "outputId": "b56b72b5-bf8c-47df-f904-f139f1d23eab"
      },
      "source": [
        "!pip3 install konlpy"
      ],
      "execution_count": 38,
      "outputs": [
        {
          "output_type": "stream",
          "text": [
            "Requirement already satisfied: konlpy in /usr/local/lib/python3.6/dist-packages (0.5.2)\n",
            "Requirement already satisfied: colorama in /usr/local/lib/python3.6/dist-packages (from konlpy) (0.4.4)\n",
            "Requirement already satisfied: numpy>=1.6 in /usr/local/lib/python3.6/dist-packages (from konlpy) (1.19.4)\n",
            "Requirement already satisfied: lxml>=4.1.0 in /usr/local/lib/python3.6/dist-packages (from konlpy) (4.2.6)\n",
            "Requirement already satisfied: beautifulsoup4==4.6.0 in /usr/local/lib/python3.6/dist-packages (from konlpy) (4.6.0)\n",
            "Requirement already satisfied: tweepy>=3.7.0 in /usr/local/lib/python3.6/dist-packages (from konlpy) (3.10.0)\n",
            "Requirement already satisfied: JPype1>=0.7.0 in /usr/local/lib/python3.6/dist-packages (from konlpy) (1.2.1)\n",
            "Requirement already satisfied: six>=1.10.0 in /usr/local/lib/python3.6/dist-packages (from tweepy>=3.7.0->konlpy) (1.15.0)\n",
            "Requirement already satisfied: requests-oauthlib>=0.7.0 in /usr/local/lib/python3.6/dist-packages (from tweepy>=3.7.0->konlpy) (1.3.0)\n",
            "Requirement already satisfied: requests[socks]>=2.11.1 in /usr/local/lib/python3.6/dist-packages (from tweepy>=3.7.0->konlpy) (2.23.0)\n",
            "Requirement already satisfied: typing-extensions; python_version < \"3.8\" in /usr/local/lib/python3.6/dist-packages (from JPype1>=0.7.0->konlpy) (3.7.4.3)\n",
            "Requirement already satisfied: oauthlib>=3.0.0 in /usr/local/lib/python3.6/dist-packages (from requests-oauthlib>=0.7.0->tweepy>=3.7.0->konlpy) (3.1.0)\n",
            "Requirement already satisfied: idna<3,>=2.5 in /usr/local/lib/python3.6/dist-packages (from requests[socks]>=2.11.1->tweepy>=3.7.0->konlpy) (2.10)\n",
            "Requirement already satisfied: urllib3!=1.25.0,!=1.25.1,<1.26,>=1.21.1 in /usr/local/lib/python3.6/dist-packages (from requests[socks]>=2.11.1->tweepy>=3.7.0->konlpy) (1.24.3)\n",
            "Requirement already satisfied: certifi>=2017.4.17 in /usr/local/lib/python3.6/dist-packages (from requests[socks]>=2.11.1->tweepy>=3.7.0->konlpy) (2020.12.5)\n",
            "Requirement already satisfied: chardet<4,>=3.0.2 in /usr/local/lib/python3.6/dist-packages (from requests[socks]>=2.11.1->tweepy>=3.7.0->konlpy) (3.0.4)\n",
            "Requirement already satisfied: PySocks!=1.5.7,>=1.5.6; extra == \"socks\" in /usr/local/lib/python3.6/dist-packages (from requests[socks]>=2.11.1->tweepy>=3.7.0->konlpy) (1.7.1)\n"
          ],
          "name": "stdout"
        }
      ]
    },
    {
      "cell_type": "markdown",
      "metadata": {
        "id": "LFP21yr7ghmt"
      },
      "source": [
        "### Okt(Twitter)\r\n",
        "[사용법](https://konlpy-ko.readthedocs.io/ko/v0.4.4/api/konlpy.tag/#module-konlpy.tag._twitter)"
      ]
    },
    {
      "cell_type": "code",
      "metadata": {
        "id": "HBi6vU662CW4"
      },
      "source": [
        "from konlpy.tag import Okt\r\n",
        "okt = Okt()"
      ],
      "execution_count": 39,
      "outputs": []
    },
    {
      "cell_type": "code",
      "metadata": {
        "id": "scRwN0Zy28FE",
        "colab": {
          "base_uri": "https://localhost:8080/"
        },
        "outputId": "b4af65a2-7f60-4ed1-fb49-6cb417ddb998"
      },
      "source": [
        "# 어절\r\n",
        "okt.phrases(korean_string)"
      ],
      "execution_count": 40,
      "outputs": [
        {
          "output_type": "execute_result",
          "data": {
            "text/plain": [
              "['일본',\n",
              " '일본의 소행성',\n",
              " '일본의 소행성 탐사선',\n",
              " '일본의 소행성 탐사선 하야부사',\n",
              " '일본의 소행성 탐사선 하야부사 2호가',\n",
              " '일본의 소행성 탐사선 하야부사 2호가 소행성',\n",
              " '류구',\n",
              " '채취',\n",
              " '표본',\n",
              " '의 새로운 사진',\n",
              " '공개',\n",
              " '최근',\n",
              " '최근 일본',\n",
              " '최근 일본 우주항공연구개발기구',\n",
              " 'JAXA',\n",
              " '최대',\n",
              " '최대 1cm',\n",
              " '달하는 검은 표본',\n",
              " '포함',\n",
              " '포함 지금',\n",
              " '1mm이상',\n",
              " '1mm이상의 검은 입자',\n",
              " '다수',\n",
              " '다수 발견',\n",
              " '하야부사',\n",
              " '하야부사 2호가',\n",
              " '하야부사 2호가 류구',\n",
              " '총 5.4g',\n",
              " '총 5.4g 정도',\n",
              " '목표치의',\n",
              " '목표치의 50배',\n",
              " '소행성',\n",
              " '탐사선',\n",
              " '호가',\n",
              " '사진',\n",
              " '우주',\n",
              " '항공',\n",
              " '연구개발',\n",
              " '기구',\n",
              " '1cm',\n",
              " '지금',\n",
              " '1mm',\n",
              " '이상',\n",
              " '입자',\n",
              " '발견',\n",
              " '5.4g',\n",
              " '정도',\n",
              " '목표',\n",
              " '치의',\n",
              " '50']"
            ]
          },
          "metadata": {
            "tags": []
          },
          "execution_count": 40
        }
      ]
    },
    {
      "cell_type": "code",
      "metadata": {
        "id": "3o7-Fo4v3D-1",
        "colab": {
          "base_uri": "https://localhost:8080/"
        },
        "outputId": "daca2a17-4e6e-48fb-e4e7-cf683b7dd799"
      },
      "source": [
        "# 형태소\r\n",
        "okt.morphs(korean_string)"
      ],
      "execution_count": 41,
      "outputs": [
        {
          "output_type": "execute_result",
          "data": {
            "text/plain": [
              "['일본',\n",
              " '의',\n",
              " '소행성',\n",
              " '탐사선',\n",
              " '하야부사',\n",
              " '2',\n",
              " '호가',\n",
              " '소행성',\n",
              " '‘',\n",
              " '류구',\n",
              " '’',\n",
              " '에서',\n",
              " '채취',\n",
              " '한',\n",
              " '표본',\n",
              " '(',\n",
              " '흙',\n",
              " ')',\n",
              " '의',\n",
              " '새로운',\n",
              " '사진',\n",
              " '이',\n",
              " '공개',\n",
              " '됐다',\n",
              " '.',\n",
              " '최근',\n",
              " '일본',\n",
              " '우주',\n",
              " '항공',\n",
              " '연구개발',\n",
              " '기구',\n",
              " '(',\n",
              " 'JAXA',\n",
              " ')',\n",
              " '는',\n",
              " '최대',\n",
              " '1',\n",
              " 'cm',\n",
              " '에',\n",
              " '달',\n",
              " '하는',\n",
              " '검은',\n",
              " '표본',\n",
              " '을',\n",
              " '포함',\n",
              " '지금',\n",
              " '까지',\n",
              " '1',\n",
              " 'mm',\n",
              " '이상',\n",
              " '의',\n",
              " '검은',\n",
              " '입자',\n",
              " '가',\n",
              " '다수',\n",
              " '발견',\n",
              " '됐다고',\n",
              " '밝혔다',\n",
              " '.',\n",
              " '하야부사',\n",
              " '2',\n",
              " '호가',\n",
              " '류구',\n",
              " '에서',\n",
              " '가져온',\n",
              " '표본',\n",
              " '은',\n",
              " '총',\n",
              " '5.4',\n",
              " 'g',\n",
              " '정도',\n",
              " '로',\n",
              " '이는',\n",
              " '목표',\n",
              " '치의',\n",
              " '50',\n",
              " '배',\n",
              " '가',\n",
              " '넘는다',\n",
              " '.']"
            ]
          },
          "metadata": {
            "tags": []
          },
          "execution_count": 41
        }
      ]
    },
    {
      "cell_type": "code",
      "metadata": {
        "id": "nel7P92y3gtO",
        "colab": {
          "base_uri": "https://localhost:8080/"
        },
        "outputId": "7f5b50d2-9eca-4b03-a650-3d37b327aacb"
      },
      "source": [
        "# 명사\r\n",
        "okt.nouns(korean_string)"
      ],
      "execution_count": 42,
      "outputs": [
        {
          "output_type": "execute_result",
          "data": {
            "text/plain": [
              "['일본',\n",
              " '소행성',\n",
              " '탐사선',\n",
              " '하야부사',\n",
              " '호가',\n",
              " '소행성',\n",
              " '류구',\n",
              " '채취',\n",
              " '표본',\n",
              " '흙',\n",
              " '의',\n",
              " '사진',\n",
              " '공개',\n",
              " '최근',\n",
              " '일본',\n",
              " '우주',\n",
              " '항공',\n",
              " '연구개발',\n",
              " '기구',\n",
              " '최대',\n",
              " '달',\n",
              " '표본',\n",
              " '포함',\n",
              " '지금',\n",
              " '이상',\n",
              " '입자',\n",
              " '다수',\n",
              " '발견',\n",
              " '하야부사',\n",
              " '호가',\n",
              " '류구',\n",
              " '표본',\n",
              " '총',\n",
              " '정도',\n",
              " '목표',\n",
              " '치의',\n",
              " '배']"
            ]
          },
          "metadata": {
            "tags": []
          },
          "execution_count": 42
        }
      ]
    },
    {
      "cell_type": "markdown",
      "metadata": {
        "id": "B1-j6Kxwj8xF"
      },
      "source": [
        "## 형태소분석기를 통한 word2vec"
      ]
    },
    {
      "cell_type": "code",
      "metadata": {
        "id": "MrSdWf2LgL1a"
      },
      "source": [
        "# 원문 : https://news.naver.com/main/read.nhn?mode=LSD&mid=shm&sid1=105&oid=081&aid=0003150845\r\n",
        "news_string = \"\"\"일본의 소행성 탐사선 하야부사 2호가 소행성 ‘류구’에서 채취한 표본(흙)의 새로운 사진이 공개됐다. 최근 일본 우주항공연구개발기구(JAXA)는 최대 1cm에 달하는 검은 표본을 포함 지금까지 1mm이상의 검은 입자가 다수 발견됐다고 밝혔다. 하야부사 2호가 류구에서 가져온 표본은 총 5.4g 정도로 이는 목표치의 50배가 넘는다.\r\n",
        "\r\n",
        "지난 24일 JAXA가 공개한 류구의 표본을 보면 마치 숯덩이로 가득 차 있는듯 보이는데 이는 광학현미경으로 촬영됐기 때문이다.\r\n",
        "\r\n",
        "우리말로 ‘송골매’라는 뜻을 가진 하야부사 2호는 세계 처음으로 소행성 ‘이토카와’의 미립자를 가져온 하야부사의 문제점을 보완, 개발해 지난 2014년 12월 발사됐다. 이후 하야부사 2호는 지난해 7월 지구에서 약 3억4000만㎞ 떨어진 소행성 류구에 접근해 금속탄환으로 웅덩이를 만든 뒤 내부 물질을 채취하는 데 성공했다.\r\n",
        "\r\n",
        "일본 우주항공연구개발기구(JAXA) 요원이 6일 호주 사우스 오스트레일리아주 우메라 사막지대에 떨어진 소행성 류구의 내부물질을 담은 캡슐을 회수해 옮기고 있다.JAXA 제공 AP 연합뉴스\r\n",
        "같은 해 11월 류구를 출발해 다시 지구로 향한 하야부사 2호는 지난 5일 채취한 표본이 담긴 캡슐을 분리해 호주 서부 사막에 떨어뜨리고 새 탐사지인 지구와 화성 사이를 도는 소행성 '1998KY26'으로 향했다.\r\n",
        "\r\n",
        "하야부사 2호가 6년 동안 비행한 거리는 52억㎞로 이는 지구와 달 사이 평균거리에 1만3500배에 달한다.\r\n",
        "\r\n",
        "하야부사 2호가 탐사한 류구는 수많은 바위와 돌로 가득한 소행성으로 지름은 870m, 공전주기는 475일, 자전주기는 7.5시간이다. 특히 태양계 형성 당시의 물질이 고스란히 남아있을 것으로 추정돼 연구가치가 매우 높다. 곧 이번에 탐사선이 가져온 표본에는 태양계와 지구 탄생의 비밀을 풀어줄 단서가 담겨있을 수 있다.\r\n",
        "\"\"\""
      ],
      "execution_count": 43,
      "outputs": []
    },
    {
      "cell_type": "code",
      "metadata": {
        "id": "Y37YV_6Hjhgj",
        "colab": {
          "base_uri": "https://localhost:8080/"
        },
        "outputId": "9e653f7a-934e-4418-f888-70c791534e0b"
      },
      "source": [
        "news_list = news_string.splitlines()\r\n",
        "news_list"
      ],
      "execution_count": 44,
      "outputs": [
        {
          "output_type": "execute_result",
          "data": {
            "text/plain": [
              "['일본의 소행성 탐사선 하야부사 2호가 소행성 ‘류구’에서 채취한 표본(흙)의 새로운 사진이 공개됐다. 최근 일본 우주항공연구개발기구(JAXA)는 최대 1cm에 달하는 검은 표본을 포함 지금까지 1mm이상의 검은 입자가 다수 발견됐다고 밝혔다. 하야부사 2호가 류구에서 가져온 표본은 총 5.4g 정도로 이는 목표치의 50배가 넘는다.',\n",
              " '',\n",
              " '지난 24일 JAXA가 공개한 류구의 표본을 보면 마치 숯덩이로 가득 차 있는듯 보이는데 이는 광학현미경으로 촬영됐기 때문이다.',\n",
              " '',\n",
              " '우리말로 ‘송골매’라는 뜻을 가진 하야부사 2호는 세계 처음으로 소행성 ‘이토카와’의 미립자를 가져온 하야부사의 문제점을 보완, 개발해 지난 2014년 12월 발사됐다. 이후 하야부사 2호는 지난해 7월 지구에서 약 3억4000만㎞ 떨어진 소행성 류구에 접근해 금속탄환으로 웅덩이를 만든 뒤 내부 물질을 채취하는 데 성공했다.',\n",
              " '',\n",
              " '일본 우주항공연구개발기구(JAXA) 요원이 6일 호주 사우스 오스트레일리아주 우메라 사막지대에 떨어진 소행성 류구의 내부물질을 담은 캡슐을 회수해 옮기고 있다.JAXA 제공 AP 연합뉴스',\n",
              " \"같은 해 11월 류구를 출발해 다시 지구로 향한 하야부사 2호는 지난 5일 채취한 표본이 담긴 캡슐을 분리해 호주 서부 사막에 떨어뜨리고 새 탐사지인 지구와 화성 사이를 도는 소행성 '1998KY26'으로 향했다.\",\n",
              " '',\n",
              " '하야부사 2호가 6년 동안 비행한 거리는 52억㎞로 이는 지구와 달 사이 평균거리에 1만3500배에 달한다.',\n",
              " '',\n",
              " '하야부사 2호가 탐사한 류구는 수많은 바위와 돌로 가득한 소행성으로 지름은 870m, 공전주기는 475일, 자전주기는 7.5시간이다. 특히 태양계 형성 당시의 물질이 고스란히 남아있을 것으로 추정돼 연구가치가 매우 높다. 곧 이번에 탐사선이 가져온 표본에는 태양계와 지구 탄생의 비밀을 풀어줄 단서가 담겨있을 수 있다.']"
            ]
          },
          "metadata": {
            "tags": []
          },
          "execution_count": 44
        }
      ]
    },
    {
      "cell_type": "code",
      "metadata": {
        "id": "jiJ_PuLYjieJ"
      },
      "source": [
        "import os\r\n",
        "news_list = news_string.replace(os.linesep + os.linesep , os.linesep).splitlines()\r\n",
        "# news_list = news_string.replace(\"\\n\\n\" , \"\\n\").splitlines()"
      ],
      "execution_count": 45,
      "outputs": []
    },
    {
      "cell_type": "code",
      "metadata": {
        "id": "pDoPibwQkcF7",
        "colab": {
          "base_uri": "https://localhost:8080/"
        },
        "outputId": "b9ee560d-6e4d-4fdc-cff6-41d206f46900"
      },
      "source": [
        "news_list"
      ],
      "execution_count": 46,
      "outputs": [
        {
          "output_type": "execute_result",
          "data": {
            "text/plain": [
              "['일본의 소행성 탐사선 하야부사 2호가 소행성 ‘류구’에서 채취한 표본(흙)의 새로운 사진이 공개됐다. 최근 일본 우주항공연구개발기구(JAXA)는 최대 1cm에 달하는 검은 표본을 포함 지금까지 1mm이상의 검은 입자가 다수 발견됐다고 밝혔다. 하야부사 2호가 류구에서 가져온 표본은 총 5.4g 정도로 이는 목표치의 50배가 넘는다.',\n",
              " '지난 24일 JAXA가 공개한 류구의 표본을 보면 마치 숯덩이로 가득 차 있는듯 보이는데 이는 광학현미경으로 촬영됐기 때문이다.',\n",
              " '우리말로 ‘송골매’라는 뜻을 가진 하야부사 2호는 세계 처음으로 소행성 ‘이토카와’의 미립자를 가져온 하야부사의 문제점을 보완, 개발해 지난 2014년 12월 발사됐다. 이후 하야부사 2호는 지난해 7월 지구에서 약 3억4000만㎞ 떨어진 소행성 류구에 접근해 금속탄환으로 웅덩이를 만든 뒤 내부 물질을 채취하는 데 성공했다.',\n",
              " '일본 우주항공연구개발기구(JAXA) 요원이 6일 호주 사우스 오스트레일리아주 우메라 사막지대에 떨어진 소행성 류구의 내부물질을 담은 캡슐을 회수해 옮기고 있다.JAXA 제공 AP 연합뉴스',\n",
              " \"같은 해 11월 류구를 출발해 다시 지구로 향한 하야부사 2호는 지난 5일 채취한 표본이 담긴 캡슐을 분리해 호주 서부 사막에 떨어뜨리고 새 탐사지인 지구와 화성 사이를 도는 소행성 '1998KY26'으로 향했다.\",\n",
              " '하야부사 2호가 6년 동안 비행한 거리는 52억㎞로 이는 지구와 달 사이 평균거리에 1만3500배에 달한다.',\n",
              " '하야부사 2호가 탐사한 류구는 수많은 바위와 돌로 가득한 소행성으로 지름은 870m, 공전주기는 475일, 자전주기는 7.5시간이다. 특히 태양계 형성 당시의 물질이 고스란히 남아있을 것으로 추정돼 연구가치가 매우 높다. 곧 이번에 탐사선이 가져온 표본에는 태양계와 지구 탄생의 비밀을 풀어줄 단서가 담겨있을 수 있다.']"
            ]
          },
          "metadata": {
            "tags": []
          },
          "execution_count": 46
        }
      ]
    },
    {
      "cell_type": "code",
      "metadata": {
        "id": "Lif1pycMktHq"
      },
      "source": [
        "news_token = []"
      ],
      "execution_count": 47,
      "outputs": []
    },
    {
      "cell_type": "markdown",
      "metadata": {
        "id": "T-K1wPFOlXvv"
      },
      "source": [
        "### 명사 추출 분석"
      ]
    },
    {
      "cell_type": "code",
      "metadata": {
        "id": "pbNlaF9Pk3tE"
      },
      "source": [
        "for news in news_list:\r\n",
        "    news_token.append( okt.nouns(news))"
      ],
      "execution_count": 48,
      "outputs": []
    },
    {
      "cell_type": "code",
      "metadata": {
        "id": "CmbxBLGJlQUJ",
        "colab": {
          "base_uri": "https://localhost:8080/"
        },
        "outputId": "5a128591-025a-4e2f-bed6-b144a1bb0e1d"
      },
      "source": [
        "news_token"
      ],
      "execution_count": 49,
      "outputs": [
        {
          "output_type": "execute_result",
          "data": {
            "text/plain": [
              "[['일본',\n",
              "  '소행성',\n",
              "  '탐사선',\n",
              "  '하야부사',\n",
              "  '호가',\n",
              "  '소행성',\n",
              "  '류구',\n",
              "  '채취',\n",
              "  '표본',\n",
              "  '흙',\n",
              "  '의',\n",
              "  '사진',\n",
              "  '공개',\n",
              "  '최근',\n",
              "  '일본',\n",
              "  '우주',\n",
              "  '항공',\n",
              "  '연구개발',\n",
              "  '기구',\n",
              "  '최대',\n",
              "  '달',\n",
              "  '표본',\n",
              "  '포함',\n",
              "  '지금',\n",
              "  '이상',\n",
              "  '입자',\n",
              "  '다수',\n",
              "  '발견',\n",
              "  '하야부사',\n",
              "  '호가',\n",
              "  '류구',\n",
              "  '표본',\n",
              "  '총',\n",
              "  '정도',\n",
              "  '목표',\n",
              "  '치의',\n",
              "  '배'],\n",
              " ['지난', '공개', '류구', '표본', '마치', '숯', '덩이', '가득', '차', '광학현미경', '촬영', '때문'],\n",
              " ['우리말',\n",
              "  '송골매',\n",
              "  '뜻',\n",
              "  '하야부사',\n",
              "  '호',\n",
              "  '세계',\n",
              "  '처음',\n",
              "  '소행성',\n",
              "  '토카',\n",
              "  '의',\n",
              "  '미립',\n",
              "  '하야부사',\n",
              "  '문제점',\n",
              "  '보완',\n",
              "  '개발',\n",
              "  '지난',\n",
              "  '발사',\n",
              "  '이후',\n",
              "  '하야부사',\n",
              "  '호',\n",
              "  '지난해',\n",
              "  '지구',\n",
              "  '약',\n",
              "  '소행성',\n",
              "  '류구',\n",
              "  '접근',\n",
              "  '금속',\n",
              "  '탄환',\n",
              "  '웅덩이',\n",
              "  '뒤',\n",
              "  '내부',\n",
              "  '물질',\n",
              "  '채취',\n",
              "  '데'],\n",
              " ['일본',\n",
              "  '우주',\n",
              "  '항공',\n",
              "  '연구개발',\n",
              "  '기구',\n",
              "  '요원',\n",
              "  '호주',\n",
              "  '사우스',\n",
              "  '오스트레일리아',\n",
              "  '주',\n",
              "  '우메',\n",
              "  '사막',\n",
              "  '지대',\n",
              "  '소행성',\n",
              "  '류구',\n",
              "  '내부',\n",
              "  '물질',\n",
              "  '캡슐',\n",
              "  '회수',\n",
              "  '제공',\n",
              "  '연합뉴스'],\n",
              " ['해',\n",
              "  '류구',\n",
              "  '출발',\n",
              "  '다시',\n",
              "  '지구',\n",
              "  '향',\n",
              "  '하야부사',\n",
              "  '호',\n",
              "  '지난',\n",
              "  '채취',\n",
              "  '표본',\n",
              "  '캡슐',\n",
              "  '분리',\n",
              "  '호주',\n",
              "  '서부',\n",
              "  '사막',\n",
              "  '새',\n",
              "  '탐사',\n",
              "  '지인',\n",
              "  '지구',\n",
              "  '화성',\n",
              "  '사이',\n",
              "  '도',\n",
              "  '소행성',\n",
              "  '향'],\n",
              " ['하야부사', '호가', '동안', '비행', '거리', '로', '지구', '달', '사이', '평균', '거리', '배', '달'],\n",
              " ['하야부사',\n",
              "  '호가',\n",
              "  '탐사',\n",
              "  '류구',\n",
              "  '바위',\n",
              "  '돌',\n",
              "  '소행성',\n",
              "  '지름',\n",
              "  '공전주기',\n",
              "  '자전주기',\n",
              "  '태양계',\n",
              "  '형성',\n",
              "  '당시',\n",
              "  '물질',\n",
              "  '고스',\n",
              "  '란',\n",
              "  '것',\n",
              "  '추정',\n",
              "  '가치',\n",
              "  '매우',\n",
              "  '곧',\n",
              "  '이번',\n",
              "  '탐사선',\n",
              "  '표본',\n",
              "  '태양계',\n",
              "  '지구',\n",
              "  '탄생',\n",
              "  '비밀',\n",
              "  '단서',\n",
              "  '수']]"
            ]
          },
          "metadata": {
            "tags": []
          },
          "execution_count": 49
        }
      ]
    },
    {
      "cell_type": "code",
      "metadata": {
        "id": "vKHV66KIlRnx"
      },
      "source": [
        "model = Word2Vec(sentences = news_token, size = 128, window = 5, min_count = 2)"
      ],
      "execution_count": 50,
      "outputs": []
    },
    {
      "cell_type": "code",
      "metadata": {
        "id": "ytF-kRq-ltuC",
        "colab": {
          "base_uri": "https://localhost:8080/"
        },
        "outputId": "96dbb706-9011-4cec-b975-ef4775571d15"
      },
      "source": [
        "print(model)"
      ],
      "execution_count": 51,
      "outputs": [
        {
          "output_type": "stream",
          "text": [
            "Word2Vec(vocab=29, size=128, alpha=0.025)\n"
          ],
          "name": "stdout"
        }
      ]
    },
    {
      "cell_type": "code",
      "metadata": {
        "id": "2k2E1O5Fl5Be",
        "colab": {
          "base_uri": "https://localhost:8080/"
        },
        "outputId": "3f09ada4-4ae4-4e48-9188-8857628ab79f"
      },
      "source": [
        "model.wv.index2word"
      ],
      "execution_count": 52,
      "outputs": [
        {
          "output_type": "execute_result",
          "data": {
            "text/plain": [
              "['하야부사',\n",
              " '소행성',\n",
              " '류구',\n",
              " '표본',\n",
              " '지구',\n",
              " '호가',\n",
              " '일본',\n",
              " '채취',\n",
              " '달',\n",
              " '지난',\n",
              " '호',\n",
              " '물질',\n",
              " '탐사선',\n",
              " '의',\n",
              " '공개',\n",
              " '우주',\n",
              " '항공',\n",
              " '연구개발',\n",
              " '기구',\n",
              " '배',\n",
              " '내부',\n",
              " '호주',\n",
              " '사막',\n",
              " '캡슐',\n",
              " '향',\n",
              " '탐사',\n",
              " '사이',\n",
              " '거리',\n",
              " '태양계']"
            ]
          },
          "metadata": {
            "tags": []
          },
          "execution_count": 52
        }
      ]
    },
    {
      "cell_type": "code",
      "metadata": {
        "id": "CCi3hSqWmAEG",
        "colab": {
          "base_uri": "https://localhost:8080/"
        },
        "outputId": "7dc9ab66-b5e9-457b-ac37-ed3459eef33e"
      },
      "source": [
        "from sklearn.decomposition import PCA\r\n",
        "pca = PCA(n_components=2)\r\n",
        "X = model[model.wv.vocab]\r\n",
        "result = pca.fit_transform(X)"
      ],
      "execution_count": 53,
      "outputs": [
        {
          "output_type": "stream",
          "text": [
            "/usr/local/lib/python3.6/dist-packages/ipykernel_launcher.py:3: DeprecationWarning: Call to deprecated `__getitem__` (Method will be removed in 4.0.0, use self.wv.__getitem__() instead).\n",
            "  This is separate from the ipykernel package so we can avoid doing imports until\n"
          ],
          "name": "stderr"
        }
      ]
    },
    {
      "cell_type": "code",
      "metadata": {
        "id": "UWVuEebAmtTH"
      },
      "source": [
        "# import matplotlib.pyplot as plt\r\n",
        "\r\n",
        "# plt.figure(figsize=(20,15))\r\n",
        "# plt.scatter(result[:, 0], result[:, 1])\r\n",
        "# words = list(model.wv.vocab)\r\n",
        "# for i, word in enumerate(words):\r\n",
        "# \tplt.annotate(word, xy=(result[i, 0], result[i, 1]))\r\n",
        "# plt.show()"
      ],
      "execution_count": 45,
      "outputs": []
    },
    {
      "cell_type": "markdown",
      "metadata": {
        "id": "MBib5DxLndeW"
      },
      "source": [
        "# 한글폰트 설치"
      ]
    },
    {
      "cell_type": "markdown",
      "metadata": {
        "id": "rnqMOXVGw-bz"
      },
      "source": [
        "## 경고!\r\n",
        "```\r\n",
        "colab에서는\r\n",
        "한글폰트가 설치되기 이전에 matplotlib를 출력하게되면\r\n",
        "한글폰트가 없는 상태에서 폰트가 cache되기때분에 문제가 발생!\r\n",
        "```"
      ]
    },
    {
      "cell_type": "code",
      "metadata": {
        "id": "zCjrnb3foven"
      },
      "source": [
        "%matplotlib inline  \r\n",
        "\r\n",
        "import matplotlib as mpl  # 기본 설정 만지는 용도\r\n",
        "import matplotlib.pyplot as plt  # 그래프 그리는 용도\r\n",
        "import matplotlib.font_manager as fm  # 폰트 관련 용도"
      ],
      "execution_count": 17,
      "outputs": []
    },
    {
      "cell_type": "code",
      "metadata": {
        "id": "H-NKDSKGpU91",
        "colab": {
          "base_uri": "https://localhost:8080/"
        },
        "outputId": "99c895c3-078a-4370-9960-2ff73001a1f2"
      },
      "source": [
        "sys_font=fm.findSystemFonts()\r\n",
        "print(f\"sys_font number: {len(sys_font)}\")\r\n",
        "print(sys_font)\r\n",
        "\r\n",
        "nanum_font = [f for f in sys_font if 'Nanum' in f]\r\n",
        "print(f\"nanum_font number: {len(nanum_font)}\")"
      ],
      "execution_count": 18,
      "outputs": [
        {
          "output_type": "stream",
          "text": [
            "sys_font number: 48\n",
            "['/usr/share/fonts/truetype/nanum/NanumGothicBold.ttf', '/usr/share/fonts/truetype/nanum/NanumMyeongjoEcoBold.ttf', '/usr/share/fonts/truetype/nanum/NanumBarunpenR.ttf', '/usr/share/fonts/truetype/liberation/LiberationSerif-Bold.ttf', '/usr/share/fonts/truetype/nanum/NanumGothicExtraBold.ttf', '/usr/share/fonts/truetype/liberation/LiberationSans-Regular.ttf', '/usr/share/fonts/truetype/liberation/LiberationSerif-BoldItalic.ttf', '/usr/share/fonts/truetype/nanum/NanumMyeongjoExtraBold.ttf', '/usr/share/fonts/truetype/nanum/NanumBarunGothic.ttf', '/usr/share/fonts/truetype/humor-sans/Humor-Sans.ttf', '/usr/share/fonts/truetype/nanum/NanumMyeongjoEco.ttf', '/usr/share/fonts/truetype/nanum/NanumMyeongjo.ttf', '/usr/share/fonts/truetype/nanum/NanumSquareEB.ttf', '/usr/share/fonts/truetype/liberation/LiberationSans-BoldItalic.ttf', '/usr/share/fonts/truetype/nanum/NanumGothicCoding.ttf', '/usr/share/fonts/truetype/nanum/NanumBarunGothicUltraLight.ttf', '/usr/share/fonts/truetype/nanum/NanumSquareL.ttf', '/usr/share/fonts/truetype/liberation/LiberationSerif-Italic.ttf', '/usr/share/fonts/truetype/liberation/LiberationSans-Italic.ttf', '/usr/share/fonts/truetype/nanum/NanumBarunGothicBold.ttf', '/usr/share/fonts/truetype/nanum/NanumSquareRoundR.ttf', '/usr/share/fonts/truetype/nanum/NanumSquareB.ttf', '/usr/share/fonts/truetype/nanum/NanumSquareRoundB.ttf', '/usr/share/fonts/truetype/nanum/NanumBarunpenB.ttf', '/usr/share/fonts/truetype/liberation/LiberationMono-Italic.ttf', '/usr/share/fonts/truetype/nanum/NanumPen.ttf', '/usr/share/fonts/truetype/liberation/LiberationSansNarrow-BoldItalic.ttf', '/usr/share/fonts/truetype/liberation/LiberationSans-Bold.ttf', '/usr/share/fonts/truetype/nanum/NanumGothicLight.ttf', '/usr/share/fonts/truetype/nanum/NanumSquareRoundL.ttf', '/usr/share/fonts/truetype/liberation/LiberationSansNarrow-Italic.ttf', '/usr/share/fonts/truetype/nanum/NanumMyeongjoEcoExtraBold.ttf', '/usr/share/fonts/truetype/nanum/NanumGothicEcoExtraBold.ttf', '/usr/share/fonts/truetype/nanum/NanumBarunGothicLight.ttf', '/usr/share/fonts/truetype/nanum/NanumSquareR.ttf', '/usr/share/fonts/truetype/nanum/NanumGothicEcoBold.ttf', '/usr/share/fonts/truetype/liberation/LiberationMono-BoldItalic.ttf', '/usr/share/fonts/truetype/liberation/LiberationSansNarrow-Regular.ttf', '/usr/share/fonts/truetype/nanum/NanumGothicEco.ttf', '/usr/share/fonts/truetype/liberation/LiberationSerif-Regular.ttf', '/usr/share/fonts/truetype/nanum/NanumBrush.ttf', '/usr/share/fonts/truetype/nanum/NanumGothicCoding-Bold.ttf', '/usr/share/fonts/truetype/liberation/LiberationMono-Regular.ttf', '/usr/share/fonts/truetype/nanum/NanumGothic.ttf', '/usr/share/fonts/truetype/nanum/NanumMyeongjoBold.ttf', '/usr/share/fonts/truetype/liberation/LiberationMono-Bold.ttf', '/usr/share/fonts/truetype/liberation/LiberationSansNarrow-Bold.ttf', '/usr/share/fonts/truetype/nanum/NanumSquareRoundEB.ttf']\n",
            "nanum_font number: 31\n"
          ],
          "name": "stdout"
        }
      ]
    },
    {
      "cell_type": "code",
      "metadata": {
        "id": "AigSGEdpnDTJ"
      },
      "source": [
        "!apt-get update -qq > /dev/null\r\n",
        "!apt-get install fonts-nanum* -qq > /dev/null"
      ],
      "execution_count": 19,
      "outputs": []
    },
    {
      "cell_type": "code",
      "metadata": {
        "id": "GE_USoI2nmfS",
        "colab": {
          "base_uri": "https://localhost:8080/"
        },
        "outputId": "574d73c7-9cc5-4fbb-8693-730329a9288e"
      },
      "source": [
        "nanum_font = [f for f in sys_font if 'Nanum' in f]\r\n",
        "print(f\"nanum_font number: {len(nanum_font)}\")"
      ],
      "execution_count": 20,
      "outputs": [
        {
          "output_type": "stream",
          "text": [
            "nanum_font number: 31\n"
          ],
          "name": "stdout"
        }
      ]
    },
    {
      "cell_type": "code",
      "metadata": {
        "id": "Zzsq--jYpbjz",
        "colab": {
          "base_uri": "https://localhost:8080/"
        },
        "outputId": "962fb4da-d3b2-4ba2-a233-b6946e525fd1"
      },
      "source": [
        "nanum_font"
      ],
      "execution_count": 21,
      "outputs": [
        {
          "output_type": "execute_result",
          "data": {
            "text/plain": [
              "['/usr/share/fonts/truetype/nanum/NanumGothicBold.ttf',\n",
              " '/usr/share/fonts/truetype/nanum/NanumMyeongjoEcoBold.ttf',\n",
              " '/usr/share/fonts/truetype/nanum/NanumBarunpenR.ttf',\n",
              " '/usr/share/fonts/truetype/nanum/NanumGothicExtraBold.ttf',\n",
              " '/usr/share/fonts/truetype/nanum/NanumMyeongjoExtraBold.ttf',\n",
              " '/usr/share/fonts/truetype/nanum/NanumBarunGothic.ttf',\n",
              " '/usr/share/fonts/truetype/nanum/NanumMyeongjoEco.ttf',\n",
              " '/usr/share/fonts/truetype/nanum/NanumMyeongjo.ttf',\n",
              " '/usr/share/fonts/truetype/nanum/NanumSquareEB.ttf',\n",
              " '/usr/share/fonts/truetype/nanum/NanumGothicCoding.ttf',\n",
              " '/usr/share/fonts/truetype/nanum/NanumBarunGothicUltraLight.ttf',\n",
              " '/usr/share/fonts/truetype/nanum/NanumSquareL.ttf',\n",
              " '/usr/share/fonts/truetype/nanum/NanumBarunGothicBold.ttf',\n",
              " '/usr/share/fonts/truetype/nanum/NanumSquareRoundR.ttf',\n",
              " '/usr/share/fonts/truetype/nanum/NanumSquareB.ttf',\n",
              " '/usr/share/fonts/truetype/nanum/NanumSquareRoundB.ttf',\n",
              " '/usr/share/fonts/truetype/nanum/NanumBarunpenB.ttf',\n",
              " '/usr/share/fonts/truetype/nanum/NanumPen.ttf',\n",
              " '/usr/share/fonts/truetype/nanum/NanumGothicLight.ttf',\n",
              " '/usr/share/fonts/truetype/nanum/NanumSquareRoundL.ttf',\n",
              " '/usr/share/fonts/truetype/nanum/NanumMyeongjoEcoExtraBold.ttf',\n",
              " '/usr/share/fonts/truetype/nanum/NanumGothicEcoExtraBold.ttf',\n",
              " '/usr/share/fonts/truetype/nanum/NanumBarunGothicLight.ttf',\n",
              " '/usr/share/fonts/truetype/nanum/NanumSquareR.ttf',\n",
              " '/usr/share/fonts/truetype/nanum/NanumGothicEcoBold.ttf',\n",
              " '/usr/share/fonts/truetype/nanum/NanumGothicEco.ttf',\n",
              " '/usr/share/fonts/truetype/nanum/NanumBrush.ttf',\n",
              " '/usr/share/fonts/truetype/nanum/NanumGothicCoding-Bold.ttf',\n",
              " '/usr/share/fonts/truetype/nanum/NanumGothic.ttf',\n",
              " '/usr/share/fonts/truetype/nanum/NanumMyeongjoBold.ttf',\n",
              " '/usr/share/fonts/truetype/nanum/NanumSquareRoundEB.ttf']"
            ]
          },
          "metadata": {
            "tags": []
          },
          "execution_count": 21
        }
      ]
    },
    {
      "cell_type": "code",
      "metadata": {
        "id": "_t1BleCtp4B-",
        "colab": {
          "base_uri": "https://localhost:8080/"
        },
        "outputId": "686037e4-4d21-4c9a-c32d-ab91160d9afb"
      },
      "source": [
        "[(f.name, f.fname) for f in fm.fontManager.ttflist if 'Nanum' in f.name]\r\n"
      ],
      "execution_count": 22,
      "outputs": [
        {
          "output_type": "execute_result",
          "data": {
            "text/plain": [
              "[('NanumSquareRound', '/usr/share/fonts/truetype/nanum/NanumSquareRoundB.ttf'),\n",
              " ('NanumBarunGothic',\n",
              "  '/usr/share/fonts/truetype/nanum/NanumBarunGothicUltraLight.ttf'),\n",
              " ('NanumBarunGothic',\n",
              "  '/usr/share/fonts/truetype/nanum/NanumBarunGothicBold.ttf'),\n",
              " ('NanumMyeongjo', '/usr/share/fonts/truetype/nanum/NanumMyeongjo.ttf'),\n",
              " ('NanumBarunpen', '/usr/share/fonts/truetype/nanum/NanumBarunpenR.ttf'),\n",
              " ('NanumGothic', '/usr/share/fonts/truetype/nanum/NanumGothicBold.ttf'),\n",
              " ('NanumGothicCoding',\n",
              "  '/usr/share/fonts/truetype/nanum/NanumGothicCoding-Bold.ttf'),\n",
              " ('NanumGothic', '/usr/share/fonts/truetype/nanum/NanumGothicExtraBold.ttf'),\n",
              " ('Nanum Brush Script', '/usr/share/fonts/truetype/nanum/NanumBrush.ttf'),\n",
              " ('Nanum Pen Script', '/usr/share/fonts/truetype/nanum/NanumPen.ttf'),\n",
              " ('NanumSquare', '/usr/share/fonts/truetype/nanum/NanumSquareB.ttf'),\n",
              " ('NanumSquare', '/usr/share/fonts/truetype/nanum/NanumSquareR.ttf'),\n",
              " ('NanumSquareRound', '/usr/share/fonts/truetype/nanum/NanumSquareRoundR.ttf'),\n",
              " ('NanumSquareRound', '/usr/share/fonts/truetype/nanum/NanumSquareRoundL.ttf'),\n",
              " ('NanumSquareRound',\n",
              "  '/usr/share/fonts/truetype/nanum/NanumSquareRoundEB.ttf'),\n",
              " ('NanumMyeongjo Eco', '/usr/share/fonts/truetype/nanum/NanumMyeongjoEco.ttf'),\n",
              " ('NanumGothic', '/usr/share/fonts/truetype/nanum/NanumGothicLight.ttf'),\n",
              " ('NanumGothic Eco',\n",
              "  '/usr/share/fonts/truetype/nanum/NanumGothicEcoExtraBold.ttf'),\n",
              " ('NanumSquare', '/usr/share/fonts/truetype/nanum/NanumSquareL.ttf'),\n",
              " ('NanumBarunpen', '/usr/share/fonts/truetype/nanum/NanumBarunpenB.ttf'),\n",
              " ('NanumGothicCoding',\n",
              "  '/usr/share/fonts/truetype/nanum/NanumGothicCoding.ttf'),\n",
              " ('NanumMyeongjo Eco',\n",
              "  '/usr/share/fonts/truetype/nanum/NanumMyeongjoEcoExtraBold.ttf'),\n",
              " ('NanumGothic Eco', '/usr/share/fonts/truetype/nanum/NanumGothicEco.ttf'),\n",
              " ('NanumGothic Eco', '/usr/share/fonts/truetype/nanum/NanumGothicEcoBold.ttf'),\n",
              " ('NanumGothic', '/usr/share/fonts/truetype/nanum/NanumGothic.ttf'),\n",
              " ('NanumMyeongjo Eco',\n",
              "  '/usr/share/fonts/truetype/nanum/NanumMyeongjoEcoBold.ttf'),\n",
              " ('NanumBarunGothic',\n",
              "  '/usr/share/fonts/truetype/nanum/NanumBarunGothicLight.ttf'),\n",
              " ('NanumBarunGothic', '/usr/share/fonts/truetype/nanum/NanumBarunGothic.ttf'),\n",
              " ('NanumSquare', '/usr/share/fonts/truetype/nanum/NanumSquareEB.ttf'),\n",
              " ('NanumMyeongjo',\n",
              "  '/usr/share/fonts/truetype/nanum/NanumMyeongjoExtraBold.ttf'),\n",
              " ('NanumMyeongjo', '/usr/share/fonts/truetype/nanum/NanumMyeongjoBold.ttf')]"
            ]
          },
          "metadata": {
            "tags": []
          },
          "execution_count": 22
        }
      ]
    },
    {
      "cell_type": "code",
      "metadata": {
        "id": "pgPQi3RuqHM7"
      },
      "source": [
        "fm._rebuild()"
      ],
      "execution_count": 23,
      "outputs": []
    },
    {
      "cell_type": "code",
      "metadata": {
        "id": "liL-jxbepgzz",
        "colab": {
          "base_uri": "https://localhost:8080/"
        },
        "outputId": "12605911-f89b-40f6-9846-91e6ca417f4b"
      },
      "source": [
        "path = '/usr/share/fonts/truetype/nanum/NanumMyeongjo.ttf'  # 설치된 나눔글꼴중 원하는 녀석의 전체 경로를 가져오자\r\n",
        "font_name = fm.FontProperties(fname=path, size=10).get_name()\r\n",
        "print(font_name)\r\n",
        "plt.rc('font', family=font_name)"
      ],
      "execution_count": 24,
      "outputs": [
        {
          "output_type": "stream",
          "text": [
            "NanumMyeongjo\n"
          ],
          "name": "stdout"
        }
      ]
    },
    {
      "cell_type": "markdown",
      "metadata": {
        "id": "vNnmJz5PyAoT"
      },
      "source": [
        "# 2차원 분석"
      ]
    },
    {
      "cell_type": "code",
      "metadata": {
        "id": "vTELUUJ4qRZD",
        "colab": {
          "base_uri": "https://localhost:8080/",
          "height": 873
        },
        "outputId": "19ac4fd0-b710-48ed-f371-157e824bda22"
      },
      "source": [
        "# plt.rc('font', family='NanumBarunGothic')\r\n",
        "\r\n",
        "plt.rcParams[\"font.size\"] = 20\r\n",
        "plt.rcParams[\"figure.figsize\"] = (20,15)\r\n",
        "plt.scatter(result[:, 0], result[:, 1])\r\n",
        "words = list(model.wv.vocab)\r\n",
        "for i, word in enumerate(words):\r\n",
        "\tplt.annotate(word, xy=(result[i, 0], result[i, 1]))\r\n",
        "\r\n",
        "# 그래프에서 마이너스 폰트 깨지는 문제에 대한 대처\r\n",
        "mpl.rcParams['axes.unicode_minus'] = False\r\n",
        "\r\n",
        "plt.show()"
      ],
      "execution_count": 54,
      "outputs": [
        {
          "output_type": "display_data",
          "data": {
            "image/png": "[encoded data removed]",
            "text/plain": [
              "<Figure size 1440x1080 with 1 Axes>"
            ]
          },
          "metadata": {
            "tags": [],
            "needs_background": "light"
          }
        }
      ]
    },
    {
      "cell_type": "markdown",
      "metadata": {
        "id": "P3phlR_81tOB"
      },
      "source": [
        "# 실습\r\n",
        "- 주어+동사를 이용한 형태소 분석을 실행해보고 결과를 확인해봅니다"
      ]
    },
    {
      "cell_type": "markdown",
      "metadata": {
        "id": "1SWIxaa4waes"
      },
      "source": [
        "### 형태소 분석(주어+동사)"
      ]
    },
    {
      "cell_type": "code",
      "metadata": {
        "id": "LL7Tri-fv8qw"
      },
      "source": [
        "news_token_pos = []"
      ],
      "execution_count": 55,
      "outputs": []
    },
    {
      "cell_type": "code",
      "metadata": {
        "id": "Kv93FBpVwK_2"
      },
      "source": [
        "for news in news_list:\r\n",
        "    news_token_pos.append(okt.pos (news))"
      ],
      "execution_count": 56,
      "outputs": []
    },
    {
      "cell_type": "code",
      "metadata": {
        "id": "efWEr8PYwVuJ",
        "colab": {
          "base_uri": "https://localhost:8080/"
        },
        "outputId": "dfdbcba8-0079-4896-d7ae-55433d3a1079"
      },
      "source": [
        "news_token_pos"
      ],
      "execution_count": 57,
      "outputs": [
        {
          "output_type": "execute_result",
          "data": {
            "text/plain": [
              "[[('일본', 'Noun'),\n",
              "  ('의', 'Josa'),\n",
              "  ('소행성', 'Noun'),\n",
              "  ('탐사선', 'Noun'),\n",
              "  ('하야부사', 'Noun'),\n",
              "  ('2', 'Number'),\n",
              "  ('호가', 'Noun'),\n",
              "  ('소행성', 'Noun'),\n",
              "  ('‘', 'Foreign'),\n",
              "  ('류구', 'Noun'),\n",
              "  ('’', 'Punctuation'),\n",
              "  ('에서', 'Josa'),\n",
              "  ('채취', 'Noun'),\n",
              "  ('한', 'Josa'),\n",
              "  ('표본', 'Noun'),\n",
              "  ('(', 'Punctuation'),\n",
              "  ('흙', 'Noun'),\n",
              "  (')', 'Punctuation'),\n",
              "  ('의', 'Noun'),\n",
              "  ('새로운', 'Adjective'),\n",
              "  ('사진', 'Noun'),\n",
              "  ('이', 'Josa'),\n",
              "  ('공개', 'Noun'),\n",
              "  ('됐다', 'Verb'),\n",
              "  ('.', 'Punctuation'),\n",
              "  ('최근', 'Noun'),\n",
              "  ('일본', 'Noun'),\n",
              "  ('우주', 'Noun'),\n",
              "  ('항공', 'Noun'),\n",
              "  ('연구개발', 'Noun'),\n",
              "  ('기구', 'Noun'),\n",
              "  ('(', 'Punctuation'),\n",
              "  ('JAXA', 'Alpha'),\n",
              "  (')', 'Punctuation'),\n",
              "  ('는', 'Verb'),\n",
              "  ('최대', 'Noun'),\n",
              "  ('1', 'Number'),\n",
              "  ('cm', 'Alpha'),\n",
              "  ('에', 'Josa'),\n",
              "  ('달', 'Noun'),\n",
              "  ('하는', 'Verb'),\n",
              "  ('검은', 'Adjective'),\n",
              "  ('표본', 'Noun'),\n",
              "  ('을', 'Josa'),\n",
              "  ('포함', 'Noun'),\n",
              "  ('지금', 'Noun'),\n",
              "  ('까지', 'Josa'),\n",
              "  ('1', 'Number'),\n",
              "  ('mm', 'Alpha'),\n",
              "  ('이상', 'Noun'),\n",
              "  ('의', 'Josa'),\n",
              "  ('검은', 'Adjective'),\n",
              "  ('입자', 'Noun'),\n",
              "  ('가', 'Josa'),\n",
              "  ('다수', 'Noun'),\n",
              "  ('발견', 'Noun'),\n",
              "  ('됐다고', 'Verb'),\n",
              "  ('밝혔다', 'Verb'),\n",
              "  ('.', 'Punctuation'),\n",
              "  ('하야부사', 'Noun'),\n",
              "  ('2', 'Number'),\n",
              "  ('호가', 'Noun'),\n",
              "  ('류구', 'Noun'),\n",
              "  ('에서', 'Josa'),\n",
              "  ('가져온', 'Verb'),\n",
              "  ('표본', 'Noun'),\n",
              "  ('은', 'Josa'),\n",
              "  ('총', 'Noun'),\n",
              "  ('5.4', 'Number'),\n",
              "  ('g', 'Alpha'),\n",
              "  ('정도', 'Noun'),\n",
              "  ('로', 'Josa'),\n",
              "  ('이는', 'Verb'),\n",
              "  ('목표', 'Noun'),\n",
              "  ('치의', 'Noun'),\n",
              "  ('50', 'Number'),\n",
              "  ('배', 'Noun'),\n",
              "  ('가', 'Josa'),\n",
              "  ('넘는다', 'Verb'),\n",
              "  ('.', 'Punctuation')],\n",
              " [('지난', 'Noun'),\n",
              "  ('24일', 'Number'),\n",
              "  ('JAXA', 'Alpha'),\n",
              "  ('가', 'Verb'),\n",
              "  ('공개', 'Noun'),\n",
              "  ('한', 'Josa'),\n",
              "  ('류구', 'Noun'),\n",
              "  ('의', 'Josa'),\n",
              "  ('표본', 'Noun'),\n",
              "  ('을', 'Josa'),\n",
              "  ('보면', 'Verb'),\n",
              "  ('마치', 'Noun'),\n",
              "  ('숯', 'Noun'),\n",
              "  ('덩이', 'Noun'),\n",
              "  ('로', 'Josa'),\n",
              "  ('가득', 'Noun'),\n",
              "  ('차', 'Noun'),\n",
              "  ('있는듯', 'Adjective'),\n",
              "  ('보이는데', 'Verb'),\n",
              "  ('이는', 'Verb'),\n",
              "  ('광학현미경', 'Noun'),\n",
              "  ('으로', 'Josa'),\n",
              "  ('촬영', 'Noun'),\n",
              "  ('됐기', 'Verb'),\n",
              "  ('때문', 'Noun'),\n",
              "  ('이다', 'Josa'),\n",
              "  ('.', 'Punctuation')],\n",
              " [('우리말', 'Noun'),\n",
              "  ('로', 'Josa'),\n",
              "  ('‘', 'Foreign'),\n",
              "  ('송골매', 'Noun'),\n",
              "  ('’', 'Punctuation'),\n",
              "  ('라는', 'Josa'),\n",
              "  ('뜻', 'Noun'),\n",
              "  ('을', 'Josa'),\n",
              "  ('가진', 'Verb'),\n",
              "  ('하야부사', 'Noun'),\n",
              "  ('2', 'Number'),\n",
              "  ('호', 'Noun'),\n",
              "  ('는', 'Josa'),\n",
              "  ('세계', 'Noun'),\n",
              "  ('처음', 'Noun'),\n",
              "  ('으로', 'Josa'),\n",
              "  ('소행성', 'Noun'),\n",
              "  ('‘', 'Foreign'),\n",
              "  ('이', 'Determiner'),\n",
              "  ('토카', 'Noun'),\n",
              "  ('와', 'Josa'),\n",
              "  ('’', 'Punctuation'),\n",
              "  ('의', 'Noun'),\n",
              "  ('미립', 'Noun'),\n",
              "  ('자', 'Suffix'),\n",
              "  ('를', 'Josa'),\n",
              "  ('가져온', 'Verb'),\n",
              "  ('하야부사', 'Noun'),\n",
              "  ('의', 'Josa'),\n",
              "  ('문제점', 'Noun'),\n",
              "  ('을', 'Josa'),\n",
              "  ('보완', 'Noun'),\n",
              "  (',', 'Punctuation'),\n",
              "  ('개발', 'Noun'),\n",
              "  ('해', 'Verb'),\n",
              "  ('지난', 'Noun'),\n",
              "  ('2014년', 'Number'),\n",
              "  ('12월', 'Number'),\n",
              "  ('발사', 'Noun'),\n",
              "  ('됐다', 'Verb'),\n",
              "  ('.', 'Punctuation'),\n",
              "  ('이후', 'Noun'),\n",
              "  ('하야부사', 'Noun'),\n",
              "  ('2', 'Number'),\n",
              "  ('호', 'Noun'),\n",
              "  ('는', 'Josa'),\n",
              "  ('지난해', 'Noun'),\n",
              "  ('7월', 'Number'),\n",
              "  ('지구', 'Noun'),\n",
              "  ('에서', 'Josa'),\n",
              "  ('약', 'Noun'),\n",
              "  ('3억', 'Number'),\n",
              "  ('4000만', 'Number'),\n",
              "  ('㎞', 'Foreign'),\n",
              "  ('떨어진', 'Verb'),\n",
              "  ('소행성', 'Noun'),\n",
              "  ('류구', 'Noun'),\n",
              "  ('에', 'Josa'),\n",
              "  ('접근', 'Noun'),\n",
              "  ('해', 'Verb'),\n",
              "  ('금속', 'Noun'),\n",
              "  ('탄환', 'Noun'),\n",
              "  ('으로', 'Josa'),\n",
              "  ('웅덩이', 'Noun'),\n",
              "  ('를', 'Josa'),\n",
              "  ('만든', 'Verb'),\n",
              "  ('뒤', 'Noun'),\n",
              "  ('내부', 'Noun'),\n",
              "  ('물질', 'Noun'),\n",
              "  ('을', 'Josa'),\n",
              "  ('채취', 'Noun'),\n",
              "  ('하는', 'Verb'),\n",
              "  ('데', 'Noun'),\n",
              "  ('성공했다', 'Adjective'),\n",
              "  ('.', 'Punctuation')],\n",
              " [('일본', 'Noun'),\n",
              "  ('우주', 'Noun'),\n",
              "  ('항공', 'Noun'),\n",
              "  ('연구개발', 'Noun'),\n",
              "  ('기구', 'Noun'),\n",
              "  ('(', 'Punctuation'),\n",
              "  ('JAXA', 'Alpha'),\n",
              "  (')', 'Punctuation'),\n",
              "  ('요원', 'Noun'),\n",
              "  ('이', 'Josa'),\n",
              "  ('6일', 'Number'),\n",
              "  ('호주', 'Noun'),\n",
              "  ('사우스', 'Noun'),\n",
              "  ('오스트레일리아', 'Noun'),\n",
              "  ('주', 'Noun'),\n",
              "  ('우메', 'Noun'),\n",
              "  ('라', 'Josa'),\n",
              "  ('사막', 'Noun'),\n",
              "  ('지대', 'Noun'),\n",
              "  ('에', 'Josa'),\n",
              "  ('떨어진', 'Verb'),\n",
              "  ('소행성', 'Noun'),\n",
              "  ('류구', 'Noun'),\n",
              "  ('의', 'Josa'),\n",
              "  ('내부', 'Noun'),\n",
              "  ('물질', 'Noun'),\n",
              "  ('을', 'Josa'),\n",
              "  ('담은', 'Verb'),\n",
              "  ('캡슐', 'Noun'),\n",
              "  ('을', 'Josa'),\n",
              "  ('회수', 'Noun'),\n",
              "  ('해', 'Verb'),\n",
              "  ('옮기고', 'Verb'),\n",
              "  ('있다', 'Adjective'),\n",
              "  ('.', 'Punctuation'),\n",
              "  ('JAXA', 'Alpha'),\n",
              "  ('제공', 'Noun'),\n",
              "  ('AP', 'Alpha'),\n",
              "  ('연합뉴스', 'Noun')],\n",
              " [('같은', 'Adjective'),\n",
              "  ('해', 'Noun'),\n",
              "  ('11월', 'Number'),\n",
              "  ('류구', 'Noun'),\n",
              "  ('를', 'Josa'),\n",
              "  ('출발', 'Noun'),\n",
              "  ('해', 'Verb'),\n",
              "  ('다시', 'Noun'),\n",
              "  ('지구', 'Noun'),\n",
              "  ('로', 'Josa'),\n",
              "  ('향', 'Noun'),\n",
              "  ('한', 'Josa'),\n",
              "  ('하야부사', 'Noun'),\n",
              "  ('2', 'Number'),\n",
              "  ('호', 'Noun'),\n",
              "  ('는', 'Josa'),\n",
              "  ('지난', 'Noun'),\n",
              "  ('5일', 'Number'),\n",
              "  ('채취', 'Noun'),\n",
              "  ('한', 'Josa'),\n",
              "  ('표본', 'Noun'),\n",
              "  ('이', 'Josa'),\n",
              "  ('담긴', 'Verb'),\n",
              "  ('캡슐', 'Noun'),\n",
              "  ('을', 'Josa'),\n",
              "  ('분리', 'Noun'),\n",
              "  ('해', 'Verb'),\n",
              "  ('호주', 'Noun'),\n",
              "  ('서부', 'Noun'),\n",
              "  ('사막', 'Noun'),\n",
              "  ('에', 'Josa'),\n",
              "  ('떨어뜨리고', 'Verb'),\n",
              "  ('새', 'Noun'),\n",
              "  ('탐사', 'Noun'),\n",
              "  ('지인', 'Noun'),\n",
              "  ('지구', 'Noun'),\n",
              "  ('와', 'Josa'),\n",
              "  ('화성', 'Noun'),\n",
              "  ('사이', 'Noun'),\n",
              "  ('를', 'Josa'),\n",
              "  ('도', 'Noun'),\n",
              "  ('는', 'Josa'),\n",
              "  ('소행성', 'Noun'),\n",
              "  (\"'\", 'Punctuation'),\n",
              "  ('1998', 'Number'),\n",
              "  ('KY', 'Alpha'),\n",
              "  ('26', 'Number'),\n",
              "  (\"'\", 'Punctuation'),\n",
              "  ('으로', 'Josa'),\n",
              "  ('향', 'Noun'),\n",
              "  ('했다', 'Verb'),\n",
              "  ('.', 'Punctuation')],\n",
              " [('하야부사', 'Noun'),\n",
              "  ('2', 'Number'),\n",
              "  ('호가', 'Noun'),\n",
              "  ('6년', 'Number'),\n",
              "  ('동안', 'Noun'),\n",
              "  ('비행', 'Noun'),\n",
              "  ('한', 'Josa'),\n",
              "  ('거리', 'Noun'),\n",
              "  ('는', 'Josa'),\n",
              "  ('52억', 'Number'),\n",
              "  ('㎞', 'Foreign'),\n",
              "  ('로', 'Noun'),\n",
              "  ('이는', 'Verb'),\n",
              "  ('지구', 'Noun'),\n",
              "  ('와', 'Josa'),\n",
              "  ('달', 'Noun'),\n",
              "  ('사이', 'Noun'),\n",
              "  ('평균', 'Noun'),\n",
              "  ('거리', 'Noun'),\n",
              "  ('에', 'Josa'),\n",
              "  ('1만', 'Number'),\n",
              "  ('3500', 'Number'),\n",
              "  ('배', 'Noun'),\n",
              "  ('에', 'Josa'),\n",
              "  ('달', 'Noun'),\n",
              "  ('한', 'Josa'),\n",
              "  ('다', 'Adverb'),\n",
              "  ('.', 'Punctuation')],\n",
              " [('하야부사', 'Noun'),\n",
              "  ('2', 'Number'),\n",
              "  ('호가', 'Noun'),\n",
              "  ('탐사', 'Noun'),\n",
              "  ('한', 'Josa'),\n",
              "  ('류구', 'Noun'),\n",
              "  ('는', 'Josa'),\n",
              "  ('수많은', 'Adjective'),\n",
              "  ('바위', 'Noun'),\n",
              "  ('와', 'Josa'),\n",
              "  ('돌', 'Noun'),\n",
              "  ('로', 'Josa'),\n",
              "  ('가득한', 'Adjective'),\n",
              "  ('소행성', 'Noun'),\n",
              "  ('으로', 'Josa'),\n",
              "  ('지름', 'Noun'),\n",
              "  ('은', 'Josa'),\n",
              "  ('870', 'Number'),\n",
              "  ('m', 'Alpha'),\n",
              "  (',', 'Punctuation'),\n",
              "  ('공전주기', 'Noun'),\n",
              "  ('는', 'Josa'),\n",
              "  ('475일', 'Number'),\n",
              "  (',', 'Punctuation'),\n",
              "  ('자전주기', 'Noun'),\n",
              "  ('는', 'Josa'),\n",
              "  ('7.5시간', 'Number'),\n",
              "  ('이다', 'Foreign'),\n",
              "  ('.', 'Punctuation'),\n",
              "  ('특히', 'Adverb'),\n",
              "  ('태양계', 'Noun'),\n",
              "  ('형성', 'Noun'),\n",
              "  ('당시', 'Noun'),\n",
              "  ('의', 'Josa'),\n",
              "  ('물질', 'Noun'),\n",
              "  ('이', 'Josa'),\n",
              "  ('고스', 'Noun'),\n",
              "  ('란', 'Noun'),\n",
              "  ('히', 'Adverb'),\n",
              "  ('남아있을', 'Verb'),\n",
              "  ('것', 'Noun'),\n",
              "  ('으로', 'Josa'),\n",
              "  ('추정', 'Noun'),\n",
              "  ('돼', 'Verb'),\n",
              "  ('연', 'Modifier'),\n",
              "  ('구', 'Modifier'),\n",
              "  ('가치', 'Noun'),\n",
              "  ('가', 'Josa'),\n",
              "  ('매우', 'Noun'),\n",
              "  ('높다', 'Adjective'),\n",
              "  ('.', 'Punctuation'),\n",
              "  ('곧', 'Noun'),\n",
              "  ('이번', 'Noun'),\n",
              "  ('에', 'Josa'),\n",
              "  ('탐사선', 'Noun'),\n",
              "  ('이', 'Josa'),\n",
              "  ('가져온', 'Verb'),\n",
              "  ('표본', 'Noun'),\n",
              "  ('에는', 'Josa'),\n",
              "  ('태양계', 'Noun'),\n",
              "  ('와', 'Josa'),\n",
              "  ('지구', 'Noun'),\n",
              "  ('탄생', 'Noun'),\n",
              "  ('의', 'Josa'),\n",
              "  ('비밀', 'Noun'),\n",
              "  ('을', 'Josa'),\n",
              "  ('풀어줄', 'Verb'),\n",
              "  ('단서', 'Noun'),\n",
              "  ('가', 'Josa'),\n",
              "  ('담겨있을', 'Verb'),\n",
              "  ('수', 'Noun'),\n",
              "  ('있다', 'Adjective'),\n",
              "  ('.', 'Punctuation')]]"
            ]
          },
          "metadata": {
            "tags": []
          },
          "execution_count": 57
        }
      ]
    },
    {
      "cell_type": "code",
      "metadata": {
        "id": "IF_lWsdgwWAh"
      },
      "source": [
        "news_token_pos = []"
      ],
      "execution_count": 58,
      "outputs": []
    },
    {
      "cell_type": "code",
      "metadata": {
        "id": "v3RQ9c0fyx9Y"
      },
      "source": [
        "def get_noun_and_verb(pos_token_list):\r\n",
        "    result = []\r\n",
        "    for (word, pos) in pos_token_list:\r\n",
        "        if pos == 'Noun' or pos == 'Verb':\r\n",
        "            result.append(word)\r\n",
        "            print('word :{}, pos:{}'.format(word, pos))\r\n",
        "    return result\r\n"
      ],
      "execution_count": 59,
      "outputs": []
    },
    {
      "cell_type": "code",
      "metadata": {
        "id": "z_FJyfOvyr_h",
        "colab": {
          "base_uri": "https://localhost:8080/"
        },
        "outputId": "82770f83-4acf-4d63-8cec-b87392ea1ea7"
      },
      "source": [
        "for news in news_list:\r\n",
        "    news_token_pos.append(get_noun_and_verb(okt.pos(news)))"
      ],
      "execution_count": 60,
      "outputs": [
        {
          "output_type": "stream",
          "text": [
            "word :일본, pos:Noun\n",
            "word :소행성, pos:Noun\n",
            "word :탐사선, pos:Noun\n",
            "word :하야부사, pos:Noun\n",
            "word :호가, pos:Noun\n",
            "word :소행성, pos:Noun\n",
            "word :류구, pos:Noun\n",
            "word :채취, pos:Noun\n",
            "word :표본, pos:Noun\n",
            "word :흙, pos:Noun\n",
            "word :의, pos:Noun\n",
            "word :사진, pos:Noun\n",
            "word :공개, pos:Noun\n",
            "word :됐다, pos:Verb\n",
            "word :최근, pos:Noun\n",
            "word :일본, pos:Noun\n",
            "word :우주, pos:Noun\n",
            "word :항공, pos:Noun\n",
            "word :연구개발, pos:Noun\n",
            "word :기구, pos:Noun\n",
            "word :는, pos:Verb\n",
            "word :최대, pos:Noun\n",
            "word :달, pos:Noun\n",
            "word :하는, pos:Verb\n",
            "word :표본, pos:Noun\n",
            "word :포함, pos:Noun\n",
            "word :지금, pos:Noun\n",
            "word :이상, pos:Noun\n",
            "word :입자, pos:Noun\n",
            "word :다수, pos:Noun\n",
            "word :발견, pos:Noun\n",
            "word :됐다고, pos:Verb\n",
            "word :밝혔다, pos:Verb\n",
            "word :하야부사, pos:Noun\n",
            "word :호가, pos:Noun\n",
            "word :류구, pos:Noun\n",
            "word :가져온, pos:Verb\n",
            "word :표본, pos:Noun\n",
            "word :총, pos:Noun\n",
            "word :정도, pos:Noun\n",
            "word :이는, pos:Verb\n",
            "word :목표, pos:Noun\n",
            "word :치의, pos:Noun\n",
            "word :배, pos:Noun\n",
            "word :넘는다, pos:Verb\n",
            "word :지난, pos:Noun\n",
            "word :가, pos:Verb\n",
            "word :공개, pos:Noun\n",
            "word :류구, pos:Noun\n",
            "word :표본, pos:Noun\n",
            "word :보면, pos:Verb\n",
            "word :마치, pos:Noun\n",
            "word :숯, pos:Noun\n",
            "word :덩이, pos:Noun\n",
            "word :가득, pos:Noun\n",
            "word :차, pos:Noun\n",
            "word :보이는데, pos:Verb\n",
            "word :이는, pos:Verb\n",
            "word :광학현미경, pos:Noun\n",
            "word :촬영, pos:Noun\n",
            "word :됐기, pos:Verb\n",
            "word :때문, pos:Noun\n",
            "word :우리말, pos:Noun\n",
            "word :송골매, pos:Noun\n",
            "word :뜻, pos:Noun\n",
            "word :가진, pos:Verb\n",
            "word :하야부사, pos:Noun\n",
            "word :호, pos:Noun\n",
            "word :세계, pos:Noun\n",
            "word :처음, pos:Noun\n",
            "word :소행성, pos:Noun\n",
            "word :토카, pos:Noun\n",
            "word :의, pos:Noun\n",
            "word :미립, pos:Noun\n",
            "word :가져온, pos:Verb\n",
            "word :하야부사, pos:Noun\n",
            "word :문제점, pos:Noun\n",
            "word :보완, pos:Noun\n",
            "word :개발, pos:Noun\n",
            "word :해, pos:Verb\n",
            "word :지난, pos:Noun\n",
            "word :발사, pos:Noun\n",
            "word :됐다, pos:Verb\n",
            "word :이후, pos:Noun\n",
            "word :하야부사, pos:Noun\n",
            "word :호, pos:Noun\n",
            "word :지난해, pos:Noun\n",
            "word :지구, pos:Noun\n",
            "word :약, pos:Noun\n",
            "word :떨어진, pos:Verb\n",
            "word :소행성, pos:Noun\n",
            "word :류구, pos:Noun\n",
            "word :접근, pos:Noun\n",
            "word :해, pos:Verb\n",
            "word :금속, pos:Noun\n",
            "word :탄환, pos:Noun\n",
            "word :웅덩이, pos:Noun\n",
            "word :만든, pos:Verb\n",
            "word :뒤, pos:Noun\n",
            "word :내부, pos:Noun\n",
            "word :물질, pos:Noun\n",
            "word :채취, pos:Noun\n",
            "word :하는, pos:Verb\n",
            "word :데, pos:Noun\n",
            "word :일본, pos:Noun\n",
            "word :우주, pos:Noun\n",
            "word :항공, pos:Noun\n",
            "word :연구개발, pos:Noun\n",
            "word :기구, pos:Noun\n",
            "word :요원, pos:Noun\n",
            "word :호주, pos:Noun\n",
            "word :사우스, pos:Noun\n",
            "word :오스트레일리아, pos:Noun\n",
            "word :주, pos:Noun\n",
            "word :우메, pos:Noun\n",
            "word :사막, pos:Noun\n",
            "word :지대, pos:Noun\n",
            "word :떨어진, pos:Verb\n",
            "word :소행성, pos:Noun\n",
            "word :류구, pos:Noun\n",
            "word :내부, pos:Noun\n",
            "word :물질, pos:Noun\n",
            "word :담은, pos:Verb\n",
            "word :캡슐, pos:Noun\n",
            "word :회수, pos:Noun\n",
            "word :해, pos:Verb\n",
            "word :옮기고, pos:Verb\n",
            "word :제공, pos:Noun\n",
            "word :연합뉴스, pos:Noun\n",
            "word :해, pos:Noun\n",
            "word :류구, pos:Noun\n",
            "word :출발, pos:Noun\n",
            "word :해, pos:Verb\n",
            "word :다시, pos:Noun\n",
            "word :지구, pos:Noun\n",
            "word :향, pos:Noun\n",
            "word :하야부사, pos:Noun\n",
            "word :호, pos:Noun\n",
            "word :지난, pos:Noun\n",
            "word :채취, pos:Noun\n",
            "word :표본, pos:Noun\n",
            "word :담긴, pos:Verb\n",
            "word :캡슐, pos:Noun\n",
            "word :분리, pos:Noun\n",
            "word :해, pos:Verb\n",
            "word :호주, pos:Noun\n",
            "word :서부, pos:Noun\n",
            "word :사막, pos:Noun\n",
            "word :떨어뜨리고, pos:Verb\n",
            "word :새, pos:Noun\n",
            "word :탐사, pos:Noun\n",
            "word :지인, pos:Noun\n",
            "word :지구, pos:Noun\n",
            "word :화성, pos:Noun\n",
            "word :사이, pos:Noun\n",
            "word :도, pos:Noun\n",
            "word :소행성, pos:Noun\n",
            "word :향, pos:Noun\n",
            "word :했다, pos:Verb\n",
            "word :하야부사, pos:Noun\n",
            "word :호가, pos:Noun\n",
            "word :동안, pos:Noun\n",
            "word :비행, pos:Noun\n",
            "word :거리, pos:Noun\n",
            "word :로, pos:Noun\n",
            "word :이는, pos:Verb\n",
            "word :지구, pos:Noun\n",
            "word :달, pos:Noun\n",
            "word :사이, pos:Noun\n",
            "word :평균, pos:Noun\n",
            "word :거리, pos:Noun\n",
            "word :배, pos:Noun\n",
            "word :달, pos:Noun\n",
            "word :하야부사, pos:Noun\n",
            "word :호가, pos:Noun\n",
            "word :탐사, pos:Noun\n",
            "word :류구, pos:Noun\n",
            "word :바위, pos:Noun\n",
            "word :돌, pos:Noun\n",
            "word :소행성, pos:Noun\n",
            "word :지름, pos:Noun\n",
            "word :공전주기, pos:Noun\n",
            "word :자전주기, pos:Noun\n",
            "word :태양계, pos:Noun\n",
            "word :형성, pos:Noun\n",
            "word :당시, pos:Noun\n",
            "word :물질, pos:Noun\n",
            "word :고스, pos:Noun\n",
            "word :란, pos:Noun\n",
            "word :남아있을, pos:Verb\n",
            "word :것, pos:Noun\n",
            "word :추정, pos:Noun\n",
            "word :돼, pos:Verb\n",
            "word :가치, pos:Noun\n",
            "word :매우, pos:Noun\n",
            "word :곧, pos:Noun\n",
            "word :이번, pos:Noun\n",
            "word :탐사선, pos:Noun\n",
            "word :가져온, pos:Verb\n",
            "word :표본, pos:Noun\n",
            "word :태양계, pos:Noun\n",
            "word :지구, pos:Noun\n",
            "word :탄생, pos:Noun\n",
            "word :비밀, pos:Noun\n",
            "word :풀어줄, pos:Verb\n",
            "word :단서, pos:Noun\n",
            "word :담겨있을, pos:Verb\n",
            "word :수, pos:Noun\n"
          ],
          "name": "stdout"
        }
      ]
    },
    {
      "cell_type": "code",
      "metadata": {
        "id": "4QN7vvdczjsy",
        "colab": {
          "base_uri": "https://localhost:8080/"
        },
        "outputId": "48e214cf-abb5-4cb0-fef1-b533e0b53189"
      },
      "source": [
        "news_token_pos"
      ],
      "execution_count": 61,
      "outputs": [
        {
          "output_type": "execute_result",
          "data": {
            "text/plain": [
              "[['일본',\n",
              "  '소행성',\n",
              "  '탐사선',\n",
              "  '하야부사',\n",
              "  '호가',\n",
              "  '소행성',\n",
              "  '류구',\n",
              "  '채취',\n",
              "  '표본',\n",
              "  '흙',\n",
              "  '의',\n",
              "  '사진',\n",
              "  '공개',\n",
              "  '됐다',\n",
              "  '최근',\n",
              "  '일본',\n",
              "  '우주',\n",
              "  '항공',\n",
              "  '연구개발',\n",
              "  '기구',\n",
              "  '는',\n",
              "  '최대',\n",
              "  '달',\n",
              "  '하는',\n",
              "  '표본',\n",
              "  '포함',\n",
              "  '지금',\n",
              "  '이상',\n",
              "  '입자',\n",
              "  '다수',\n",
              "  '발견',\n",
              "  '됐다고',\n",
              "  '밝혔다',\n",
              "  '하야부사',\n",
              "  '호가',\n",
              "  '류구',\n",
              "  '가져온',\n",
              "  '표본',\n",
              "  '총',\n",
              "  '정도',\n",
              "  '이는',\n",
              "  '목표',\n",
              "  '치의',\n",
              "  '배',\n",
              "  '넘는다'],\n",
              " ['지난',\n",
              "  '가',\n",
              "  '공개',\n",
              "  '류구',\n",
              "  '표본',\n",
              "  '보면',\n",
              "  '마치',\n",
              "  '숯',\n",
              "  '덩이',\n",
              "  '가득',\n",
              "  '차',\n",
              "  '보이는데',\n",
              "  '이는',\n",
              "  '광학현미경',\n",
              "  '촬영',\n",
              "  '됐기',\n",
              "  '때문'],\n",
              " ['우리말',\n",
              "  '송골매',\n",
              "  '뜻',\n",
              "  '가진',\n",
              "  '하야부사',\n",
              "  '호',\n",
              "  '세계',\n",
              "  '처음',\n",
              "  '소행성',\n",
              "  '토카',\n",
              "  '의',\n",
              "  '미립',\n",
              "  '가져온',\n",
              "  '하야부사',\n",
              "  '문제점',\n",
              "  '보완',\n",
              "  '개발',\n",
              "  '해',\n",
              "  '지난',\n",
              "  '발사',\n",
              "  '됐다',\n",
              "  '이후',\n",
              "  '하야부사',\n",
              "  '호',\n",
              "  '지난해',\n",
              "  '지구',\n",
              "  '약',\n",
              "  '떨어진',\n",
              "  '소행성',\n",
              "  '류구',\n",
              "  '접근',\n",
              "  '해',\n",
              "  '금속',\n",
              "  '탄환',\n",
              "  '웅덩이',\n",
              "  '만든',\n",
              "  '뒤',\n",
              "  '내부',\n",
              "  '물질',\n",
              "  '채취',\n",
              "  '하는',\n",
              "  '데'],\n",
              " ['일본',\n",
              "  '우주',\n",
              "  '항공',\n",
              "  '연구개발',\n",
              "  '기구',\n",
              "  '요원',\n",
              "  '호주',\n",
              "  '사우스',\n",
              "  '오스트레일리아',\n",
              "  '주',\n",
              "  '우메',\n",
              "  '사막',\n",
              "  '지대',\n",
              "  '떨어진',\n",
              "  '소행성',\n",
              "  '류구',\n",
              "  '내부',\n",
              "  '물질',\n",
              "  '담은',\n",
              "  '캡슐',\n",
              "  '회수',\n",
              "  '해',\n",
              "  '옮기고',\n",
              "  '제공',\n",
              "  '연합뉴스'],\n",
              " ['해',\n",
              "  '류구',\n",
              "  '출발',\n",
              "  '해',\n",
              "  '다시',\n",
              "  '지구',\n",
              "  '향',\n",
              "  '하야부사',\n",
              "  '호',\n",
              "  '지난',\n",
              "  '채취',\n",
              "  '표본',\n",
              "  '담긴',\n",
              "  '캡슐',\n",
              "  '분리',\n",
              "  '해',\n",
              "  '호주',\n",
              "  '서부',\n",
              "  '사막',\n",
              "  '떨어뜨리고',\n",
              "  '새',\n",
              "  '탐사',\n",
              "  '지인',\n",
              "  '지구',\n",
              "  '화성',\n",
              "  '사이',\n",
              "  '도',\n",
              "  '소행성',\n",
              "  '향',\n",
              "  '했다'],\n",
              " ['하야부사',\n",
              "  '호가',\n",
              "  '동안',\n",
              "  '비행',\n",
              "  '거리',\n",
              "  '로',\n",
              "  '이는',\n",
              "  '지구',\n",
              "  '달',\n",
              "  '사이',\n",
              "  '평균',\n",
              "  '거리',\n",
              "  '배',\n",
              "  '달'],\n",
              " ['하야부사',\n",
              "  '호가',\n",
              "  '탐사',\n",
              "  '류구',\n",
              "  '바위',\n",
              "  '돌',\n",
              "  '소행성',\n",
              "  '지름',\n",
              "  '공전주기',\n",
              "  '자전주기',\n",
              "  '태양계',\n",
              "  '형성',\n",
              "  '당시',\n",
              "  '물질',\n",
              "  '고스',\n",
              "  '란',\n",
              "  '남아있을',\n",
              "  '것',\n",
              "  '추정',\n",
              "  '돼',\n",
              "  '가치',\n",
              "  '매우',\n",
              "  '곧',\n",
              "  '이번',\n",
              "  '탐사선',\n",
              "  '가져온',\n",
              "  '표본',\n",
              "  '태양계',\n",
              "  '지구',\n",
              "  '탄생',\n",
              "  '비밀',\n",
              "  '풀어줄',\n",
              "  '단서',\n",
              "  '담겨있을',\n",
              "  '수']]"
            ]
          },
          "metadata": {
            "tags": []
          },
          "execution_count": 61
        }
      ]
    },
    {
      "cell_type": "code",
      "metadata": {
        "id": "uPDSwhJ7zpd0"
      },
      "source": [
        "model_pos = Word2Vec(sentences = news_token_pos, size = 128, window = 5, min_count = 2)"
      ],
      "execution_count": 62,
      "outputs": []
    },
    {
      "cell_type": "code",
      "metadata": {
        "id": "3G76sv7Xz4QL",
        "colab": {
          "base_uri": "https://localhost:8080/"
        },
        "outputId": "a21aae17-06b3-4f12-f333-d3462347a753"
      },
      "source": [
        "print(model_pos)"
      ],
      "execution_count": 63,
      "outputs": [
        {
          "output_type": "stream",
          "text": [
            "Word2Vec(vocab=35, size=128, alpha=0.025)\n"
          ],
          "name": "stdout"
        }
      ]
    },
    {
      "cell_type": "code",
      "metadata": {
        "id": "vfjQk6kgz49P",
        "colab": {
          "base_uri": "https://localhost:8080/"
        },
        "outputId": "bac4d33e-1458-4837-cade-fa250a3bc3e1"
      },
      "source": [
        "model_pos.wv.index2word"
      ],
      "execution_count": 64,
      "outputs": [
        {
          "output_type": "execute_result",
          "data": {
            "text/plain": [
              "['하야부사',\n",
              " '소행성',\n",
              " '류구',\n",
              " '표본',\n",
              " '해',\n",
              " '지구',\n",
              " '호가',\n",
              " '일본',\n",
              " '채취',\n",
              " '달',\n",
              " '가져온',\n",
              " '이는',\n",
              " '지난',\n",
              " '호',\n",
              " '물질',\n",
              " '탐사선',\n",
              " '의',\n",
              " '공개',\n",
              " '됐다',\n",
              " '우주',\n",
              " '항공',\n",
              " '연구개발',\n",
              " '기구',\n",
              " '하는',\n",
              " '배',\n",
              " '떨어진',\n",
              " '내부',\n",
              " '호주',\n",
              " '사막',\n",
              " '캡슐',\n",
              " '향',\n",
              " '탐사',\n",
              " '사이',\n",
              " '거리',\n",
              " '태양계']"
            ]
          },
          "metadata": {
            "tags": []
          },
          "execution_count": 64
        }
      ]
    },
    {
      "cell_type": "code",
      "metadata": {
        "id": "HPKGlF4y0Bv_",
        "colab": {
          "base_uri": "https://localhost:8080/"
        },
        "outputId": "0b19d83c-238e-4d63-ef4d-f5673f936073"
      },
      "source": [
        "from sklearn.decomposition import PCA\r\n",
        "pca = PCA(n_components=2)\r\n",
        "X = model_pos[model_pos.wv.vocab]\r\n",
        "result_pos = pca.fit_transform(X)"
      ],
      "execution_count": 65,
      "outputs": [
        {
          "output_type": "stream",
          "text": [
            "/usr/local/lib/python3.6/dist-packages/ipykernel_launcher.py:3: DeprecationWarning: Call to deprecated `__getitem__` (Method will be removed in 4.0.0, use self.wv.__getitem__() instead).\n",
            "  This is separate from the ipykernel package so we can avoid doing imports until\n"
          ],
          "name": "stderr"
        }
      ]
    },
    {
      "cell_type": "code",
      "metadata": {
        "id": "RTLyrrK80Qz6",
        "colab": {
          "base_uri": "https://localhost:8080/",
          "height": 873
        },
        "outputId": "9d5f2a49-9ab3-4b95-d6f3-316d0d71eae3"
      },
      "source": [
        "plt.rcParams[\"font.size\"] = 20\r\n",
        "plt.rcParams[\"figure.figsize\"] = (20,15)\r\n",
        "plt.scatter(result_pos[:, 0], result_pos[:, 1])\r\n",
        "words = list(model_pos.wv.vocab)\r\n",
        "for i, word in enumerate(words):\r\n",
        "\tplt.annotate(word, xy=(result_pos[i, 0], result_pos[i, 1]))\r\n",
        "\r\n",
        "# 그래프에서 마이너스 폰트 깨지는 문제에 대한 대처\r\n",
        "mpl.rcParams['axes.unicode_minus'] = False\r\n",
        "\r\n",
        "plt.show()"
      ],
      "execution_count": 66,
      "outputs": [
        {
          "output_type": "display_data",
          "data": {
            "image/png": "[encoded data removed]",
            "text/plain": [
              "<Figure size 1440x1080 with 1 Axes>"
            ]
          },
          "metadata": {
            "tags": [],
            "needs_background": "light"
          }
        }
      ]
    },
    {
      "cell_type": "code",
      "metadata": {
        "id": "GZfzBp6P0ras"
      },
      "source": [
        ""
      ],
      "execution_count": null,
      "outputs": []
    }
  ]
}