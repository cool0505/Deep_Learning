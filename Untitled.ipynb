{
 "cells": [
  {
   "cell_type": "markdown",
   "metadata": {},
   "source": [
    "# NLP(Natural Language Processing) 기초"
   ]
  },
  {
   "cell_type": "code",
   "execution_count": 10,
   "metadata": {},
   "outputs": [
    {
     "name": "stdout",
     "output_type": "stream",
     "text": [
      "[0 0 1]\n",
      "[1 1 2 0]\n"
     ]
    }
   ],
   "source": [
    "from sklearn.preprocessing import LabelEncoder\n",
    "import numpy as np\n",
    "# define example\n",
    "data1 = ['빨강', '빨강', '파랑']\n",
    "data2 = ['빨강', '빨강', '파랑', '노랑']\n",
    "data1 = np.array(data1)\n",
    "data2 = np.array(data2)\n",
    "label_encoder1 = LabelEncoder()\n",
    "label_encoder2 = LabelEncoder() \n",
    "vec1 = label_encoder1.fit_transform(data1)\n",
    "vec2 = label_encoder2.fit_transform(data2)\n",
    "print(vec1)\n",
    "print(vec2)"
   ]
  },
  {
   "cell_type": "code",
   "execution_count": 11,
   "metadata": {},
   "outputs": [
    {
     "name": "stdout",
     "output_type": "stream",
     "text": [
      "['빨강' '파랑']\n",
      "['노랑' '빨강' '파랑']\n"
     ]
    }
   ],
   "source": [
    "print(label_encoder1.classes_)\n",
    "print(label_encoder2.classes_)"
   ]
  },
  {
   "cell_type": "code",
   "execution_count": 5,
   "metadata": {},
   "outputs": [
    {
     "name": "stdout",
     "output_type": "stream",
     "text": [
      "['노랑' '빨강' '초록' '파랑']\n",
      "['노랑' '빨강' '파랑']\n"
     ]
    }
   ],
   "source": [
    "print(label_encoder1.classes_)\n",
    "print(label_encoder2.classes_)\n"
   ]
  },
  {
   "cell_type": "code",
   "execution_count": 14,
   "metadata": {},
   "outputs": [
    {
     "name": "stdout",
     "output_type": "stream",
     "text": [
      "[[1. 0.]\n",
      " [1. 0.]\n",
      " [0. 1.]]\n",
      "[[0. 1. 0.]\n",
      " [0. 1. 0.]\n",
      " [0. 0. 1.]\n",
      " [1. 0. 0.]]\n"
     ]
    }
   ],
   "source": [
    "from keras.utils import to_categorical\n",
    "encoded1 = to_categorical(vec1)\n",
    "encoded2 = to_categorical(vec2)\n",
    "print(encoded1)\n",
    "print(encoded2)"
   ]
  },
  {
   "cell_type": "code",
   "execution_count": 17,
   "metadata": {},
   "outputs": [
    {
     "name": "stdout",
     "output_type": "stream",
     "text": [
      "0\n",
      "0\n",
      "['빨강']\n",
      "1\n",
      "1\n",
      "['빨강']\n"
     ]
    }
   ],
   "source": [
    "from numpy import argmax\n",
    "inverted = argmax(encoded1[1])#argmax 최대값에 해당하는 index 반환\n",
    "print(np.argmax(encoded1[1]))\n",
    "print(inverted)\n",
    "inverted_string = label_encoder1.inverse_transform([inverted])\n",
    "print(inverted_string)\n",
    "inverted = argmax(encoded2[1])#argmax 최대값에 해당하는 index 반환\n",
    "print(np.argmax(encoded2[1]))\n",
    "print(inverted)\n",
    "inverted_string = label_encoder2.inverse_transform([inverted])\n",
    "print(inverted_string)"
   ]
  },
  {
   "cell_type": "code",
   "execution_count": 18,
   "metadata": {},
   "outputs": [],
   "source": [
    "sentences = [['this', 'is', 'the', 'first', 'sentence', 'for', 'word2vec'],\n",
    "\t\t\t['this', 'is', 'the', 'second', 'sentence'],\n",
    "\t\t\t['yet', 'another', 'sentence'],\n",
    "\t\t\t['one', 'more', 'sentence'],\n",
    "\t\t\t['and', 'the', 'final', 'sentence']]"
   ]
  },
  {
   "cell_type": "code",
   "execution_count": 20,
   "metadata": {},
   "outputs": [],
   "source": [
    "from gensim.models import Word2Vec"
   ]
  },
  {
   "cell_type": "code",
   "execution_count": 21,
   "metadata": {
    "scrolled": true
   },
   "outputs": [],
   "source": [
    "model = Word2Vec(sentences, min_count=1, size=100)"
   ]
  },
  {
   "cell_type": "code",
   "execution_count": 22,
   "metadata": {},
   "outputs": [
    {
     "name": "stdout",
     "output_type": "stream",
     "text": [
      "['this', 'is', 'the', 'first', 'sentence', 'for', 'word2vec', 'second', 'yet', 'another', 'one', 'more', 'and', 'final']\n"
     ]
    }
   ],
   "source": [
    "words = list(model.wv.vocab)\n",
    "print(words)"
   ]
  },
  {
   "cell_type": "code",
   "execution_count": 45,
   "metadata": {},
   "outputs": [
    {
     "name": "stdout",
     "output_type": "stream",
     "text": [
      "[-2.0792999e-03 -2.1889843e-03 -1.4162139e-04 -2.3954953e-03\n",
      " -2.9368041e-04 -4.0485628e-04  3.0263516e-03  4.8393072e-03\n",
      " -3.1627147e-03 -2.5829913e-03  4.2138663e-03 -4.0175640e-03\n",
      "  1.5144325e-03  7.5995096e-04 -1.3020014e-03 -9.6652971e-04\n",
      "  3.6015923e-04  2.0469764e-04 -2.5585589e-03  4.0450548e-03\n",
      "  7.2136597e-04 -2.5016682e-03  9.2270813e-04 -4.7130906e-03\n",
      " -3.6379222e-03  1.1169327e-03  2.2777684e-03  4.4283853e-03\n",
      " -3.5287938e-03 -4.3545607e-03  2.0247155e-03 -7.9726800e-04\n",
      "  3.2821109e-03  1.3899220e-03  7.6842646e-04  3.4071857e-03\n",
      " -1.7836355e-03  1.8926302e-04 -1.3820635e-03 -1.1571786e-04\n",
      "  1.4466527e-03 -4.1287160e-03  2.5186581e-03 -1.5902205e-03\n",
      "  1.0620010e-03  2.4764927e-03 -4.3596816e-03  4.6727341e-03\n",
      " -1.6631093e-03  3.9671049e-03  2.5274027e-03  8.3008816e-04\n",
      " -2.1572750e-04 -2.4183677e-03  1.1924178e-04  3.5701524e-03\n",
      "  1.2239664e-03  4.9266634e-03 -4.8134816e-04 -2.7989680e-03\n",
      "  1.8693395e-03 -1.5451531e-03 -2.1891147e-03  4.0617231e-03\n",
      "  2.9119905e-03  4.8782630e-03 -3.0657293e-03  3.9292024e-03\n",
      " -6.1757135e-04 -4.9900794e-03 -2.5932076e-03  1.6189705e-03\n",
      " -4.8372275e-03  2.4583088e-03  3.9253701e-03 -8.4022577e-05\n",
      "  5.7059230e-04  1.5815982e-03  3.8840387e-03  3.0096974e-03\n",
      " -2.1224855e-03 -3.8212005e-03  3.2051208e-03  1.0903145e-03\n",
      " -4.7400906e-03 -2.0732451e-03  2.0397766e-03  1.3979281e-03\n",
      " -1.7044437e-03 -4.5706480e-04  2.9465300e-03  2.4882767e-03\n",
      "  1.2863366e-04  2.0114030e-03 -2.1952218e-03  4.5395712e-03\n",
      "  3.7262642e-03 -3.3193615e-03  4.2350572e-03 -1.9857401e-03]\n"
     ]
    }
   ],
   "source": [
    "print(model.wv['sentence'])"
   ]
  },
  {
   "cell_type": "code",
   "execution_count": 53,
   "metadata": {},
   "outputs": [
    {
     "name": "stdout",
     "output_type": "stream",
     "text": [
      "[[ 2.10779882e-03 -3.13855638e-03  3.05420836e-03  4.87372890e-04\n",
      "   4.53127781e-03  3.80412093e-03  2.07431405e-03 -4.15739883e-03\n",
      "   2.20925128e-03  2.36560637e-03 -2.55766744e-03  4.46334993e-03\n",
      "  -3.20364931e-03  8.10957747e-04 -2.67660641e-03 -4.45404323e-03\n",
      "  -1.08619523e-03 -1.70039944e-03 -3.99481459e-03 -4.75095119e-03\n",
      "   1.80910469e-03 -4.48448409e-04 -1.55988871e-03 -1.12530519e-03\n",
      "  -1.65325182e-04 -1.18265639e-03 -2.41488029e-04 -4.66308696e-03\n",
      "   1.19891876e-04  1.03417540e-03  1.20534003e-03  1.08794402e-03\n",
      "   2.76613777e-04 -2.91194854e-04 -3.55986645e-03  3.82591248e-03\n",
      "   3.23263789e-03  6.42884930e-04 -1.89934648e-03  5.66523348e-04\n",
      "  -4.61046380e-04 -2.73468974e-03 -2.57670856e-03 -9.63243772e-04\n",
      "  -3.81871522e-03  3.23397783e-03  3.44885932e-03 -1.06396037e-03\n",
      "   3.04269767e-03  3.89495981e-03 -6.10133866e-04  4.56476584e-03\n",
      "   2.81849969e-03  2.44335108e-03 -1.00370892e-03 -1.27599007e-04\n",
      "  -6.30220165e-04 -3.10663367e-03 -4.12005046e-03 -2.68730894e-03\n",
      "   1.04946585e-03  1.67601727e-04  1.46999431e-03  3.89459939e-03\n",
      "  -7.91352708e-04 -3.13409395e-03 -4.16895002e-03 -2.88788299e-03\n",
      "  -1.23148365e-03  2.18107551e-03 -1.24360807e-03 -2.31308024e-03\n",
      "   4.22846852e-03 -4.09613177e-03 -8.86803784e-04  2.34874967e-03\n",
      "  -2.92323111e-03 -4.68736654e-03  3.44441505e-03 -1.07946631e-03\n",
      "   3.20929592e-03 -4.52024071e-03  3.79983941e-03 -1.09742116e-03\n",
      "   4.27197432e-03  6.24701323e-04  3.97863286e-03  4.38161707e-03\n",
      "   3.70050501e-03  2.67192139e-03 -3.47810506e-04 -2.00511492e-03\n",
      "  -4.59431438e-03 -1.75280974e-03  1.32302230e-03  2.25232961e-03\n",
      "   9.93384747e-04 -2.41818372e-03  1.04034465e-04 -2.35953531e-03]\n",
      " [ 2.09873077e-04  5.22206770e-04  2.67711177e-04  2.48592789e-03\n",
      "  -2.08495837e-03  2.59045279e-04 -2.02509545e-05 -3.39418883e-03\n",
      "  -1.26624189e-03 -4.58674924e-03 -1.01143087e-03  3.51310894e-03\n",
      "  -4.23336262e-03 -1.29526400e-03  1.63213431e-03  3.84459179e-03\n",
      "   2.29986152e-03 -2.21593445e-03  3.32161738e-03 -2.30126525e-03\n",
      "   4.31006914e-03 -4.78591863e-03  6.20271487e-04  1.04716024e-03\n",
      "  -1.02428009e-03 -1.79489702e-03  1.29264116e-03 -3.72843555e-04\n",
      "   2.03142548e-03 -9.44890082e-04  1.72237610e-03 -1.07484648e-03\n",
      "   1.05109729e-03 -1.88587396e-03  4.80968459e-03  4.85133054e-03\n",
      "   2.04092101e-03  4.96433815e-03  1.94835418e-04 -1.35842292e-03\n",
      "   1.70190167e-03 -6.15671815e-05 -1.26450963e-03 -4.31086682e-03\n",
      "  -4.27177316e-03  3.03381612e-03 -2.68566958e-03  2.88162590e-03\n",
      "   3.55252577e-03  7.20884054e-05 -2.32193246e-03 -2.51845131e-03\n",
      "   1.51851645e-03 -1.43856206e-03  1.99197233e-03  1.62554695e-03\n",
      "  -1.98273268e-03 -2.95663089e-03 -2.37067253e-03  8.72426317e-04\n",
      "  -3.27251968e-03 -3.33725428e-03  1.11649089e-04 -4.73310892e-03\n",
      "   3.43960780e-03  1.70213741e-03 -1.56744529e-04  2.72136368e-03\n",
      "   1.75547658e-03  9.94818634e-04 -4.40957211e-03 -6.91193913e-04\n",
      "   9.04089597e-04 -4.52384399e-03  3.53340223e-03  2.12073722e-03\n",
      "  -3.04786023e-03  8.14935891e-04 -1.21892372e-03  4.88719251e-03\n",
      "  -3.62544961e-04 -3.77399754e-03 -4.76365414e-04  3.64710391e-03\n",
      "   2.92363460e-03  4.95145447e-04 -3.60849057e-03  7.83620169e-04\n",
      "   4.96054068e-03  1.80989213e-03 -3.64640029e-03 -5.57204185e-04\n",
      "  -1.52405235e-03  1.50673988e-03 -2.44047446e-03 -3.76830343e-03\n",
      "  -3.20855062e-03  3.55451670e-03 -3.42662004e-03 -3.40802176e-03]\n",
      " [-4.13359283e-03 -3.38025903e-03  1.89087179e-03  4.20449255e-03\n",
      "   3.58887273e-03  3.07844416e-03 -1.55112275e-03 -2.25858344e-03\n",
      "   4.72849095e-03  2.56492943e-03  3.65379429e-03  2.78795883e-03\n",
      "   1.65063050e-03  1.35770801e-03  4.95634647e-03 -2.14114622e-03\n",
      "   2.69636023e-03 -4.20169672e-03  1.86039426e-03  2.68700439e-03\n",
      "  -4.31599654e-03 -4.48517967e-03  1.26325048e-03 -4.90339287e-03\n",
      "  -4.06843843e-04  2.99425237e-03 -3.24155809e-03 -2.19239946e-03\n",
      "  -2.18251650e-03 -3.47044528e-03 -1.75115932e-03  2.84476974e-03\n",
      "  -2.91171291e-05  2.64465553e-03  1.74166507e-03  2.99252453e-03\n",
      "  -4.46204003e-03 -4.66973940e-03  4.82774945e-03 -4.70981142e-03\n",
      "  -6.96409610e-04  2.65250425e-03 -2.33124988e-03  2.49303761e-03\n",
      "   3.97413224e-03  3.96263925e-03  2.47131777e-03  1.77654170e-03\n",
      "   5.46099109e-05  6.31367671e-04 -4.98769339e-03 -1.15423207e-03\n",
      "   5.15832857e-04  2.58610700e-03 -2.53301114e-03 -3.05586564e-03\n",
      "  -1.34819606e-03 -4.02434776e-03  4.00952762e-03 -2.06550676e-03\n",
      "   2.12911097e-03  2.70649744e-03  4.21224209e-03  2.72513623e-03\n",
      "  -3.24368151e-03 -4.67927381e-03 -1.01683789e-03 -3.22542712e-03\n",
      "   3.38678434e-03  5.87394519e-04  3.14335432e-03  1.00386434e-03\n",
      "   5.90520736e-04 -1.69956544e-03  4.77294158e-03 -4.90356528e-04\n",
      "  -3.06750904e-03  3.46982479e-03 -4.58322978e-03 -4.94621322e-03\n",
      "   5.69894735e-04 -3.94902704e-03 -8.72429868e-04 -4.71358560e-03\n",
      "  -3.71654984e-03  4.79645329e-03 -2.00964417e-03  4.83064773e-03\n",
      "  -2.20414647e-03 -2.38557369e-03 -1.21198564e-05  5.49982651e-04\n",
      "  -3.90119338e-03  5.24382049e-04  3.43825523e-04 -1.42839772e-03\n",
      "  -7.68525992e-04  2.23354041e-03  1.05341454e-03  2.68771546e-03]\n",
      " [-3.73490504e-03  4.54999041e-03 -1.80486916e-03  3.11762025e-03\n",
      "  -4.20415401e-03  4.55977349e-03  3.25031258e-04 -1.53129164e-03\n",
      "  -3.19031463e-03 -2.68726028e-03 -7.48046848e-04  2.14544358e-03\n",
      "   2.01413943e-03 -4.27891919e-03  4.51167859e-03 -3.36051686e-03\n",
      "   3.89273581e-03 -2.93923216e-03 -3.40109318e-03 -4.55765612e-03\n",
      "   4.35424317e-03  1.00588935e-04  5.89282194e-04  3.17842606e-03\n",
      "  -1.91441344e-04  3.19977198e-03 -4.83411597e-03  4.32818336e-03\n",
      "  -3.60044441e-03 -3.83866066e-03 -5.07416145e-04 -1.64770754e-04\n",
      "  -4.70342347e-03  4.71811648e-03 -8.21503461e-04 -9.25483801e-06\n",
      "   4.54732450e-03 -3.11114010e-03 -4.46014246e-03 -3.71447112e-03\n",
      "   5.49087184e-04  3.28607135e-03 -3.84507910e-03 -1.62494346e-03\n",
      "   2.97573349e-03  9.00814077e-04 -2.46973336e-03  2.57123774e-03\n",
      "  -4.18921886e-03 -2.26391666e-03 -4.15574992e-03 -4.05416096e-04\n",
      "  -7.46928737e-04  3.84408678e-03 -2.02226476e-03 -3.93782277e-03\n",
      "  -2.89673847e-03 -1.88575534e-04 -2.39211973e-03  3.14753945e-03\n",
      "  -2.16323324e-03  3.49662709e-03 -2.32047099e-03  7.16200957e-05\n",
      "   9.03549488e-04  2.11429852e-03  7.54370296e-04 -2.77391262e-03\n",
      "   3.43443267e-03 -9.04239540e-04 -2.39742198e-03  1.89340045e-03\n",
      "  -8.80008331e-04  2.99308519e-03 -4.38008131e-03 -2.50879512e-03\n",
      "  -1.64684874e-03  2.51729670e-03 -3.60407191e-03 -4.23029251e-03\n",
      "   4.33026673e-03  4.26585670e-04  2.67784839e-04  4.48106462e-03\n",
      "   1.19109952e-03  1.93442509e-03  1.41190330e-03  2.48944445e-04\n",
      "   4.14737267e-03  1.41279644e-03 -4.89206566e-03  2.16385955e-03\n",
      "   2.37038522e-03 -4.67949128e-03  9.28776804e-04 -1.60540116e-03\n",
      "  -3.63260624e-03 -4.96595493e-03 -9.58747114e-05  5.34170773e-04]\n",
      " [-2.07929988e-03 -2.18898430e-03 -1.41621393e-04 -2.39549531e-03\n",
      "  -2.93680409e-04 -4.04856284e-04  3.02635157e-03  4.83930716e-03\n",
      "  -3.16271465e-03 -2.58299126e-03  4.21386631e-03 -4.01756400e-03\n",
      "   1.51443249e-03  7.59950955e-04 -1.30200142e-03 -9.66529711e-04\n",
      "   3.60159233e-04  2.04697644e-04 -2.55855895e-03  4.04505478e-03\n",
      "   7.21365970e-04 -2.50166818e-03  9.22708132e-04 -4.71309060e-03\n",
      "  -3.63792223e-03  1.11693272e-03  2.27776845e-03  4.42838529e-03\n",
      "  -3.52879381e-03 -4.35456075e-03  2.02471553e-03 -7.97268003e-04\n",
      "   3.28211091e-03  1.38992199e-03  7.68426456e-04  3.40718566e-03\n",
      "  -1.78363547e-03  1.89263024e-04 -1.38206349e-03 -1.15717863e-04\n",
      "   1.44665269e-03 -4.12871595e-03  2.51865806e-03 -1.59022049e-03\n",
      "   1.06200099e-03  2.47649266e-03 -4.35968162e-03  4.67273407e-03\n",
      "  -1.66310929e-03  3.96710495e-03  2.52740271e-03  8.30088160e-04\n",
      "  -2.15727501e-04 -2.41836766e-03  1.19241777e-04  3.57015245e-03\n",
      "   1.22396636e-03  4.92666336e-03 -4.81348165e-04 -2.79896799e-03\n",
      "   1.86933950e-03 -1.54515309e-03 -2.18911469e-03  4.06172313e-03\n",
      "   2.91199051e-03  4.87826299e-03 -3.06572928e-03  3.92920244e-03\n",
      "  -6.17571350e-04 -4.99007944e-03 -2.59320764e-03  1.61897053e-03\n",
      "  -4.83722752e-03  2.45830882e-03  3.92537005e-03 -8.40225766e-05\n",
      "   5.70592296e-04  1.58159819e-03  3.88403866e-03  3.00969742e-03\n",
      "  -2.12248554e-03 -3.82120046e-03  3.20512080e-03  1.09031447e-03\n",
      "  -4.74009058e-03 -2.07324512e-03  2.03977665e-03  1.39792811e-03\n",
      "  -1.70444371e-03 -4.57064802e-04  2.94653000e-03  2.48827669e-03\n",
      "   1.28633663e-04  2.01140298e-03 -2.19522184e-03  4.53957124e-03\n",
      "   3.72626423e-03 -3.31936148e-03  4.23505716e-03 -1.98574015e-03]\n",
      " [-1.29518128e-04  2.38055989e-04  5.37339889e-04  3.49773630e-03\n",
      "   4.38911235e-03 -3.04074050e-03  1.32184138e-03 -1.40249182e-03\n",
      "   6.35152799e-04 -5.82529465e-04 -4.33062157e-03  4.54897154e-03\n",
      "   2.06439756e-03  3.69583326e-03  3.97249963e-03  4.61836578e-03\n",
      "   2.80068233e-03 -4.18651896e-03 -2.77955108e-03 -5.29748155e-04\n",
      "   3.38800903e-03  4.03712242e-04 -2.53607822e-03 -2.58502504e-03\n",
      "  -4.50196210e-03  4.95033339e-03  1.30664418e-03 -3.75434465e-04\n",
      "  -4.35983157e-03 -2.50045233e-03  3.66958673e-03  3.44359269e-03\n",
      "  -3.97464680e-03  1.48303295e-03 -2.54234904e-03 -2.89336615e-03\n",
      "   2.31334497e-03  3.30227101e-03  4.30899765e-03  4.87192860e-03\n",
      "   1.44338782e-03  1.98972505e-03 -1.91924477e-03 -4.98456135e-03\n",
      "   2.65199551e-03 -3.81960697e-03  6.17720580e-05  5.09628037e-04\n",
      "  -4.51740390e-03  4.05870890e-03  4.70578112e-03 -1.87720358e-03\n",
      "  -2.84948666e-03  4.52056900e-03  2.08766689e-03  3.01261409e-03\n",
      "  -3.30618187e-03  1.61347841e-03 -5.85191650e-04 -1.21173926e-03\n",
      "  -4.39463649e-04  1.53228827e-03 -4.49647987e-03  2.10748593e-04\n",
      "   4.21539927e-03 -1.49389682e-03 -4.83401906e-04  7.52959691e-04\n",
      "   1.73437991e-03  3.92049225e-03 -3.84922768e-03 -2.94775236e-03\n",
      "  -4.48614405e-03  2.23481073e-03 -3.39788618e-03 -1.80395751e-03\n",
      "   4.46161395e-03 -1.83416915e-03 -3.93976271e-03  2.49850680e-03\n",
      "  -2.99821212e-03 -4.06756578e-03 -2.97372020e-03  3.50609119e-03\n",
      "   3.91633075e-04 -2.41539883e-03  7.46237347e-04 -3.87637154e-03\n",
      "   3.69674317e-03 -4.43040440e-03  4.97334916e-03 -1.14066573e-03\n",
      "   1.75758917e-03  3.58585129e-03 -2.13287771e-03 -2.03285459e-03\n",
      "  -4.08662669e-03  4.81935218e-03 -4.35815379e-03  3.95176653e-03]\n",
      " [-2.20286380e-03  2.18954170e-03 -4.43150336e-03 -1.22085432e-04\n",
      "   4.26307786e-03 -1.57017517e-03  4.32065967e-03  1.26364769e-03\n",
      "   1.03585806e-03 -2.52254168e-03  1.66730443e-03  2.20819004e-03\n",
      "   2.72499048e-03 -9.75661445e-04  4.81364987e-04  3.84183042e-03\n",
      "   3.33781447e-03 -4.91203833e-03  4.02774342e-04  2.73845275e-04\n",
      "   1.78559974e-03  4.23174398e-03  1.51023432e-03  3.94764543e-03\n",
      "  -7.61655610e-05 -4.69736609e-04 -4.05909494e-03 -2.00187694e-03\n",
      "  -9.59087396e-04  4.52864682e-03 -2.17471761e-03  2.02331063e-03\n",
      "   2.81735160e-03 -7.70670158e-05 -5.59631677e-04  1.93194288e-03\n",
      "  -9.76739917e-04  4.18099196e-04  1.99591205e-03  1.32808613e-03\n",
      "  -4.19595279e-03  4.81834775e-03  3.04523320e-03 -3.08181683e-04\n",
      "   1.86526647e-03  4.62980196e-03  2.87396088e-03  6.80977420e-04\n",
      "   4.90806112e-03 -3.89947891e-05 -2.45602010e-03  3.12612858e-03\n",
      "  -6.56079268e-04  1.50161446e-03  2.86363554e-03 -9.58424585e-04\n",
      "  -3.42155434e-03  3.14782956e-04  4.92922170e-03  3.14450660e-03\n",
      "  -3.76979914e-03 -3.19259078e-03 -1.13535579e-03  3.24712647e-03\n",
      "   3.20631382e-03  2.76183896e-03 -1.36228069e-03 -2.01616646e-03\n",
      "  -4.24301205e-03 -3.76927899e-03  9.77124204e-04 -4.26184572e-03\n",
      "   3.22613562e-03 -2.73398822e-04 -1.83801481e-03  3.40007665e-03\n",
      "   1.06346770e-03  4.44119191e-03 -3.73771810e-03  2.28496501e-03\n",
      "  -6.67547574e-04 -1.94880483e-03  1.98705867e-03  1.31248019e-03\n",
      "  -7.64395925e-04  4.87964926e-03  2.98134354e-03 -3.50710959e-03\n",
      "  -7.92455976e-04  4.81076632e-03  4.31629922e-03 -4.30122018e-03\n",
      "   1.55975926e-03 -1.19832437e-03  1.85965595e-03  2.06920924e-03\n",
      "  -2.28212168e-03 -1.63389475e-03 -3.31689138e-03  4.19832626e-03]]\n"
     ]
    }
   ],
   "source": [
    "print(model.wv['this', 'is', 'the', 'first', 'sentence', 'for', 'word2vec'])"
   ]
  },
  {
   "cell_type": "code",
   "execution_count": 56,
   "metadata": {},
   "outputs": [
    {
     "data": {
      "text/plain": [
       "array([[ 0.0021078 , -0.00313856,  0.00305421, ..., -0.00241818,\n",
       "         0.00010403, -0.00235954],\n",
       "       [ 0.00020987,  0.00052221,  0.00026771, ...,  0.00355452,\n",
       "        -0.00342662, -0.00340802],\n",
       "       [-0.00413359, -0.00338026,  0.00189087, ...,  0.00223354,\n",
       "         0.00105341,  0.00268772],\n",
       "       ...,\n",
       "       [-0.00329876,  0.00076017,  0.00464747, ..., -0.00191638,\n",
       "        -0.00320473, -0.00271673],\n",
       "       [ 0.00142861,  0.00336518, -0.0001087 , ...,  0.00092188,\n",
       "         0.00474969,  0.00377279],\n",
       "       [-0.00495655,  0.00362987,  0.00228343, ...,  0.00452473,\n",
       "         0.00037334,  0.00143952]], dtype=float32)"
      ]
     },
     "execution_count": 56,
     "metadata": {},
     "output_type": "execute_result"
    }
   ],
   "source": [
    "X = model.wv[model.wv.vocab]\n",
    "X"
   ]
  },
  {
   "cell_type": "code",
   "execution_count": 57,
   "metadata": {},
   "outputs": [
    {
     "data": {
      "text/plain": [
       "array([[-1.44707561e-02, -6.70151421e-05],\n",
       "       [ 5.84555697e-03, -8.95922538e-04],\n",
       "       [-1.47867184e-02,  2.33494421e-03],\n",
       "       [-2.01691478e-03,  1.64887831e-02],\n",
       "       [ 3.16146994e-03, -1.64701715e-02],\n",
       "       [ 1.55695723e-02,  1.24949077e-02],\n",
       "       [ 1.08588475e-03,  1.62887259e-03],\n",
       "       [ 1.06592709e-02, -4.66277730e-03],\n",
       "       [-1.62804790e-03, -1.55589515e-02],\n",
       "       [-2.32780189e-03,  7.46155682e-04],\n",
       "       [ 9.08556767e-03,  2.40637315e-03],\n",
       "       [-6.41725585e-03, -9.41544492e-03],\n",
       "       [-1.28118303e-02,  1.04130181e-02],\n",
       "       [ 9.05199349e-03,  5.57227992e-04]], dtype=float32)"
      ]
     },
     "execution_count": 57,
     "metadata": {},
     "output_type": "execute_result"
    }
   ],
   "source": [
    "from sklearn.decomposition import PCA\n",
    "pca = PCA(n_components=2)\n",
    "result = pca.fit_transform(X)\n",
    "result"
   ]
  },
  {
   "cell_type": "code",
   "execution_count": 58,
   "metadata": {},
   "outputs": [
    {
     "data": {
      "image/png": "[encoded data removed]",
      "text/plain": [
       "<Figure size 432x288 with 1 Axes>"
      ]
     },
     "metadata": {
      "needs_background": "light"
     },
     "output_type": "display_data"
    }
   ],
   "source": [
    "from matplotlib import pyplot\n",
    "pyplot.scatter(result[:, 0], result[:, 1])\n",
    "words = list(model.wv.vocab)\n",
    "for i, word in enumerate(words):\n",
    "\tpyplot.annotate(word, xy=(result[i, 0], result[i, 1]))\n",
    "pyplot.show()"
   ]
  },
  {
   "cell_type": "code",
   "execution_count": null,
   "metadata": {},
   "outputs": [],
   "source": []
  }
 ],
 "metadata": {
  "kernelspec": {
   "display_name": "Python 3",
   "language": "python",
   "name": "python3"
  },
  "language_info": {
   "codemirror_mode": {
    "name": "ipython",
    "version": 3
   },
   "file_extension": ".py",
   "mimetype": "text/x-python",
   "name": "python",
   "nbconvert_exporter": "python",
   "pygments_lexer": "ipython3",
   "version": "3.7.9"
  }
 },
 "nbformat": 4,
 "nbformat_minor": 4
}
