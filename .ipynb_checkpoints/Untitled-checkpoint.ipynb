{
 "cells": [
  {
   "cell_type": "markdown",
   "metadata": {},
   "source": [
    "# NLP(Natural Language Processing) 기초"
   ]
  },
  {
   "cell_type": "code",
   "execution_count": 10,
   "metadata": {},
   "outputs": [
    {
     "name": "stdout",
     "output_type": "stream",
     "text": [
      "[0 0 1]\n",
      "[1 1 2 0]\n"
     ]
    }
   ],
   "source": [
    "from sklearn.preprocessing import LabelEncoder\n",
    "import numpy as np\n",
    "# define example\n",
    "data1 = ['빨강', '빨강', '파랑']\n",
    "data2 = ['빨강', '빨강', '파랑', '노랑']\n",
    "data1 = np.array(data1)\n",
    "data2 = np.array(data2)\n",
    "label_encoder1 = LabelEncoder()\n",
    "label_encoder2 = LabelEncoder() \n",
    "vec1 = label_encoder1.fit_transform(data1)\n",
    "vec2 = label_encoder2.fit_transform(data2)\n",
    "print(vec1)\n",
    "print(vec2)"
   ]
  },
  {
   "cell_type": "code",
   "execution_count": 11,
   "metadata": {},
   "outputs": [
    {
     "name": "stdout",
     "output_type": "stream",
     "text": [
      "['빨강' '파랑']\n",
      "['노랑' '빨강' '파랑']\n"
     ]
    }
   ],
   "source": [
    "print(label_encoder1.classes_)\n",
    "print(label_encoder2.classes_)"
   ]
  },
  {
   "cell_type": "code",
   "execution_count": 5,
   "metadata": {},
   "outputs": [
    {
     "name": "stdout",
     "output_type": "stream",
     "text": [
      "['노랑' '빨강' '초록' '파랑']\n",
      "['노랑' '빨강' '파랑']\n"
     ]
    }
   ],
   "source": [
    "print(label_encoder1.classes_)\n",
    "print(label_encoder2.classes_)\n"
   ]
  },
  {
   "cell_type": "code",
   "execution_count": 14,
   "metadata": {},
   "outputs": [
    {
     "name": "stdout",
     "output_type": "stream",
     "text": [
      "[[1. 0.]\n",
      " [1. 0.]\n",
      " [0. 1.]]\n",
      "[[0. 1. 0.]\n",
      " [0. 1. 0.]\n",
      " [0. 0. 1.]\n",
      " [1. 0. 0.]]\n"
     ]
    }
   ],
   "source": [
    "from keras.utils import to_categorical\n",
    "encoded1 = to_categorical(vec1)\n",
    "encoded2 = to_categorical(vec2)\n",
    "print(encoded1)\n",
    "print(encoded2)"
   ]
  },
  {
   "cell_type": "code",
   "execution_count": 17,
   "metadata": {},
   "outputs": [
    {
     "name": "stdout",
     "output_type": "stream",
     "text": [
      "0\n",
      "0\n",
      "['빨강']\n",
      "1\n",
      "1\n",
      "['빨강']\n"
     ]
    }
   ],
   "source": [
    "from numpy import argmax\n",
    "inverted = argmax(encoded1[1])#argmax 최대값에 해당하는 index 반환\n",
    "print(np.argmax(encoded1[1]))\n",
    "print(inverted)\n",
    "inverted_string = label_encoder1.inverse_transform([inverted])\n",
    "print(inverted_string)\n",
    "inverted = argmax(encoded2[1])#argmax 최대값에 해당하는 index 반환\n",
    "print(np.argmax(encoded2[1]))\n",
    "print(inverted)\n",
    "inverted_string = label_encoder2.inverse_transform([inverted])\n",
    "print(inverted_string)"
   ]
  },
  {
   "cell_type": "code",
   "execution_count": 18,
   "metadata": {},
   "outputs": [],
   "source": [
    "sentences = [['this', 'is', 'the', 'first', 'sentence', 'for', 'word2vec'],\n",
    "\t\t\t['this', 'is', 'the', 'second', 'sentence'],\n",
    "\t\t\t['yet', 'another', 'sentence'],\n",
    "\t\t\t['one', 'more', 'sentence'],\n",
    "\t\t\t['and', 'the', 'final', 'sentence']]"
   ]
  },
  {
   "cell_type": "code",
   "execution_count": 20,
   "metadata": {},
   "outputs": [],
   "source": [
    "from gensim.models import Word2Vec"
   ]
  },
  {
   "cell_type": "code",
   "execution_count": 21,
   "metadata": {
    "scrolled": true
   },
   "outputs": [],
   "source": [
    "model = Word2Vec(sentences, min_count=1, size=100)"
   ]
  },
  {
   "cell_type": "code",
   "execution_count": 22,
   "metadata": {},
   "outputs": [
    {
     "name": "stdout",
     "output_type": "stream",
     "text": [
      "['this', 'is', 'the', 'first', 'sentence', 'for', 'word2vec', 'second', 'yet', 'another', 'one', 'more', 'and', 'final']\n"
     ]
    }
   ],
   "source": [
    "words = list(model.wv.vocab)\n",
    "print(words)"
   ]
  },
  {
   "cell_type": "code",
   "execution_count": 23,
   "metadata": {},
   "outputs": [
    {
     "name": "stdout",
     "output_type": "stream",
     "text": [
      "[-2.0792999e-03 -2.1889843e-03 -1.4162139e-04 -2.3954953e-03\n",
      " -2.9368041e-04 -4.0485628e-04  3.0263516e-03  4.8393072e-03\n",
      " -3.1627147e-03 -2.5829913e-03  4.2138663e-03 -4.0175640e-03\n",
      "  1.5144325e-03  7.5995096e-04 -1.3020014e-03 -9.6652971e-04\n",
      "  3.6015923e-04  2.0469764e-04 -2.5585589e-03  4.0450548e-03\n",
      "  7.2136597e-04 -2.5016682e-03  9.2270813e-04 -4.7130906e-03\n",
      " -3.6379222e-03  1.1169327e-03  2.2777684e-03  4.4283853e-03\n",
      " -3.5287938e-03 -4.3545607e-03  2.0247155e-03 -7.9726800e-04\n",
      "  3.2821109e-03  1.3899220e-03  7.6842646e-04  3.4071857e-03\n",
      " -1.7836355e-03  1.8926302e-04 -1.3820635e-03 -1.1571786e-04\n",
      "  1.4466527e-03 -4.1287160e-03  2.5186581e-03 -1.5902205e-03\n",
      "  1.0620010e-03  2.4764927e-03 -4.3596816e-03  4.6727341e-03\n",
      " -1.6631093e-03  3.9671049e-03  2.5274027e-03  8.3008816e-04\n",
      " -2.1572750e-04 -2.4183677e-03  1.1924178e-04  3.5701524e-03\n",
      "  1.2239664e-03  4.9266634e-03 -4.8134816e-04 -2.7989680e-03\n",
      "  1.8693395e-03 -1.5451531e-03 -2.1891147e-03  4.0617231e-03\n",
      "  2.9119905e-03  4.8782630e-03 -3.0657293e-03  3.9292024e-03\n",
      " -6.1757135e-04 -4.9900794e-03 -2.5932076e-03  1.6189705e-03\n",
      " -4.8372275e-03  2.4583088e-03  3.9253701e-03 -8.4022577e-05\n",
      "  5.7059230e-04  1.5815982e-03  3.8840387e-03  3.0096974e-03\n",
      " -2.1224855e-03 -3.8212005e-03  3.2051208e-03  1.0903145e-03\n",
      " -4.7400906e-03 -2.0732451e-03  2.0397766e-03  1.3979281e-03\n",
      " -1.7044437e-03 -4.5706480e-04  2.9465300e-03  2.4882767e-03\n",
      "  1.2863366e-04  2.0114030e-03 -2.1952218e-03  4.5395712e-03\n",
      "  3.7262642e-03 -3.3193615e-03  4.2350572e-03 -1.9857401e-03]\n"
     ]
    },
    {
     "name": "stderr",
     "output_type": "stream",
     "text": [
      "C:\\Users\\joowo\\Anaconda3\\envs\\npl_study\\lib\\site-packages\\ipykernel_launcher.py:1: DeprecationWarning: Call to deprecated `__getitem__` (Method will be removed in 4.0.0, use self.wv.__getitem__() instead).\n",
      "  \"\"\"Entry point for launching an IPython kernel.\n"
     ]
    }
   ],
   "source": [
    "print(model['sentence'])"
   ]
  },
  {
   "cell_type": "code",
   "execution_count": null,
   "metadata": {},
   "outputs": [],
   "source": []
  }
 ],
 "metadata": {
  "kernelspec": {
   "display_name": "Python 3",
   "language": "python",
   "name": "python3"
  },
  "language_info": {
   "codemirror_mode": {
    "name": "ipython",
    "version": 3
   },
   "file_extension": ".py",
   "mimetype": "text/x-python",
   "name": "python",
   "nbconvert_exporter": "python",
   "pygments_lexer": "ipython3",
   "version": "3.7.9"
  }
 },
 "nbformat": 4,
 "nbformat_minor": 4
}
